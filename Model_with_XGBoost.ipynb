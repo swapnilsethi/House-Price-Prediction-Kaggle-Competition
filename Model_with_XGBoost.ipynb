{
  "nbformat": 4,
  "nbformat_minor": 0,
  "metadata": {
    "colab": {
      "name": "Model with XGBoost.ipynb",
      "provenance": [],
      "authorship_tag": "ABX9TyMq+1kHfIe+mQfFbVgw7AKX",
      "include_colab_link": true
    },
    "kernelspec": {
      "name": "python3",
      "display_name": "Python 3"
    },
    "language_info": {
      "name": "python"
    }
  },
  "cells": [
    {
      "cell_type": "markdown",
      "metadata": {
        "id": "view-in-github",
        "colab_type": "text"
      },
      "source": [
        "<a href=\"https://colab.research.google.com/github/swapnilsethi/Stat-5000/blob/main/Model_with_XGBoost.ipynb\" target=\"_parent\"><img src=\"https://colab.research.google.com/assets/colab-badge.svg\" alt=\"Open In Colab\"/></a>"
      ]
    },
    {
      "cell_type": "markdown",
      "metadata": {
        "id": "424qNUBnImYO"
      },
      "source": [
        "# **XGBoost (eXtreme Gradient Boosting)**"
      ]
    },
    {
      "cell_type": "code",
      "metadata": {
        "id": "u1_uxxFo8apW"
      },
      "source": [
        "import pandas as pd\n",
        "import numpy as np\n",
        "import matplotlib.pyplot as plt\n",
        "import seaborn as sns\n",
        "import sklearn\n",
        "from sklearn.model_selection import train_test_split\n",
        "from sklearn import metrics\n",
        "import xgboost as xgb\n",
        "from sklearn.metrics import mean_squared_error\n",
        "import math\n",
        "from yellowbrick.regressor import residuals_plot\n",
        "from yellowbrick.regressor import prediction_error\n",
        "pd.pandas.set_option('display.max_columns',None)  #To display all columns "
      ],
      "execution_count": null,
      "outputs": []
    },
    {
      "cell_type": "markdown",
      "metadata": {
        "id": "IeIP6a53MVaZ"
      },
      "source": [
        "**Import data**"
      ]
    },
    {
      "cell_type": "code",
      "metadata": {
        "id": "Z5zz2r5v8frH"
      },
      "source": [
        "URL = (\"https://raw.githubusercontent.com/swapnilsethi/Stat-5000/master/X_train.csv\")\n",
        "data = pd.read_csv(URL)\n",
        "#print(data)\n",
        "Feature_kept_for_replacement_detection = [feature for feature in data if '_nan' in feature]\n",
        "#print(Feature_kept_for_replacement_detection)\n",
        "data = data.drop(Feature_kept_for_replacement_detection,1)\n",
        "X = data.drop(['Unnamed: 0', 'Id','SalePrice','Unnamed: 0'],1)\n",
        "Y = (data['SalePrice']).to_frame()\n",
        "X_train,X_test,y_train,y_test = train_test_split(X,Y,test_size=0.2,random_state=42)\n",
        "Y = Y.to_numpy()\n",
        "y_train= y_train.to_numpy()\n",
        "y_test = y_test.to_numpy()"
      ],
      "execution_count": null,
      "outputs": []
    },
    {
      "cell_type": "markdown",
      "metadata": {
        "id": "5utF1QgFMbMM"
      },
      "source": [
        "**Model Design**"
      ]
    },
    {
      "cell_type": "code",
      "metadata": {
        "id": "_NiQiRE19Y6n"
      },
      "source": [
        "data_dmatrix = xgb.DMatrix(data=X_train,label=y_train)"
      ],
      "execution_count": null,
      "outputs": []
    },
    {
      "cell_type": "code",
      "metadata": {
        "id": "8yWijh6A-DOK"
      },
      "source": [
        "xg_reg = xgb.XGBRegressor(objective ='reg:squarederror', random_state=42, learning_rate=0.111)"
      ],
      "execution_count": null,
      "outputs": []
    },
    {
      "cell_type": "code",
      "metadata": {
        "colab": {
          "base_uri": "https://localhost:8080/"
        },
        "id": "oFAN2bLv-b03",
        "outputId": "a1cffb1e-9df1-4516-df18-716c42328204"
      },
      "source": [
        "xg_reg.fit(X_train,y_train)"
      ],
      "execution_count": null,
      "outputs": [
        {
          "output_type": "execute_result",
          "data": {
            "text/plain": [
              "XGBRegressor(learning_rate=0.111, objective='reg:squarederror', random_state=42)"
            ]
          },
          "metadata": {},
          "execution_count": 207
        }
      ]
    },
    {
      "cell_type": "code",
      "metadata": {
        "id": "TFGE3oEG---9"
      },
      "source": [
        "preds = xg_reg.predict(X_test)"
      ],
      "execution_count": null,
      "outputs": []
    },
    {
      "cell_type": "code",
      "metadata": {
        "colab": {
          "base_uri": "https://localhost:8080/"
        },
        "id": "lu-0H39A_D1k",
        "outputId": "85c74929-305f-4707-8d9d-b76569a3a296"
      },
      "source": [
        "def evaluate(model, test_features, test_labels):\n",
        "    predictions = model.predict(test_features)\n",
        "    errors = abs(predictions - test_labels)\n",
        "    mse = sklearn.metrics.mean_squared_error(np.log(test_labels),np.log(predictions))\n",
        "    RMSE = math.sqrt(mse)\n",
        "    print('Model Performance')\n",
        "    print('RMSE: {:0.4f} degrees.'.format(RMSE))\n",
        "    return RMSE\n",
        "XGB_accuracy = evaluate(xg_reg, X_test, y_test)"
      ],
      "execution_count": null,
      "outputs": [
        {
          "output_type": "stream",
          "name": "stdout",
          "text": [
            "Model Performance\n",
            "RMSE: 0.1338 degrees.\n"
          ]
        }
      ]
    },
    {
      "cell_type": "markdown",
      "metadata": {
        "id": "LOl8mhvfvL_r"
      },
      "source": [
        "Without any hyperparamter tuning, I got RMSE of 0.1338. Which is better than the RF model."
      ]
    },
    {
      "cell_type": "markdown",
      "metadata": {
        "id": "UAg73pDEtR19"
      },
      "source": [
        "# **Making Predications on actual Test data**"
      ]
    },
    {
      "cell_type": "code",
      "metadata": {
        "id": "yQ7rJPJ8tV_c"
      },
      "source": [
        "# Reading test data\n",
        "URL = \"https://raw.githubusercontent.com/swapnilsethi/Stat-5000/master/X_test.csv\"\n",
        "\n",
        "# Removing unwanted columns\n",
        "test_data = pd.read_csv(URL)\n",
        "Feature_kept_for_replacement_detection = [feature for feature in test_data if '_nan' in feature]\n",
        "#print(Feature_kept_for_replacement_detection)\n",
        "test_data = test_data.drop(Feature_kept_for_replacement_detection,1)\n",
        "ID = test_data.iloc[:, 1].values \n",
        "test_data= test_data.drop(['Unnamed: 0', 'Id'],1)\n",
        "\n",
        "# Making Predications\n",
        "\n",
        "Y_pred = xg_reg.predict(test_data)"
      ],
      "execution_count": null,
      "outputs": []
    },
    {
      "cell_type": "markdown",
      "metadata": {
        "id": "wwr4H8Mota5e"
      },
      "source": [
        "Now that I've created predictions with our model, but since this is a Kaggle competition problem, I can submit the prediction file and have it checked for correctness."
      ]
    },
    {
      "cell_type": "markdown",
      "metadata": {
        "id": "CgQwJBwltfCc"
      },
      "source": [
        "**Predication File Generator**"
      ]
    },
    {
      "cell_type": "code",
      "metadata": {
        "id": "wE6xvG9ptiNg"
      },
      "source": [
        "def Predications_file_generator(predications): \n",
        "    pred = pd.DataFrame(ID, columns=['Id'])\n",
        "    pred['SalePrice'] = predications.tolist()\n",
        "\n",
        "    pred.to_csv('pred.csv')\n",
        "    files.download('pred.csv')"
      ],
      "execution_count": null,
      "outputs": []
    },
    {
      "cell_type": "code",
      "metadata": {
        "id": "hEDIS2G9tm6p"
      },
      "source": [
        "Predications_file_generator(Y_pred)"
      ],
      "execution_count": null,
      "outputs": []
    },
    {
      "cell_type": "markdown",
      "metadata": {
        "id": "m--9lc2anmxE"
      },
      "source": [
        "\n",
        "On actual data I got RMSE Of 0.13387. Which is far better than what I was able to achieve by Random Forest Model\n",
        "\n"
      ]
    },
    {
      "cell_type": "code",
      "metadata": {
        "colab": {
          "base_uri": "https://localhost:8080/",
          "height": 480
        },
        "id": "L8SzWndosPgj",
        "outputId": "fe4c1720-fbbd-40f8-e8b8-d2c9eb97ffc3"
      },
      "source": [
        "# Making the Prediction Error Plot\n",
        "print(\"\\nPrediction Error Plot\")\n",
        "print(prediction_error(xg_reg, X_train, y_train, X_test, y_test))"
      ],
      "execution_count": null,
      "outputs": [
        {
          "output_type": "stream",
          "name": "stdout",
          "text": [
            "\n",
            "Prediction Error Plot\n"
          ]
        },
        {
          "output_type": "display_data",
          "data": {
            "image/png": "[encoded data removed]",
            "text/plain": [
              "<Figure size 576x396 with 1 Axes>"
            ]
          },
          "metadata": {}
        },
        {
          "output_type": "stream",
          "name": "stdout",
          "text": [
            "PredictionError(ax=<matplotlib.axes._subplots.AxesSubplot object at 0x7f9f6784aa90>,\n",
            "                estimator=XGBRegressor(learning_rate=0.111,\n",
            "                                       objective='reg:squarederror',\n",
            "                                       random_state=42))\n"
          ]
        }
      ]
    },
    {
      "cell_type": "markdown",
      "metadata": {
        "id": "bIacB9jaxNGL"
      },
      "source": [
        "See that most of the points are on a straight line. Compare this plot against the 45-degree line, where the prediction exactly matches the model. In general, the predictions follow the actual house prices."
      ]
    },
    {
      "cell_type": "markdown",
      "metadata": {
        "id": "9iI0Dep0q7s0"
      },
      "source": [
        "# **Hyperparameter Tuning**"
      ]
    },
    {
      "cell_type": "code",
      "metadata": {
        "colab": {
          "base_uri": "https://localhost:8080/"
        },
        "id": "htMF6SI2onwR",
        "outputId": "47fe20ca-2f0e-4358-8714-346f67cd8291"
      },
      "source": [
        "from pprint import pprint\n",
        "# Look at parameters used by our base model\n",
        "print('Parameters currently in use:\\n')\n",
        "pprint(xg_reg.get_params())"
      ],
      "execution_count": null,
      "outputs": [
        {
          "output_type": "stream",
          "name": "stdout",
          "text": [
            "Parameters currently in use:\n",
            "\n",
            "{'base_score': 0.5,\n",
            " 'booster': 'gbtree',\n",
            " 'colsample_bylevel': 1,\n",
            " 'colsample_bynode': 1,\n",
            " 'colsample_bytree': 1,\n",
            " 'gamma': 0,\n",
            " 'importance_type': 'gain',\n",
            " 'learning_rate': 0.111,\n",
            " 'max_delta_step': 0,\n",
            " 'max_depth': 3,\n",
            " 'min_child_weight': 1,\n",
            " 'missing': None,\n",
            " 'n_estimators': 100,\n",
            " 'n_jobs': 1,\n",
            " 'nthread': None,\n",
            " 'objective': 'reg:squarederror',\n",
            " 'random_state': 42,\n",
            " 'reg_alpha': 0,\n",
            " 'reg_lambda': 1,\n",
            " 'scale_pos_weight': 1,\n",
            " 'seed': None,\n",
            " 'silent': None,\n",
            " 'subsample': 1,\n",
            " 'verbosity': 1}\n"
          ]
        }
      ]
    },
    {
      "cell_type": "markdown",
      "metadata": {
        "id": "rDNnkrxEMt9b"
      },
      "source": [
        "**Design Hyperparamter Grid**"
      ]
    },
    {
      "cell_type": "code",
      "metadata": {
        "colab": {
          "base_uri": "https://localhost:8080/"
        },
        "id": "j600Vc0joxns",
        "outputId": "132c225b-b647-4239-aff9-17368884f491"
      },
      "source": [
        "#Random Hyperparameter Grid \n",
        "from sklearn.model_selection import RandomizedSearchCV\n",
        "\n",
        "# Number of trees in random forest\n",
        "n_estimators = [int(x) for x in np.linspace(start = 100, stop = 1000, num = 10)]\n",
        "\n",
        "# Maximum number of levels in tree\n",
        "max_depth = [int(x) for x in np.linspace(1, 100, num = 5)]\n",
        "max_depth.append(1)\n",
        "\n",
        "# Learning Rate\n",
        "learning_rate = [0.07, 0.09, 0.1, 0.11,0.111, 0.12]\n",
        "\n",
        "# Fraction of columns to be randomly sampled for each tree\n",
        "colsample_bytree = [0.3, 0.4, 0.5, 0.6, 0.8]\n",
        "\n",
        "\n",
        "# Create the random grid\n",
        "random_grid = {'n_estimators': n_estimators,\n",
        "               'max_depth': max_depth,\n",
        "               'learning_rate': learning_rate,\n",
        "               'colsample_bytree': colsample_bytree\n",
        "               }\n",
        "pprint(random_grid)"
      ],
      "execution_count": null,
      "outputs": [
        {
          "output_type": "stream",
          "name": "stdout",
          "text": [
            "{'colsample_bytree': [0.3, 0.4, 0.5, 0.6, 0.8],\n",
            " 'learning_rate': [0.07, 0.09, 0.1, 0.11, 0.111, 0.12],\n",
            " 'max_depth': [1, 25, 50, 75, 100, 1],\n",
            " 'n_estimators': [100, 200, 300, 400, 500, 600, 700, 800, 900, 1000]}\n"
          ]
        }
      ]
    },
    {
      "cell_type": "markdown",
      "metadata": {
        "id": "dJVr9kBoMy_u"
      },
      "source": [
        "**Random Search**"
      ]
    },
    {
      "cell_type": "code",
      "metadata": {
        "colab": {
          "base_uri": "https://localhost:8080/"
        },
        "id": "okirKyyEyraD",
        "outputId": "6dd0186c-01ef-45d0-c0ca-49beca47538f"
      },
      "source": [
        "# Use the random grid to search for best hyperparameters\n",
        "# First create the base model to tune\n",
        "XGB_regressor = xgb.XGBRegressor(objective ='reg:squarederror')\n",
        "# Random search of parameters, using 5 fold cross validation, \n",
        "# search across 100 different combinations, and use all available cores\n",
        "# n_jobs =  Number of jobs to run in parallel; verbose = Controls the verbosity when fitting and predicting.\n",
        "XGB_random = RandomizedSearchCV(estimator = XGB_regressor, param_distributions = random_grid, n_iter = 100, cv = 3, random_state=42, n_jobs = 10)\n",
        "# Fit the random search model\n",
        "XGB_random.fit(X_train, y_train)"
      ],
      "execution_count": null,
      "outputs": [
        {
          "output_type": "execute_result",
          "data": {
            "text/plain": [
              "RandomizedSearchCV(cv=3, estimator=XGBRegressor(objective='reg:squarederror'),\n",
              "                   n_iter=100, n_jobs=10,\n",
              "                   param_distributions={'colsample_bytree': [0.3, 0.4, 0.5, 0.6,\n",
              "                                                             0.8],\n",
              "                                        'learning_rate': [0.07, 0.09, 0.1, 0.11,\n",
              "                                                          0.111, 0.12],\n",
              "                                        'max_depth': [1, 25, 50, 75, 100, 1],\n",
              "                                        'n_estimators': [100, 200, 300, 400,\n",
              "                                                         500, 600, 700, 800,\n",
              "                                                         900, 1000]},\n",
              "                   random_state=42)"
            ]
          },
          "metadata": {},
          "execution_count": 216
        }
      ]
    },
    {
      "cell_type": "code",
      "metadata": {
        "id": "BtS1Ra9-zg0L",
        "colab": {
          "base_uri": "https://localhost:8080/"
        },
        "outputId": "a2c1f838-dfd5-4048-9c21-da5deaa84b41"
      },
      "source": [
        "XGB_random.best_params_"
      ],
      "execution_count": null,
      "outputs": [
        {
          "output_type": "execute_result",
          "data": {
            "text/plain": [
              "{'colsample_bytree': 0.4,\n",
              " 'learning_rate': 0.07,\n",
              " 'max_depth': 50,\n",
              " 'n_estimators': 400}"
            ]
          },
          "metadata": {},
          "execution_count": 217
        }
      ]
    },
    {
      "cell_type": "markdown",
      "metadata": {
        "id": "XxPTAXiAzq0H"
      },
      "source": [
        "Now, I am training my model with above parameters"
      ]
    },
    {
      "cell_type": "code",
      "metadata": {
        "id": "djTf3abjznGD",
        "colab": {
          "base_uri": "https://localhost:8080/"
        },
        "outputId": "f6ed0dbe-4263-47ce-c6d4-99bf899d3d20"
      },
      "source": [
        "xgb_tuned_regressor = xgb.XGBRegressor(objective ='reg:squarederror',\n",
        " max_depth= 100,\n",
        " colsample_bytree= 0.38,\n",
        " learning_rate= 0.071,\n",
        " n_estimators= 100)\n",
        "xgb_tuned_regressor.fit(X_train, y_train)"
      ],
      "execution_count": null,
      "outputs": [
        {
          "output_type": "execute_result",
          "data": {
            "text/plain": [
              "XGBRegressor(colsample_bytree=0.38, learning_rate=0.071, max_depth=100,\n",
              "             objective='reg:squarederror')"
            ]
          },
          "metadata": {},
          "execution_count": 316
        }
      ]
    },
    {
      "cell_type": "code",
      "metadata": {
        "colab": {
          "base_uri": "https://localhost:8080/"
        },
        "id": "u3G4UM4ZFF-p",
        "outputId": "2a64c7b7-642d-4b6f-8f49-ee2ccb4410d8"
      },
      "source": [
        "Hyperparameter_model = evaluate(xgb_tuned_regressor, X_test, y_test)"
      ],
      "execution_count": null,
      "outputs": [
        {
          "output_type": "stream",
          "name": "stdout",
          "text": [
            "Model Performance\n",
            "RMSE: 0.1384 degrees.\n"
          ]
        }
      ]
    },
    {
      "cell_type": "markdown",
      "metadata": {
        "id": "oAEFUHEdM8wa"
      },
      "source": [
        "With Hyperparamter tuning RMSE is not decreasing, which I think because of dataset size. I've to think something else to reduce RMSE further than tuning."
      ]
    },
    {
      "cell_type": "code",
      "metadata": {
        "id": "fLtO4KXcG1ak"
      },
      "source": [
        "Y_pred = xgb_tuned_regressor.predict(test_data)"
      ],
      "execution_count": null,
      "outputs": []
    },
    {
      "cell_type": "code",
      "metadata": {
        "id": "I0un1ZWnG4RL"
      },
      "source": [
        "Predications_file_generator(Y_pred)"
      ],
      "execution_count": null,
      "outputs": []
    },
    {
      "cell_type": "markdown",
      "metadata": {
        "id": "Q_7rLzQ4BlU1"
      },
      "source": [
        "**k-fold Cross Validation using XGBoost**\n"
      ]
    },
    {
      "cell_type": "code",
      "metadata": {
        "id": "w7Tya99UBkP9"
      },
      "source": [
        "params = {\"objective\":\"reg:squarederror\",'colsample_bytree': 0.3,'learning_rate': 0.01,  \n",
        "                'n_estimators': 1000, 'max_depth': 100 }"
      ],
      "execution_count": null,
      "outputs": []
    },
    {
      "cell_type": "code",
      "metadata": {
        "id": "9SwjsvtsCESs"
      },
      "source": [
        "cv_results = xgb.cv(dtrain=data_dmatrix, params=params, nfold=3,\n",
        "                    num_boost_round=50,early_stopping_rounds=10,metrics=\"rmse\", as_pandas=True, seed=123)"
      ],
      "execution_count": null,
      "outputs": []
    },
    {
      "cell_type": "code",
      "metadata": {
        "colab": {
          "base_uri": "https://localhost:8080/",
          "height": 204
        },
        "id": "0ziNc9KhCIbl",
        "outputId": "7929466c-a41a-452b-ffb8-b781e82b9fe6"
      },
      "source": [
        "cv_results.head()"
      ],
      "execution_count": null,
      "outputs": [
        {
          "output_type": "execute_result",
          "data": {
            "text/html": [
              "<div>\n",
              "<style scoped>\n",
              "    .dataframe tbody tr th:only-of-type {\n",
              "        vertical-align: middle;\n",
              "    }\n",
              "\n",
              "    .dataframe tbody tr th {\n",
              "        vertical-align: top;\n",
              "    }\n",
              "\n",
              "    .dataframe thead th {\n",
              "        text-align: right;\n",
              "    }\n",
              "</style>\n",
              "<table border=\"1\" class=\"dataframe\">\n",
              "  <thead>\n",
              "    <tr style=\"text-align: right;\">\n",
              "      <th></th>\n",
              "      <th>train-rmse-mean</th>\n",
              "      <th>train-rmse-std</th>\n",
              "      <th>test-rmse-mean</th>\n",
              "      <th>test-rmse-std</th>\n",
              "    </tr>\n",
              "  </thead>\n",
              "  <tbody>\n",
              "    <tr>\n",
              "      <th>0</th>\n",
              "      <td>195325.416667</td>\n",
              "      <td>1505.242196</td>\n",
              "      <td>195340.546875</td>\n",
              "      <td>3030.878887</td>\n",
              "    </tr>\n",
              "    <tr>\n",
              "      <th>1</th>\n",
              "      <td>193489.984375</td>\n",
              "      <td>1496.664255</td>\n",
              "      <td>193512.390625</td>\n",
              "      <td>3004.951337</td>\n",
              "    </tr>\n",
              "    <tr>\n",
              "      <th>2</th>\n",
              "      <td>191668.828125</td>\n",
              "      <td>1495.745693</td>\n",
              "      <td>191733.208333</td>\n",
              "      <td>2987.057342</td>\n",
              "    </tr>\n",
              "    <tr>\n",
              "      <th>3</th>\n",
              "      <td>189866.317708</td>\n",
              "      <td>1493.466754</td>\n",
              "      <td>189948.828125</td>\n",
              "      <td>2968.838987</td>\n",
              "    </tr>\n",
              "    <tr>\n",
              "      <th>4</th>\n",
              "      <td>188082.781250</td>\n",
              "      <td>1490.409658</td>\n",
              "      <td>188210.005208</td>\n",
              "      <td>2947.313428</td>\n",
              "    </tr>\n",
              "  </tbody>\n",
              "</table>\n",
              "</div>"
            ],
            "text/plain": [
              "   train-rmse-mean  train-rmse-std  test-rmse-mean  test-rmse-std\n",
              "0    195325.416667     1505.242196   195340.546875    3030.878887\n",
              "1    193489.984375     1496.664255   193512.390625    3004.951337\n",
              "2    191668.828125     1495.745693   191733.208333    2987.057342\n",
              "3    189866.317708     1493.466754   189948.828125    2968.838987\n",
              "4    188082.781250     1490.409658   188210.005208    2947.313428"
            ]
          },
          "metadata": {},
          "execution_count": 133
        }
      ]
    },
    {
      "cell_type": "code",
      "metadata": {
        "colab": {
          "base_uri": "https://localhost:8080/"
        },
        "id": "p1cLmOOtCP1M",
        "outputId": "aa862d15-caa1-4bc5-bd56-e0fd941087ec"
      },
      "source": [
        "print((cv_results[\"test-rmse-mean\"]).tail(1))\n",
        "print((cv_results[\"test-rmse-std\"]).tail(1))\n"
      ],
      "execution_count": null,
      "outputs": [
        {
          "output_type": "stream",
          "name": "stdout",
          "text": [
            "49    125186.786458\n",
            "Name: test-rmse-mean, dtype: float64\n",
            "49    3502.321145\n",
            "Name: test-rmse-std, dtype: float64\n"
          ]
        }
      ]
    }
  ]
}