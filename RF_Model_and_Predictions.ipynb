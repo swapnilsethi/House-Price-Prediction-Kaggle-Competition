{
  "nbformat": 4,
  "nbformat_minor": 0,
  "metadata": {
    "colab": {
      "name": "RF Model and Predictions.ipynb",
      "provenance": [],
      "authorship_tag": "ABX9TyNwzYFR4LkL7T3R+1zoceZ7",
      "include_colab_link": true
    },
    "kernelspec": {
      "display_name": "Python 3",
      "name": "python3"
    },
    "language_info": {
      "name": "python"
    }
  },
  "cells": [
    {
      "cell_type": "markdown",
      "metadata": {
        "id": "view-in-github",
        "colab_type": "text"
      },
      "source": [
        "<a href=\"https://colab.research.google.com/github/swapnilsethi/Stat-5000/blob/main/RF_Model_and_Predictions.ipynb\" target=\"_parent\"><img src=\"https://colab.research.google.com/assets/colab-badge.svg\" alt=\"Open In Colab\"/></a>"
      ]
    },
    {
      "cell_type": "markdown",
      "metadata": {
        "id": "lM8GpvRvVTI1"
      },
      "source": [
        "# **Regression using Random Forest**"
      ]
    },
    {
      "cell_type": "markdown",
      "metadata": {
        "id": "t_sa8pzTVdR2"
      },
      "source": [
        "A Random Forest is an ensemble technique capable of performing both regression and classification tasks with the use of multiple decision trees and a technique called Bootstrap and Aggregation, commonly known as **bagging**. "
      ]
    },
    {
      "cell_type": "markdown",
      "metadata": {
        "id": "RZjAriIlWgvA"
      },
      "source": [
        "In Short - Combine multiple decision trees instead of relying on single decision tree in determining final output.\n",
        "\n",
        "**Bootstrap** - Randomly perform row smaping and feature sampling to form sample dataset.\n",
        "\n",
        "**Aggregation** - *Classification* Probelm  - Majority voting;\n",
        "              *Regression* Probelm - mean of all outputs\n",
        "              ![image.png](data:image/png;base64,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)"
      ]
    },
    {
      "cell_type": "markdown",
      "metadata": {
        "id": "d3YK5ib_c-1R"
      },
      "source": [
        "**Code**"
      ]
    },
    {
      "cell_type": "markdown",
      "metadata": {
        "id": "4jpvSZzTdCEx"
      },
      "source": [
        "Importing all the required  -"
      ]
    },
    {
      "cell_type": "code",
      "metadata": {
        "id": "Ae55GC0cEsFL"
      },
      "source": [
        "import pandas as pd\n",
        "import numpy as np\n",
        "import matplotlib.pyplot as plt\n",
        "from matplotlib.pyplot import cm\n",
        "import seaborn as sns\n",
        "import sklearn\n",
        "from sklearn.ensemble import RandomForestRegressor\n",
        "from sklearn.model_selection import train_test_split #to split data into training and testing sets\n",
        "import math\n",
        "import sys\n",
        "np.set_printoptions(threshold=sys.maxsize)  #to display all data in array\n",
        "pd.pandas.set_option('display.max_columns',None) #to display all columns in dataframe\n",
        "from google.colab import files #to export dataframe as a csv files \n",
        "import graphviz\n",
        "from sklearn.tree import export_graphviz #to plot decision trees\n"
      ],
      "execution_count": null,
      "outputs": []
    },
    {
      "cell_type": "code",
      "metadata": {
        "id": "wEaPr8z_Ey91"
      },
      "source": [
        "# Reading feature engineered training data \n",
        "URL = (\"https://raw.githubusercontent.com/swapnilsethi/Stat-5000/master/X_train.csv\")\n",
        "data = pd.read_csv(URL)"
      ],
      "execution_count": null,
      "outputs": []
    },
    {
      "cell_type": "code",
      "metadata": {
        "colab": {
          "base_uri": "https://localhost:8080/",
          "height": 241
        },
        "id": "YnNcJRFXF1Cs",
        "outputId": "bd6a84ef-2628-4080-e76a-1a00014409a7"
      },
      "source": [
        "data.head()"
      ],
      "execution_count": null,
      "outputs": [
        {
          "output_type": "execute_result",
          "data": {
            "text/html": [
              "<div>\n",
              "<style scoped>\n",
              "    .dataframe tbody tr th:only-of-type {\n",
              "        vertical-align: middle;\n",
              "    }\n",
              "\n",
              "    .dataframe tbody tr th {\n",
              "        vertical-align: top;\n",
              "    }\n",
              "\n",
              "    .dataframe thead th {\n",
              "        text-align: right;\n",
              "    }\n",
              "</style>\n",
              "<table border=\"1\" class=\"dataframe\">\n",
              "  <thead>\n",
              "    <tr style=\"text-align: right;\">\n",
              "      <th></th>\n",
              "      <th>Unnamed: 0</th>\n",
              "      <th>Id</th>\n",
              "      <th>MSSubClass</th>\n",
              "      <th>MSZoning</th>\n",
              "      <th>LotFrontage</th>\n",
              "      <th>LotArea</th>\n",
              "      <th>Street</th>\n",
              "      <th>LotShape</th>\n",
              "      <th>LandContour</th>\n",
              "      <th>Utilities</th>\n",
              "      <th>LotConfig</th>\n",
              "      <th>LandSlope</th>\n",
              "      <th>Neighborhood</th>\n",
              "      <th>Condition1</th>\n",
              "      <th>Condition2</th>\n",
              "      <th>BldgType</th>\n",
              "      <th>HouseStyle</th>\n",
              "      <th>OverallQual</th>\n",
              "      <th>OverallCond</th>\n",
              "      <th>YearBuilt</th>\n",
              "      <th>YearRemodAdd</th>\n",
              "      <th>RoofStyle</th>\n",
              "      <th>RoofMatl</th>\n",
              "      <th>Exterior1st</th>\n",
              "      <th>Exterior2nd</th>\n",
              "      <th>MasVnrType</th>\n",
              "      <th>MasVnrArea</th>\n",
              "      <th>ExterQual</th>\n",
              "      <th>ExterCond</th>\n",
              "      <th>Foundation</th>\n",
              "      <th>BsmtQual</th>\n",
              "      <th>BsmtCond</th>\n",
              "      <th>BsmtExposure</th>\n",
              "      <th>BsmtFinType1</th>\n",
              "      <th>BsmtFinSF1</th>\n",
              "      <th>BsmtFinType2</th>\n",
              "      <th>BsmtFinSF2</th>\n",
              "      <th>BsmtUnfSF</th>\n",
              "      <th>TotalBsmtSF</th>\n",
              "      <th>Heating</th>\n",
              "      <th>HeatingQC</th>\n",
              "      <th>CentralAir</th>\n",
              "      <th>Electrical</th>\n",
              "      <th>1stFlrSF</th>\n",
              "      <th>2ndFlrSF</th>\n",
              "      <th>LowQualFinSF</th>\n",
              "      <th>GrLivArea</th>\n",
              "      <th>BsmtFullBath</th>\n",
              "      <th>BsmtHalfBath</th>\n",
              "      <th>FullBath</th>\n",
              "      <th>HalfBath</th>\n",
              "      <th>BedroomAbvGr</th>\n",
              "      <th>KitchenAbvGr</th>\n",
              "      <th>KitchenQual</th>\n",
              "      <th>TotRmsAbvGrd</th>\n",
              "      <th>Functional</th>\n",
              "      <th>Fireplaces</th>\n",
              "      <th>FireplaceQu</th>\n",
              "      <th>GarageType</th>\n",
              "      <th>GarageYrBlt</th>\n",
              "      <th>GarageFinish</th>\n",
              "      <th>GarageCars</th>\n",
              "      <th>GarageArea</th>\n",
              "      <th>GarageQual</th>\n",
              "      <th>GarageCond</th>\n",
              "      <th>PavedDrive</th>\n",
              "      <th>WoodDeckSF</th>\n",
              "      <th>OpenPorchSF</th>\n",
              "      <th>EnclosedPorch</th>\n",
              "      <th>3SsnPorch</th>\n",
              "      <th>ScreenPorch</th>\n",
              "      <th>PoolArea</th>\n",
              "      <th>MiscVal</th>\n",
              "      <th>MoSold</th>\n",
              "      <th>YrSold</th>\n",
              "      <th>SaleType</th>\n",
              "      <th>SaleCondition</th>\n",
              "      <th>SalePrice</th>\n",
              "      <th>LotFrontage_nan</th>\n",
              "      <th>MasVnrArea_nan</th>\n",
              "      <th>BsmtFinSF1_nan</th>\n",
              "      <th>BsmtFinSF2_nan</th>\n",
              "      <th>BsmtUnfSF_nan</th>\n",
              "      <th>TotalBsmtSF_nan</th>\n",
              "      <th>BsmtFullBath_nan</th>\n",
              "      <th>BsmtHalfBath_nan</th>\n",
              "      <th>GarageYrBlt_nan</th>\n",
              "      <th>GarageCars_nan</th>\n",
              "      <th>GarageArea_nan</th>\n",
              "    </tr>\n",
              "  </thead>\n",
              "  <tbody>\n",
              "    <tr>\n",
              "      <th>0</th>\n",
              "      <td>0</td>\n",
              "      <td>1</td>\n",
              "      <td>60</td>\n",
              "      <td>2</td>\n",
              "      <td>65.0</td>\n",
              "      <td>8450</td>\n",
              "      <td>1</td>\n",
              "      <td>0</td>\n",
              "      <td>1</td>\n",
              "      <td>1</td>\n",
              "      <td>0</td>\n",
              "      <td>0</td>\n",
              "      <td>11</td>\n",
              "      <td>2</td>\n",
              "      <td>1</td>\n",
              "      <td>4</td>\n",
              "      <td>5</td>\n",
              "      <td>7</td>\n",
              "      <td>5</td>\n",
              "      <td>5</td>\n",
              "      <td>5</td>\n",
              "      <td>0</td>\n",
              "      <td>0</td>\n",
              "      <td>6</td>\n",
              "      <td>6</td>\n",
              "      <td>2</td>\n",
              "      <td>196.0</td>\n",
              "      <td>2</td>\n",
              "      <td>2</td>\n",
              "      <td>3</td>\n",
              "      <td>3</td>\n",
              "      <td>3</td>\n",
              "      <td>1</td>\n",
              "      <td>6</td>\n",
              "      <td>706.0</td>\n",
              "      <td>4</td>\n",
              "      <td>0.0</td>\n",
              "      <td>150.0</td>\n",
              "      <td>856.0</td>\n",
              "      <td>1</td>\n",
              "      <td>4</td>\n",
              "      <td>1</td>\n",
              "      <td>2</td>\n",
              "      <td>856</td>\n",
              "      <td>854</td>\n",
              "      <td>0</td>\n",
              "      <td>1710</td>\n",
              "      <td>1.0</td>\n",
              "      <td>0.0</td>\n",
              "      <td>2</td>\n",
              "      <td>1</td>\n",
              "      <td>3</td>\n",
              "      <td>1</td>\n",
              "      <td>2</td>\n",
              "      <td>8</td>\n",
              "      <td>3</td>\n",
              "      <td>0</td>\n",
              "      <td>0</td>\n",
              "      <td>3</td>\n",
              "      <td>5.0</td>\n",
              "      <td>2</td>\n",
              "      <td>2.0</td>\n",
              "      <td>548.0</td>\n",
              "      <td>2</td>\n",
              "      <td>3</td>\n",
              "      <td>2</td>\n",
              "      <td>0</td>\n",
              "      <td>61</td>\n",
              "      <td>0</td>\n",
              "      <td>0</td>\n",
              "      <td>0</td>\n",
              "      <td>0</td>\n",
              "      <td>0</td>\n",
              "      <td>2</td>\n",
              "      <td>2008</td>\n",
              "      <td>2</td>\n",
              "      <td>2</td>\n",
              "      <td>208500.0</td>\n",
              "      <td>0</td>\n",
              "      <td>0</td>\n",
              "      <td>0</td>\n",
              "      <td>0</td>\n",
              "      <td>0</td>\n",
              "      <td>0</td>\n",
              "      <td>0</td>\n",
              "      <td>0</td>\n",
              "      <td>0</td>\n",
              "      <td>0</td>\n",
              "      <td>0</td>\n",
              "    </tr>\n",
              "    <tr>\n",
              "      <th>1</th>\n",
              "      <td>1</td>\n",
              "      <td>2</td>\n",
              "      <td>20</td>\n",
              "      <td>2</td>\n",
              "      <td>80.0</td>\n",
              "      <td>9600</td>\n",
              "      <td>1</td>\n",
              "      <td>0</td>\n",
              "      <td>1</td>\n",
              "      <td>1</td>\n",
              "      <td>1</td>\n",
              "      <td>0</td>\n",
              "      <td>8</td>\n",
              "      <td>1</td>\n",
              "      <td>1</td>\n",
              "      <td>4</td>\n",
              "      <td>4</td>\n",
              "      <td>6</td>\n",
              "      <td>8</td>\n",
              "      <td>31</td>\n",
              "      <td>31</td>\n",
              "      <td>0</td>\n",
              "      <td>0</td>\n",
              "      <td>1</td>\n",
              "      <td>1</td>\n",
              "      <td>0</td>\n",
              "      <td>0.0</td>\n",
              "      <td>1</td>\n",
              "      <td>2</td>\n",
              "      <td>2</td>\n",
              "      <td>3</td>\n",
              "      <td>3</td>\n",
              "      <td>4</td>\n",
              "      <td>4</td>\n",
              "      <td>978.0</td>\n",
              "      <td>4</td>\n",
              "      <td>0.0</td>\n",
              "      <td>284.0</td>\n",
              "      <td>1262.0</td>\n",
              "      <td>1</td>\n",
              "      <td>4</td>\n",
              "      <td>1</td>\n",
              "      <td>2</td>\n",
              "      <td>1262</td>\n",
              "      <td>0</td>\n",
              "      <td>0</td>\n",
              "      <td>1262</td>\n",
              "      <td>0.0</td>\n",
              "      <td>1.0</td>\n",
              "      <td>2</td>\n",
              "      <td>0</td>\n",
              "      <td>3</td>\n",
              "      <td>1</td>\n",
              "      <td>1</td>\n",
              "      <td>6</td>\n",
              "      <td>3</td>\n",
              "      <td>1</td>\n",
              "      <td>2</td>\n",
              "      <td>3</td>\n",
              "      <td>31.0</td>\n",
              "      <td>2</td>\n",
              "      <td>2.0</td>\n",
              "      <td>460.0</td>\n",
              "      <td>2</td>\n",
              "      <td>3</td>\n",
              "      <td>2</td>\n",
              "      <td>298</td>\n",
              "      <td>0</td>\n",
              "      <td>0</td>\n",
              "      <td>0</td>\n",
              "      <td>0</td>\n",
              "      <td>0</td>\n",
              "      <td>0</td>\n",
              "      <td>5</td>\n",
              "      <td>2007</td>\n",
              "      <td>2</td>\n",
              "      <td>2</td>\n",
              "      <td>181500.0</td>\n",
              "      <td>0</td>\n",
              "      <td>0</td>\n",
              "      <td>0</td>\n",
              "      <td>0</td>\n",
              "      <td>0</td>\n",
              "      <td>0</td>\n",
              "      <td>0</td>\n",
              "      <td>0</td>\n",
              "      <td>0</td>\n",
              "      <td>0</td>\n",
              "      <td>0</td>\n",
              "    </tr>\n",
              "    <tr>\n",
              "      <th>2</th>\n",
              "      <td>2</td>\n",
              "      <td>3</td>\n",
              "      <td>60</td>\n",
              "      <td>2</td>\n",
              "      <td>68.0</td>\n",
              "      <td>11250</td>\n",
              "      <td>1</td>\n",
              "      <td>1</td>\n",
              "      <td>1</td>\n",
              "      <td>1</td>\n",
              "      <td>0</td>\n",
              "      <td>0</td>\n",
              "      <td>11</td>\n",
              "      <td>2</td>\n",
              "      <td>1</td>\n",
              "      <td>4</td>\n",
              "      <td>5</td>\n",
              "      <td>7</td>\n",
              "      <td>5</td>\n",
              "      <td>7</td>\n",
              "      <td>6</td>\n",
              "      <td>0</td>\n",
              "      <td>0</td>\n",
              "      <td>6</td>\n",
              "      <td>6</td>\n",
              "      <td>2</td>\n",
              "      <td>162.0</td>\n",
              "      <td>2</td>\n",
              "      <td>2</td>\n",
              "      <td>3</td>\n",
              "      <td>3</td>\n",
              "      <td>3</td>\n",
              "      <td>2</td>\n",
              "      <td>6</td>\n",
              "      <td>486.0</td>\n",
              "      <td>4</td>\n",
              "      <td>0.0</td>\n",
              "      <td>434.0</td>\n",
              "      <td>920.0</td>\n",
              "      <td>1</td>\n",
              "      <td>4</td>\n",
              "      <td>1</td>\n",
              "      <td>2</td>\n",
              "      <td>920</td>\n",
              "      <td>866</td>\n",
              "      <td>0</td>\n",
              "      <td>1786</td>\n",
              "      <td>1.0</td>\n",
              "      <td>0.0</td>\n",
              "      <td>2</td>\n",
              "      <td>1</td>\n",
              "      <td>3</td>\n",
              "      <td>1</td>\n",
              "      <td>2</td>\n",
              "      <td>6</td>\n",
              "      <td>3</td>\n",
              "      <td>1</td>\n",
              "      <td>2</td>\n",
              "      <td>3</td>\n",
              "      <td>7.0</td>\n",
              "      <td>2</td>\n",
              "      <td>2.0</td>\n",
              "      <td>608.0</td>\n",
              "      <td>2</td>\n",
              "      <td>3</td>\n",
              "      <td>2</td>\n",
              "      <td>0</td>\n",
              "      <td>42</td>\n",
              "      <td>0</td>\n",
              "      <td>0</td>\n",
              "      <td>0</td>\n",
              "      <td>0</td>\n",
              "      <td>0</td>\n",
              "      <td>9</td>\n",
              "      <td>2008</td>\n",
              "      <td>2</td>\n",
              "      <td>2</td>\n",
              "      <td>223500.0</td>\n",
              "      <td>0</td>\n",
              "      <td>0</td>\n",
              "      <td>0</td>\n",
              "      <td>0</td>\n",
              "      <td>0</td>\n",
              "      <td>0</td>\n",
              "      <td>0</td>\n",
              "      <td>0</td>\n",
              "      <td>0</td>\n",
              "      <td>0</td>\n",
              "      <td>0</td>\n",
              "    </tr>\n",
              "    <tr>\n",
              "      <th>3</th>\n",
              "      <td>3</td>\n",
              "      <td>4</td>\n",
              "      <td>70</td>\n",
              "      <td>2</td>\n",
              "      <td>60.0</td>\n",
              "      <td>9550</td>\n",
              "      <td>1</td>\n",
              "      <td>1</td>\n",
              "      <td>1</td>\n",
              "      <td>1</td>\n",
              "      <td>2</td>\n",
              "      <td>0</td>\n",
              "      <td>12</td>\n",
              "      <td>2</td>\n",
              "      <td>1</td>\n",
              "      <td>4</td>\n",
              "      <td>5</td>\n",
              "      <td>7</td>\n",
              "      <td>5</td>\n",
              "      <td>91</td>\n",
              "      <td>36</td>\n",
              "      <td>0</td>\n",
              "      <td>0</td>\n",
              "      <td>2</td>\n",
              "      <td>2</td>\n",
              "      <td>0</td>\n",
              "      <td>0.0</td>\n",
              "      <td>1</td>\n",
              "      <td>2</td>\n",
              "      <td>1</td>\n",
              "      <td>2</td>\n",
              "      <td>4</td>\n",
              "      <td>1</td>\n",
              "      <td>4</td>\n",
              "      <td>216.0</td>\n",
              "      <td>4</td>\n",
              "      <td>0.0</td>\n",
              "      <td>540.0</td>\n",
              "      <td>756.0</td>\n",
              "      <td>1</td>\n",
              "      <td>3</td>\n",
              "      <td>1</td>\n",
              "      <td>2</td>\n",
              "      <td>961</td>\n",
              "      <td>756</td>\n",
              "      <td>0</td>\n",
              "      <td>1717</td>\n",
              "      <td>1.0</td>\n",
              "      <td>0.0</td>\n",
              "      <td>1</td>\n",
              "      <td>0</td>\n",
              "      <td>3</td>\n",
              "      <td>1</td>\n",
              "      <td>2</td>\n",
              "      <td>7</td>\n",
              "      <td>3</td>\n",
              "      <td>1</td>\n",
              "      <td>3</td>\n",
              "      <td>1</td>\n",
              "      <td>8.0</td>\n",
              "      <td>1</td>\n",
              "      <td>3.0</td>\n",
              "      <td>642.0</td>\n",
              "      <td>2</td>\n",
              "      <td>3</td>\n",
              "      <td>2</td>\n",
              "      <td>0</td>\n",
              "      <td>35</td>\n",
              "      <td>272</td>\n",
              "      <td>0</td>\n",
              "      <td>0</td>\n",
              "      <td>0</td>\n",
              "      <td>0</td>\n",
              "      <td>2</td>\n",
              "      <td>2006</td>\n",
              "      <td>2</td>\n",
              "      <td>0</td>\n",
              "      <td>140000.0</td>\n",
              "      <td>0</td>\n",
              "      <td>0</td>\n",
              "      <td>0</td>\n",
              "      <td>0</td>\n",
              "      <td>0</td>\n",
              "      <td>0</td>\n",
              "      <td>0</td>\n",
              "      <td>0</td>\n",
              "      <td>0</td>\n",
              "      <td>0</td>\n",
              "      <td>0</td>\n",
              "    </tr>\n",
              "    <tr>\n",
              "      <th>4</th>\n",
              "      <td>4</td>\n",
              "      <td>5</td>\n",
              "      <td>60</td>\n",
              "      <td>2</td>\n",
              "      <td>84.0</td>\n",
              "      <td>14260</td>\n",
              "      <td>1</td>\n",
              "      <td>1</td>\n",
              "      <td>1</td>\n",
              "      <td>1</td>\n",
              "      <td>1</td>\n",
              "      <td>0</td>\n",
              "      <td>16</td>\n",
              "      <td>2</td>\n",
              "      <td>1</td>\n",
              "      <td>4</td>\n",
              "      <td>5</td>\n",
              "      <td>8</td>\n",
              "      <td>5</td>\n",
              "      <td>8</td>\n",
              "      <td>8</td>\n",
              "      <td>0</td>\n",
              "      <td>0</td>\n",
              "      <td>6</td>\n",
              "      <td>6</td>\n",
              "      <td>2</td>\n",
              "      <td>350.0</td>\n",
              "      <td>2</td>\n",
              "      <td>2</td>\n",
              "      <td>3</td>\n",
              "      <td>3</td>\n",
              "      <td>3</td>\n",
              "      <td>3</td>\n",
              "      <td>6</td>\n",
              "      <td>655.0</td>\n",
              "      <td>4</td>\n",
              "      <td>0.0</td>\n",
              "      <td>490.0</td>\n",
              "      <td>1145.0</td>\n",
              "      <td>1</td>\n",
              "      <td>4</td>\n",
              "      <td>1</td>\n",
              "      <td>2</td>\n",
              "      <td>1145</td>\n",
              "      <td>1053</td>\n",
              "      <td>0</td>\n",
              "      <td>2198</td>\n",
              "      <td>1.0</td>\n",
              "      <td>0.0</td>\n",
              "      <td>2</td>\n",
              "      <td>1</td>\n",
              "      <td>4</td>\n",
              "      <td>1</td>\n",
              "      <td>2</td>\n",
              "      <td>9</td>\n",
              "      <td>3</td>\n",
              "      <td>1</td>\n",
              "      <td>2</td>\n",
              "      <td>3</td>\n",
              "      <td>8.0</td>\n",
              "      <td>2</td>\n",
              "      <td>3.0</td>\n",
              "      <td>836.0</td>\n",
              "      <td>2</td>\n",
              "      <td>3</td>\n",
              "      <td>2</td>\n",
              "      <td>192</td>\n",
              "      <td>84</td>\n",
              "      <td>0</td>\n",
              "      <td>0</td>\n",
              "      <td>0</td>\n",
              "      <td>0</td>\n",
              "      <td>0</td>\n",
              "      <td>12</td>\n",
              "      <td>2008</td>\n",
              "      <td>2</td>\n",
              "      <td>2</td>\n",
              "      <td>250000.0</td>\n",
              "      <td>0</td>\n",
              "      <td>0</td>\n",
              "      <td>0</td>\n",
              "      <td>0</td>\n",
              "      <td>0</td>\n",
              "      <td>0</td>\n",
              "      <td>0</td>\n",
              "      <td>0</td>\n",
              "      <td>0</td>\n",
              "      <td>0</td>\n",
              "      <td>0</td>\n",
              "    </tr>\n",
              "  </tbody>\n",
              "</table>\n",
              "</div>"
            ],
            "text/plain": [
              "   Unnamed: 0  Id  MSSubClass  MSZoning  LotFrontage  LotArea  Street  \\\n",
              "0           0   1          60         2         65.0     8450       1   \n",
              "1           1   2          20         2         80.0     9600       1   \n",
              "2           2   3          60         2         68.0    11250       1   \n",
              "3           3   4          70         2         60.0     9550       1   \n",
              "4           4   5          60         2         84.0    14260       1   \n",
              "\n",
              "   LotShape  LandContour  Utilities  LotConfig  LandSlope  Neighborhood  \\\n",
              "0         0            1          1          0          0            11   \n",
              "1         0            1          1          1          0             8   \n",
              "2         1            1          1          0          0            11   \n",
              "3         1            1          1          2          0            12   \n",
              "4         1            1          1          1          0            16   \n",
              "\n",
              "   Condition1  Condition2  BldgType  HouseStyle  OverallQual  OverallCond  \\\n",
              "0           2           1         4           5            7            5   \n",
              "1           1           1         4           4            6            8   \n",
              "2           2           1         4           5            7            5   \n",
              "3           2           1         4           5            7            5   \n",
              "4           2           1         4           5            8            5   \n",
              "\n",
              "   YearBuilt  YearRemodAdd  RoofStyle  RoofMatl  Exterior1st  Exterior2nd  \\\n",
              "0          5             5          0         0            6            6   \n",
              "1         31            31          0         0            1            1   \n",
              "2          7             6          0         0            6            6   \n",
              "3         91            36          0         0            2            2   \n",
              "4          8             8          0         0            6            6   \n",
              "\n",
              "   MasVnrType  MasVnrArea  ExterQual  ExterCond  Foundation  BsmtQual  \\\n",
              "0           2       196.0          2          2           3         3   \n",
              "1           0         0.0          1          2           2         3   \n",
              "2           2       162.0          2          2           3         3   \n",
              "3           0         0.0          1          2           1         2   \n",
              "4           2       350.0          2          2           3         3   \n",
              "\n",
              "   BsmtCond  BsmtExposure  BsmtFinType1  BsmtFinSF1  BsmtFinType2  BsmtFinSF2  \\\n",
              "0         3             1             6       706.0             4         0.0   \n",
              "1         3             4             4       978.0             4         0.0   \n",
              "2         3             2             6       486.0             4         0.0   \n",
              "3         4             1             4       216.0             4         0.0   \n",
              "4         3             3             6       655.0             4         0.0   \n",
              "\n",
              "   BsmtUnfSF  TotalBsmtSF  Heating  HeatingQC  CentralAir  Electrical  \\\n",
              "0      150.0        856.0        1          4           1           2   \n",
              "1      284.0       1262.0        1          4           1           2   \n",
              "2      434.0        920.0        1          4           1           2   \n",
              "3      540.0        756.0        1          3           1           2   \n",
              "4      490.0       1145.0        1          4           1           2   \n",
              "\n",
              "   1stFlrSF  2ndFlrSF  LowQualFinSF  GrLivArea  BsmtFullBath  BsmtHalfBath  \\\n",
              "0       856       854             0       1710           1.0           0.0   \n",
              "1      1262         0             0       1262           0.0           1.0   \n",
              "2       920       866             0       1786           1.0           0.0   \n",
              "3       961       756             0       1717           1.0           0.0   \n",
              "4      1145      1053             0       2198           1.0           0.0   \n",
              "\n",
              "   FullBath  HalfBath  BedroomAbvGr  KitchenAbvGr  KitchenQual  TotRmsAbvGrd  \\\n",
              "0         2         1             3             1            2             8   \n",
              "1         2         0             3             1            1             6   \n",
              "2         2         1             3             1            2             6   \n",
              "3         1         0             3             1            2             7   \n",
              "4         2         1             4             1            2             9   \n",
              "\n",
              "   Functional  Fireplaces  FireplaceQu  GarageType  GarageYrBlt  GarageFinish  \\\n",
              "0           3           0            0           3          5.0             2   \n",
              "1           3           1            2           3         31.0             2   \n",
              "2           3           1            2           3          7.0             2   \n",
              "3           3           1            3           1          8.0             1   \n",
              "4           3           1            2           3          8.0             2   \n",
              "\n",
              "   GarageCars  GarageArea  GarageQual  GarageCond  PavedDrive  WoodDeckSF  \\\n",
              "0         2.0       548.0           2           3           2           0   \n",
              "1         2.0       460.0           2           3           2         298   \n",
              "2         2.0       608.0           2           3           2           0   \n",
              "3         3.0       642.0           2           3           2           0   \n",
              "4         3.0       836.0           2           3           2         192   \n",
              "\n",
              "   OpenPorchSF  EnclosedPorch  3SsnPorch  ScreenPorch  PoolArea  MiscVal  \\\n",
              "0           61              0          0            0         0        0   \n",
              "1            0              0          0            0         0        0   \n",
              "2           42              0          0            0         0        0   \n",
              "3           35            272          0            0         0        0   \n",
              "4           84              0          0            0         0        0   \n",
              "\n",
              "   MoSold  YrSold  SaleType  SaleCondition  SalePrice  LotFrontage_nan  \\\n",
              "0       2    2008         2              2   208500.0                0   \n",
              "1       5    2007         2              2   181500.0                0   \n",
              "2       9    2008         2              2   223500.0                0   \n",
              "3       2    2006         2              0   140000.0                0   \n",
              "4      12    2008         2              2   250000.0                0   \n",
              "\n",
              "   MasVnrArea_nan  BsmtFinSF1_nan  BsmtFinSF2_nan  BsmtUnfSF_nan  \\\n",
              "0               0               0               0              0   \n",
              "1               0               0               0              0   \n",
              "2               0               0               0              0   \n",
              "3               0               0               0              0   \n",
              "4               0               0               0              0   \n",
              "\n",
              "   TotalBsmtSF_nan  BsmtFullBath_nan  BsmtHalfBath_nan  GarageYrBlt_nan  \\\n",
              "0                0                 0                 0                0   \n",
              "1                0                 0                 0                0   \n",
              "2                0                 0                 0                0   \n",
              "3                0                 0                 0                0   \n",
              "4                0                 0                 0                0   \n",
              "\n",
              "   GarageCars_nan  GarageArea_nan  \n",
              "0               0               0  \n",
              "1               0               0  \n",
              "2               0               0  \n",
              "3               0               0  \n",
              "4               0               0  "
            ]
          },
          "metadata": {},
          "execution_count": 3
        }
      ]
    },
    {
      "cell_type": "code",
      "metadata": {
        "id": "5wBISNRic8C4"
      },
      "source": [
        "#dropping unwanted columns\n",
        "nan_replacer_identification_columns = [feature for feature in data if 'nan' in feature]\n",
        "\n",
        "data = data.drop(['Unnamed: 0'],axis=1)\n",
        "data = data.drop(nan_replacer_identification_columns, axis=1)"
      ],
      "execution_count": null,
      "outputs": []
    },
    {
      "cell_type": "code",
      "metadata": {
        "id": "rz3r7q1CffnL"
      },
      "source": [
        "X = data.drop(['SalePrice'],1)    #Features\n",
        "Y = (data['SalePrice']).to_frame()  #labels"
      ],
      "execution_count": null,
      "outputs": []
    },
    {
      "cell_type": "code",
      "metadata": {
        "id": "bVXtt4Lg7tH-"
      },
      "source": [
        "X = np.array(X)\n",
        "Y = np.array(Y) "
      ],
      "execution_count": null,
      "outputs": []
    },
    {
      "cell_type": "markdown",
      "metadata": {
        "id": "LIPg01W3fx8e"
      },
      "source": [
        "Now, we will split training data into two sections - train and test."
      ]
    },
    {
      "cell_type": "code",
      "metadata": {
        "id": "ZVZgu1o9e4kY"
      },
      "source": [
        "X_train,X_test,y_train,y_test = train_test_split(X,Y,test_size=0.3,random_state=42)"
      ],
      "execution_count": null,
      "outputs": []
    },
    {
      "cell_type": "markdown",
      "metadata": {
        "id": "gJa55olK09Y-"
      },
      "source": [
        "Let's take a quick look at number of training and testing features and the labels :"
      ]
    },
    {
      "cell_type": "code",
      "metadata": {
        "colab": {
          "base_uri": "https://localhost:8080/"
        },
        "id": "PmVD5EYX085c",
        "outputId": "5721164f-876b-4c43-9190-5380b6ed5353"
      },
      "source": [
        "print('Training Features Shape:', X_train.shape)\n",
        "print('Training Labels Shape:', y_train.shape)\n",
        "print('Testing Features Shape:', X_test.shape)\n",
        "print('Testing Labels Shape:', y_test.shape)"
      ],
      "execution_count": null,
      "outputs": [
        {
          "output_type": "stream",
          "name": "stdout",
          "text": [
            "Training Features Shape: (1022, 76)\n",
            "Training Labels Shape: (1022, 1)\n",
            "Testing Features Shape: (438, 76)\n",
            "Testing Labels Shape: (438, 1)\n"
          ]
        }
      ]
    },
    {
      "cell_type": "markdown",
      "metadata": {
        "id": "T1DhLtP61aKy"
      },
      "source": [
        "It looks as if everything is in order!"
      ]
    },
    {
      "cell_type": "code",
      "metadata": {
        "id": "wIdMudej8GmS"
      },
      "source": [
        "y_train = y_train.flatten()\n",
        "y_test =y_test.flatten()"
      ],
      "execution_count": null,
      "outputs": []
    },
    {
      "cell_type": "markdown",
      "metadata": {
        "id": "5NmxMpdf3_6s"
      },
      "source": [
        "# **Train Model**"
      ]
    },
    {
      "cell_type": "markdown",
      "metadata": {
        "id": "S3-iELCp4QQz"
      },
      "source": [
        "Now I am done with data preparation, let's start creating and training the model.\n",
        " \n",
        "I already imported the random forest regression model from skicit-learn. "
      ]
    },
    {
      "cell_type": "markdown",
      "metadata": {
        "id": "egx1Cpz8eNXA"
      },
      "source": [
        "In intital, we will use 100 decision tress and random_state = 42 (Controls the randomsness of bootstrpping)"
      ]
    },
    {
      "cell_type": "code",
      "metadata": {
        "id": "24Hg1f7_HLZY"
      },
      "source": [
        "# Instantiate model with 100 decision trees\n",
        "base_model_regressor = RandomForestRegressor(n_estimators = 100, random_state = 42)"
      ],
      "execution_count": null,
      "outputs": []
    },
    {
      "cell_type": "code",
      "metadata": {
        "colab": {
          "base_uri": "https://localhost:8080/"
        },
        "id": "Pdw9ihH4H1rw",
        "outputId": "4d21897e-b014-4786-c7da-9e087684d2ba"
      },
      "source": [
        "# Train the model on training data\n",
        "base_model_regressor.fit(X_train, y_train)  "
      ],
      "execution_count": null,
      "outputs": [
        {
          "output_type": "execute_result",
          "data": {
            "text/plain": [
              "RandomForestRegressor(random_state=42)"
            ]
          },
          "metadata": {},
          "execution_count": 13
        }
      ]
    },
    {
      "cell_type": "markdown",
      "metadata": {
        "id": "u_7R_1btkqRV"
      },
      "source": [
        "Now I'm attempting to illustrate decision tree in order to better comprehend the model."
      ]
    },
    {
      "cell_type": "code",
      "metadata": {
        "id": "pvpBFCGIkkZ1",
        "colab": {
          "base_uri": "https://localhost:8080/",
          "height": 1000
        },
        "outputId": "318a391c-2a4c-4931-a46a-19a36a707a56"
      },
      "source": [
        "dot_data = export_graphviz(base_model_regressor.estimators_[0],    ##0th node or 1St decision tree\n",
        "                           feature_names=data.drop('SalePrice',axis=1).columns,\n",
        "                           filled=True, impurity=True, \n",
        "                           rounded=True, max_depth = 5, rotate = True)\n",
        "\n",
        "DecisonTree = graphviz.Source(dot_data, format='png')\n",
        "DecisonTree"
      ],
      "execution_count": null,
      "outputs": [
        {
          "output_type": "execute_result",
          "data": {
            "text/plain": [
              "<graphviz.files.Source at 0x7f67d3984250>"
            ],
            "image/svg+xml": "<?xml version=\"1.0\" encoding=\"UTF-8\" standalone=\"no\"?>\n<!DOCTYPE svg PUBLIC \"-//W3C//DTD SVG 1.1//EN\"\n \"http://www.w3.org/Graphics/SVG/1.1/DTD/svg11.dtd\">\n<!-- Generated by graphviz version 2.40.1 (20161225.0304)\n -->\n<!-- Title: Tree Pages: 1 -->\n<svg width=\"1704pt\" height=\"2845pt\"\n viewBox=\"0.00 0.00 1704.00 2845.00\" xmlns=\"http://www.w3.org/2000/svg\" xmlns:xlink=\"http://www.w3.org/1999/xlink\">\n<g id=\"graph0\" class=\"graph\" transform=\"scale(1 1) rotate(0) translate(4 2841)\">\n<title>Tree</title>\n<polygon fill=\"#ffffff\" stroke=\"transparent\" points=\"-4,4 -4,-2841 1700,-2841 1700,4 -4,4\"/>\n<!-- 0 -->\n<g id=\"node1\" class=\"node\">\n<title>0</title>\n<path fill=\"#fae5d7\" stroke=\"#000000\" d=\"M223,-1125C223,-1125 12,-1125 12,-1125 6,-1125 0,-1119 0,-1113 0,-1113 0,-1069 0,-1069 0,-1063 6,-1057 12,-1057 12,-1057 223,-1057 223,-1057 229,-1057 235,-1063 235,-1069 235,-1069 235,-1113 235,-1113 235,-1119 229,-1125 223,-1125\"/>\n<text text-anchor=\"middle\" x=\"117.5\" y=\"-1109.8\" font-family=\"Helvetica,sans-Serif\" font-size=\"14.00\" fill=\"#000000\">OverallQual &lt;= 7.5</text>\n<text text-anchor=\"middle\" x=\"117.5\" y=\"-1094.8\" font-family=\"Helvetica,sans-Serif\" font-size=\"14.00\" fill=\"#000000\">squared_error = 6326571034.785</text>\n<text text-anchor=\"middle\" x=\"117.5\" y=\"-1079.8\" font-family=\"Helvetica,sans-Serif\" font-size=\"14.00\" fill=\"#000000\">samples = 640</text>\n<text text-anchor=\"middle\" x=\"117.5\" y=\"-1064.8\" font-family=\"Helvetica,sans-Serif\" font-size=\"14.00\" fill=\"#000000\">value = 179919.612</text>\n</g>\n<!-- 1 -->\n<g id=\"node2\" class=\"node\">\n<title>1</title>\n<path fill=\"#fbe9dd\" stroke=\"#000000\" d=\"M498,-1584C498,-1584 287,-1584 287,-1584 281,-1584 275,-1578 275,-1572 275,-1572 275,-1528 275,-1528 275,-1522 281,-1516 287,-1516 287,-1516 498,-1516 498,-1516 504,-1516 510,-1522 510,-1528 510,-1528 510,-1572 510,-1572 510,-1578 504,-1584 498,-1584\"/>\n<text text-anchor=\"middle\" x=\"392.5\" y=\"-1568.8\" font-family=\"Helvetica,sans-Serif\" font-size=\"14.00\" fill=\"#000000\">GrLivArea &lt;= 1489.5</text>\n<text text-anchor=\"middle\" x=\"392.5\" y=\"-1553.8\" font-family=\"Helvetica,sans-Serif\" font-size=\"14.00\" fill=\"#000000\">squared_error = 2295635856.396</text>\n<text text-anchor=\"middle\" x=\"392.5\" y=\"-1538.8\" font-family=\"Helvetica,sans-Serif\" font-size=\"14.00\" fill=\"#000000\">samples = 544</text>\n<text text-anchor=\"middle\" x=\"392.5\" y=\"-1523.8\" font-family=\"Helvetica,sans-Serif\" font-size=\"14.00\" fill=\"#000000\">value = 157573.914</text>\n</g>\n<!-- 0&#45;&gt;1 -->\n<g id=\"edge1\" class=\"edge\">\n<title>0&#45;&gt;1</title>\n<path fill=\"none\" stroke=\"#000000\" d=\"M137.945,-1125.1246C187.2754,-1207.4615 312.7489,-1416.8882 366.9365,-1507.3323\"/>\n<polygon fill=\"#000000\" stroke=\"#000000\" points=\"363.9654,-1509.1833 372.1073,-1515.9627 369.9701,-1505.5856 363.9654,-1509.1833\"/>\n<text text-anchor=\"middle\" x=\"347.8576\" y=\"-1506.1837\" font-family=\"Helvetica,sans-Serif\" font-size=\"14.00\" fill=\"#000000\">True</text>\n</g>\n<!-- 1040 -->\n<g id=\"node65\" class=\"node\">\n<title>1040</title>\n<path fill=\"#f5cfb3\" stroke=\"#000000\" d=\"M502,-709C502,-709 283,-709 283,-709 277,-709 271,-703 271,-697 271,-697 271,-653 271,-653 271,-647 277,-641 283,-641 283,-641 502,-641 502,-641 508,-641 514,-647 514,-653 514,-653 514,-697 514,-697 514,-703 508,-709 502,-709\"/>\n<text text-anchor=\"middle\" x=\"392.5\" y=\"-693.8\" font-family=\"Helvetica,sans-Serif\" font-size=\"14.00\" fill=\"#000000\">GrLivArea &lt;= 2816.0</text>\n<text text-anchor=\"middle\" x=\"392.5\" y=\"-678.8\" font-family=\"Helvetica,sans-Serif\" font-size=\"14.00\" fill=\"#000000\">squared_error = 10182024929.905</text>\n<text text-anchor=\"middle\" x=\"392.5\" y=\"-663.8\" font-family=\"Helvetica,sans-Serif\" font-size=\"14.00\" fill=\"#000000\">samples = 96</text>\n<text text-anchor=\"middle\" x=\"392.5\" y=\"-648.8\" font-family=\"Helvetica,sans-Serif\" font-size=\"14.00\" fill=\"#000000\">value = 307819.329</text>\n</g>\n<!-- 0&#45;&gt;1040 -->\n<g id=\"edge64\" class=\"edge\">\n<title>0&#45;&gt;1040</title>\n<path fill=\"none\" stroke=\"#000000\" d=\"M140.0044,-1056.957C189.8713,-981.5219 309.5728,-800.4463 364.3159,-717.6349\"/>\n<polygon fill=\"#000000\" stroke=\"#000000\" points=\"367.2829,-719.4933 369.8778,-709.2212 361.4435,-715.6331 367.2829,-719.4933\"/>\n<text text-anchor=\"middle\" x=\"345.3826\" y=\"-710.5195\" font-family=\"Helvetica,sans-Serif\" font-size=\"14.00\" fill=\"#000000\">False</text>\n</g>\n<!-- 2 -->\n<g id=\"node3\" class=\"node\">\n<title>2</title>\n<path fill=\"#fbede3\" stroke=\"#000000\" d=\"M768.5,-2229C768.5,-2229 574.5,-2229 574.5,-2229 568.5,-2229 562.5,-2223 562.5,-2217 562.5,-2217 562.5,-2173 562.5,-2173 562.5,-2167 568.5,-2161 574.5,-2161 574.5,-2161 768.5,-2161 768.5,-2161 774.5,-2161 780.5,-2167 780.5,-2173 780.5,-2173 780.5,-2217 780.5,-2217 780.5,-2223 774.5,-2229 768.5,-2229\"/>\n<text text-anchor=\"middle\" x=\"671.5\" y=\"-2213.8\" font-family=\"Helvetica,sans-Serif\" font-size=\"14.00\" fill=\"#000000\">GarageCars &lt;= 1.5</text>\n<text text-anchor=\"middle\" x=\"671.5\" y=\"-2198.8\" font-family=\"Helvetica,sans-Serif\" font-size=\"14.00\" fill=\"#000000\">squared_error = 1093122522.9</text>\n<text text-anchor=\"middle\" x=\"671.5\" y=\"-2183.8\" font-family=\"Helvetica,sans-Serif\" font-size=\"14.00\" fill=\"#000000\">samples = 321</text>\n<text text-anchor=\"middle\" x=\"671.5\" y=\"-2168.8\" font-family=\"Helvetica,sans-Serif\" font-size=\"14.00\" fill=\"#000000\">value = 134810.612</text>\n</g>\n<!-- 1&#45;&gt;2 -->\n<g id=\"edge2\" class=\"edge\">\n<title>1&#45;&gt;2</title>\n<path fill=\"none\" stroke=\"#000000\" d=\"M407.3033,-1584.2226C454.3582,-1693.0054 600.4683,-2030.7869 652.6993,-2151.5361\"/>\n<polygon fill=\"#000000\" stroke=\"#000000\" points=\"649.5499,-2153.0712 656.7324,-2160.8598 655.9746,-2150.2921 649.5499,-2153.0712\"/>\n</g>\n<!-- 617 -->\n<g id=\"node34\" class=\"node\">\n<title>617</title>\n<path fill=\"#f9e3d3\" stroke=\"#000000\" d=\"M777,-1584C777,-1584 566,-1584 566,-1584 560,-1584 554,-1578 554,-1572 554,-1572 554,-1528 554,-1528 554,-1522 560,-1516 566,-1516 566,-1516 777,-1516 777,-1516 783,-1516 789,-1522 789,-1528 789,-1528 789,-1572 789,-1572 789,-1578 783,-1584 777,-1584\"/>\n<text text-anchor=\"middle\" x=\"671.5\" y=\"-1568.8\" font-family=\"Helvetica,sans-Serif\" font-size=\"14.00\" fill=\"#000000\">YearBuilt &lt;= 40.5</text>\n<text text-anchor=\"middle\" x=\"671.5\" y=\"-1553.8\" font-family=\"Helvetica,sans-Serif\" font-size=\"14.00\" fill=\"#000000\">squared_error = 2117114532.425</text>\n<text text-anchor=\"middle\" x=\"671.5\" y=\"-1538.8\" font-family=\"Helvetica,sans-Serif\" font-size=\"14.00\" fill=\"#000000\">samples = 223</text>\n<text text-anchor=\"middle\" x=\"671.5\" y=\"-1523.8\" font-family=\"Helvetica,sans-Serif\" font-size=\"14.00\" fill=\"#000000\">value = 192717.257</text>\n</g>\n<!-- 1&#45;&gt;617 -->\n<g id=\"edge33\" class=\"edge\">\n<title>1&#45;&gt;617</title>\n<path fill=\"none\" stroke=\"#000000\" d=\"M510.0125,-1550C521.0724,-1550 532.3214,-1550 543.472,-1550\"/>\n<polygon fill=\"#000000\" stroke=\"#000000\" points=\"543.6765,-1553.5001 553.6765,-1550 543.6764,-1546.5001 543.6765,-1553.5001\"/>\n</g>\n<!-- 3 -->\n<g id=\"node4\" class=\"node\">\n<title>3</title>\n<path fill=\"#fcf1e9\" stroke=\"#000000\" d=\"M1048,-2556C1048,-2556 845,-2556 845,-2556 839,-2556 833,-2550 833,-2544 833,-2544 833,-2500 833,-2500 833,-2494 839,-2488 845,-2488 845,-2488 1048,-2488 1048,-2488 1054,-2488 1060,-2494 1060,-2500 1060,-2500 1060,-2544 1060,-2544 1060,-2550 1054,-2556 1048,-2556\"/>\n<text text-anchor=\"middle\" x=\"946.5\" y=\"-2540.8\" font-family=\"Helvetica,sans-Serif\" font-size=\"14.00\" fill=\"#000000\">TotalBsmtSF &lt;= 965.5</text>\n<text text-anchor=\"middle\" x=\"946.5\" y=\"-2525.8\" font-family=\"Helvetica,sans-Serif\" font-size=\"14.00\" fill=\"#000000\">squared_error = 627040851.988</text>\n<text text-anchor=\"middle\" x=\"946.5\" y=\"-2510.8\" font-family=\"Helvetica,sans-Serif\" font-size=\"14.00\" fill=\"#000000\">samples = 152</text>\n<text text-anchor=\"middle\" x=\"946.5\" y=\"-2495.8\" font-family=\"Helvetica,sans-Serif\" font-size=\"14.00\" fill=\"#000000\">value = 113790.336</text>\n</g>\n<!-- 2&#45;&gt;3 -->\n<g id=\"edge3\" class=\"edge\">\n<title>2&#45;&gt;3</title>\n<path fill=\"none\" stroke=\"#000000\" d=\"M700.1516,-2229.0693C750.7816,-2289.2731 855.9143,-2414.2853 911.0326,-2479.826\"/>\n<polygon fill=\"#000000\" stroke=\"#000000\" points=\"908.3843,-2482.1149 917.4994,-2487.5156 913.7417,-2477.6095 908.3843,-2482.1149\"/>\n</g>\n<!-- 292 -->\n<g id=\"node19\" class=\"node\">\n<title>292</title>\n<path fill=\"#fbeade\" stroke=\"#000000\" d=\"M1048,-2229C1048,-2229 845,-2229 845,-2229 839,-2229 833,-2223 833,-2217 833,-2217 833,-2173 833,-2173 833,-2167 839,-2161 845,-2161 845,-2161 1048,-2161 1048,-2161 1054,-2161 1060,-2167 1060,-2173 1060,-2173 1060,-2217 1060,-2217 1060,-2223 1054,-2229 1048,-2229\"/>\n<text text-anchor=\"middle\" x=\"946.5\" y=\"-2213.8\" font-family=\"Helvetica,sans-Serif\" font-size=\"14.00\" fill=\"#000000\">GrLivArea &lt;= 1131.0</text>\n<text text-anchor=\"middle\" x=\"946.5\" y=\"-2198.8\" font-family=\"Helvetica,sans-Serif\" font-size=\"14.00\" fill=\"#000000\">squared_error = 815406338.333</text>\n<text text-anchor=\"middle\" x=\"946.5\" y=\"-2183.8\" font-family=\"Helvetica,sans-Serif\" font-size=\"14.00\" fill=\"#000000\">samples = 169</text>\n<text text-anchor=\"middle\" x=\"946.5\" y=\"-2168.8\" font-family=\"Helvetica,sans-Serif\" font-size=\"14.00\" fill=\"#000000\">value = 152061.734</text>\n</g>\n<!-- 2&#45;&gt;292 -->\n<g id=\"edge18\" class=\"edge\">\n<title>2&#45;&gt;292</title>\n<path fill=\"none\" stroke=\"#000000\" d=\"M780.5823,-2195C794.3385,-2195 808.4916,-2195 822.4577,-2195\"/>\n<polygon fill=\"#000000\" stroke=\"#000000\" points=\"822.5858,-2198.5001 832.5858,-2195 822.5858,-2191.5001 822.5858,-2198.5001\"/>\n</g>\n<!-- 4 -->\n<g id=\"node5\" class=\"node\">\n<title>4</title>\n<path fill=\"#fcf2eb\" stroke=\"#000000\" d=\"M1314.5,-2702C1314.5,-2702 1120.5,-2702 1120.5,-2702 1114.5,-2702 1108.5,-2696 1108.5,-2690 1108.5,-2690 1108.5,-2646 1108.5,-2646 1108.5,-2640 1114.5,-2634 1120.5,-2634 1120.5,-2634 1314.5,-2634 1314.5,-2634 1320.5,-2634 1326.5,-2640 1326.5,-2646 1326.5,-2646 1326.5,-2690 1326.5,-2690 1326.5,-2696 1320.5,-2702 1314.5,-2702\"/>\n<text text-anchor=\"middle\" x=\"1217.5\" y=\"-2686.8\" font-family=\"Helvetica,sans-Serif\" font-size=\"14.00\" fill=\"#000000\">CentralAir &lt;= 0.5</text>\n<text text-anchor=\"middle\" x=\"1217.5\" y=\"-2671.8\" font-family=\"Helvetica,sans-Serif\" font-size=\"14.00\" fill=\"#000000\">squared_error = 489733316.32</text>\n<text text-anchor=\"middle\" x=\"1217.5\" y=\"-2656.8\" font-family=\"Helvetica,sans-Serif\" font-size=\"14.00\" fill=\"#000000\">samples = 110</text>\n<text text-anchor=\"middle\" x=\"1217.5\" y=\"-2641.8\" font-family=\"Helvetica,sans-Serif\" font-size=\"14.00\" fill=\"#000000\">value = 105921.512</text>\n</g>\n<!-- 3&#45;&gt;4 -->\n<g id=\"edge4\" class=\"edge\">\n<title>3&#45;&gt;4</title>\n<path fill=\"none\" stroke=\"#000000\" d=\"M1009.6954,-2556.0463C1050.2881,-2577.9154 1103.1244,-2606.3807 1145.3608,-2629.1353\"/>\n<polygon fill=\"#000000\" stroke=\"#000000\" points=\"1143.7407,-2632.2381 1154.2044,-2633.8998 1147.0608,-2626.0755 1143.7407,-2632.2381\"/>\n</g>\n<!-- 213 -->\n<g id=\"node12\" class=\"node\">\n<title>213</title>\n<path fill=\"#fbede3\" stroke=\"#000000\" d=\"M1319,-2556C1319,-2556 1116,-2556 1116,-2556 1110,-2556 1104,-2550 1104,-2544 1104,-2544 1104,-2500 1104,-2500 1104,-2494 1110,-2488 1116,-2488 1116,-2488 1319,-2488 1319,-2488 1325,-2488 1331,-2494 1331,-2500 1331,-2500 1331,-2544 1331,-2544 1331,-2550 1325,-2556 1319,-2556\"/>\n<text text-anchor=\"middle\" x=\"1217.5\" y=\"-2540.8\" font-family=\"Helvetica,sans-Serif\" font-size=\"14.00\" fill=\"#000000\">GarageArea &lt;= 284.0</text>\n<text text-anchor=\"middle\" x=\"1217.5\" y=\"-2525.8\" font-family=\"Helvetica,sans-Serif\" font-size=\"14.00\" fill=\"#000000\">squared_error = 402987490.817</text>\n<text text-anchor=\"middle\" x=\"1217.5\" y=\"-2510.8\" font-family=\"Helvetica,sans-Serif\" font-size=\"14.00\" fill=\"#000000\">samples = 42</text>\n<text text-anchor=\"middle\" x=\"1217.5\" y=\"-2495.8\" font-family=\"Helvetica,sans-Serif\" font-size=\"14.00\" fill=\"#000000\">value = 134296.97</text>\n</g>\n<!-- 3&#45;&gt;213 -->\n<g id=\"edge11\" class=\"edge\">\n<title>3&#45;&gt;213</title>\n<path fill=\"none\" stroke=\"#000000\" d=\"M1060.2505,-2522C1071.2295,-2522 1082.4041,-2522 1093.4758,-2522\"/>\n<polygon fill=\"#000000\" stroke=\"#000000\" points=\"1093.6062,-2525.5001 1103.6062,-2522 1093.6062,-2518.5001 1093.6062,-2525.5001\"/>\n</g>\n<!-- 5 -->\n<g id=\"node6\" class=\"node\">\n<title>5</title>\n<path fill=\"#fdf6f1\" stroke=\"#000000\" d=\"M1590,-2799C1590,-2799 1387,-2799 1387,-2799 1381,-2799 1375,-2793 1375,-2787 1375,-2787 1375,-2743 1375,-2743 1375,-2737 1381,-2731 1387,-2731 1387,-2731 1590,-2731 1590,-2731 1596,-2731 1602,-2737 1602,-2743 1602,-2743 1602,-2787 1602,-2787 1602,-2793 1596,-2799 1590,-2799\"/>\n<text text-anchor=\"middle\" x=\"1488.5\" y=\"-2783.8\" font-family=\"Helvetica,sans-Serif\" font-size=\"14.00\" fill=\"#000000\">LotArea &lt;= 10712.5</text>\n<text text-anchor=\"middle\" x=\"1488.5\" y=\"-2768.8\" font-family=\"Helvetica,sans-Serif\" font-size=\"14.00\" fill=\"#000000\">squared_error = 579676212.245</text>\n<text text-anchor=\"middle\" x=\"1488.5\" y=\"-2753.8\" font-family=\"Helvetica,sans-Serif\" font-size=\"14.00\" fill=\"#000000\">samples = 24</text>\n<text text-anchor=\"middle\" x=\"1488.5\" y=\"-2738.8\" font-family=\"Helvetica,sans-Serif\" font-size=\"14.00\" fill=\"#000000\">value = 83358.571</text>\n</g>\n<!-- 4&#45;&gt;5 -->\n<g id=\"edge5\" class=\"edge\">\n<title>4&#45;&gt;5</title>\n<path fill=\"none\" stroke=\"#000000\" d=\"M1312.6634,-2702.0622C1335.5848,-2710.2665 1360.2007,-2719.0774 1383.5412,-2727.4317\"/>\n<polygon fill=\"#000000\" stroke=\"#000000\" points=\"1382.5136,-2730.7813 1393.1081,-2730.8561 1384.8726,-2724.1907 1382.5136,-2730.7813\"/>\n</g>\n<!-- 52 -->\n<g id=\"node9\" class=\"node\">\n<title>52</title>\n<path fill=\"#fcf1ea\" stroke=\"#000000\" d=\"M1590,-2702C1590,-2702 1387,-2702 1387,-2702 1381,-2702 1375,-2696 1375,-2690 1375,-2690 1375,-2646 1375,-2646 1375,-2640 1381,-2634 1387,-2634 1387,-2634 1590,-2634 1590,-2634 1596,-2634 1602,-2640 1602,-2646 1602,-2646 1602,-2690 1602,-2690 1602,-2696 1596,-2702 1590,-2702\"/>\n<text text-anchor=\"middle\" x=\"1488.5\" y=\"-2686.8\" font-family=\"Helvetica,sans-Serif\" font-size=\"14.00\" fill=\"#000000\">GrLivArea &lt;= 651.0</text>\n<text text-anchor=\"middle\" x=\"1488.5\" y=\"-2671.8\" font-family=\"Helvetica,sans-Serif\" font-size=\"14.00\" fill=\"#000000\">squared_error = 303470034.632</text>\n<text text-anchor=\"middle\" x=\"1488.5\" y=\"-2656.8\" font-family=\"Helvetica,sans-Serif\" font-size=\"14.00\" fill=\"#000000\">samples = 86</text>\n<text text-anchor=\"middle\" x=\"1488.5\" y=\"-2641.8\" font-family=\"Helvetica,sans-Serif\" font-size=\"14.00\" fill=\"#000000\">value = 111685.766</text>\n</g>\n<!-- 4&#45;&gt;52 -->\n<g id=\"edge8\" class=\"edge\">\n<title>4&#45;&gt;52</title>\n<path fill=\"none\" stroke=\"#000000\" d=\"M1326.5547,-2668C1339.0884,-2668 1351.9363,-2668 1364.6465,-2668\"/>\n<polygon fill=\"#000000\" stroke=\"#000000\" points=\"1364.8017,-2671.5001 1374.8016,-2668 1364.8016,-2664.5001 1364.8017,-2671.5001\"/>\n</g>\n<!-- 6 -->\n<g id=\"node7\" class=\"node\">\n<title>6</title>\n<path fill=\"#c0c0c0\" stroke=\"#000000\" d=\"M1684,-2837C1684,-2837 1654,-2837 1654,-2837 1648,-2837 1642,-2831 1642,-2825 1642,-2825 1642,-2813 1642,-2813 1642,-2807 1648,-2801 1654,-2801 1654,-2801 1684,-2801 1684,-2801 1690,-2801 1696,-2807 1696,-2813 1696,-2813 1696,-2825 1696,-2825 1696,-2831 1690,-2837 1684,-2837\"/>\n<text text-anchor=\"middle\" x=\"1669\" y=\"-2815.3\" font-family=\"Helvetica,sans-Serif\" font-size=\"14.00\" fill=\"#000000\">(...)</text>\n</g>\n<!-- 5&#45;&gt;6 -->\n<g id=\"edge6\" class=\"edge\">\n<title>5&#45;&gt;6</title>\n<path fill=\"none\" stroke=\"#000000\" d=\"M1602.045,-2798.9691C1612.7166,-2802.1617 1622.9217,-2805.2148 1632.006,-2807.9325\"/>\n<polygon fill=\"#000000\" stroke=\"#000000\" points=\"1631.1677,-2811.335 1641.7513,-2810.848 1633.174,-2804.6286 1631.1677,-2811.335\"/>\n</g>\n<!-- 43 -->\n<g id=\"node8\" class=\"node\">\n<title>43</title>\n<path fill=\"#c0c0c0\" stroke=\"#000000\" d=\"M1684,-2783C1684,-2783 1654,-2783 1654,-2783 1648,-2783 1642,-2777 1642,-2771 1642,-2771 1642,-2759 1642,-2759 1642,-2753 1648,-2747 1654,-2747 1654,-2747 1684,-2747 1684,-2747 1690,-2747 1696,-2753 1696,-2759 1696,-2759 1696,-2771 1696,-2771 1696,-2777 1690,-2783 1684,-2783\"/>\n<text text-anchor=\"middle\" x=\"1669\" y=\"-2761.3\" font-family=\"Helvetica,sans-Serif\" font-size=\"14.00\" fill=\"#000000\">(...)</text>\n</g>\n<!-- 5&#45;&gt;43 -->\n<g id=\"edge7\" class=\"edge\">\n<title>5&#45;&gt;43</title>\n<path fill=\"none\" stroke=\"#000000\" d=\"M1602.045,-2765C1612.6018,-2765 1622.7022,-2765 1631.7125,-2765\"/>\n<polygon fill=\"#000000\" stroke=\"#000000\" points=\"1631.7513,-2768.5001 1641.7513,-2765 1631.7513,-2761.5001 1631.7513,-2768.5001\"/>\n</g>\n<!-- 53 -->\n<g id=\"node10\" class=\"node\">\n<title>53</title>\n<path fill=\"#c0c0c0\" stroke=\"#000000\" d=\"M1684,-2729C1684,-2729 1654,-2729 1654,-2729 1648,-2729 1642,-2723 1642,-2717 1642,-2717 1642,-2705 1642,-2705 1642,-2699 1648,-2693 1654,-2693 1654,-2693 1684,-2693 1684,-2693 1690,-2693 1696,-2699 1696,-2705 1696,-2705 1696,-2717 1696,-2717 1696,-2723 1690,-2729 1684,-2729\"/>\n<text text-anchor=\"middle\" x=\"1669\" y=\"-2707.3\" font-family=\"Helvetica,sans-Serif\" font-size=\"14.00\" fill=\"#000000\">(...)</text>\n</g>\n<!-- 52&#45;&gt;53 -->\n<g id=\"edge9\" class=\"edge\">\n<title>52&#45;&gt;53</title>\n<path fill=\"none\" stroke=\"#000000\" d=\"M1602.045,-2695.0495C1612.7166,-2697.5918 1622.9217,-2700.0229 1632.006,-2702.187\"/>\n<polygon fill=\"#000000\" stroke=\"#000000\" points=\"1631.2124,-2705.5958 1641.7513,-2704.5086 1632.8347,-2698.7864 1631.2124,-2705.5958\"/>\n</g>\n<!-- 60 -->\n<g id=\"node11\" class=\"node\">\n<title>60</title>\n<path fill=\"#c0c0c0\" stroke=\"#000000\" d=\"M1684,-2675C1684,-2675 1654,-2675 1654,-2675 1648,-2675 1642,-2669 1642,-2663 1642,-2663 1642,-2651 1642,-2651 1642,-2645 1648,-2639 1654,-2639 1654,-2639 1684,-2639 1684,-2639 1690,-2639 1696,-2645 1696,-2651 1696,-2651 1696,-2663 1696,-2663 1696,-2669 1690,-2675 1684,-2675\"/>\n<text text-anchor=\"middle\" x=\"1669\" y=\"-2653.3\" font-family=\"Helvetica,sans-Serif\" font-size=\"14.00\" fill=\"#000000\">(...)</text>\n</g>\n<!-- 52&#45;&gt;60 -->\n<g id=\"edge10\" class=\"edge\">\n<title>52&#45;&gt;60</title>\n<path fill=\"none\" stroke=\"#000000\" d=\"M1602.045,-2661.0804C1612.6018,-2660.437 1622.7022,-2659.8215 1631.7125,-2659.2724\"/>\n<polygon fill=\"#000000\" stroke=\"#000000\" points=\"1631.9828,-2662.7625 1641.7513,-2658.6606 1631.5569,-2655.7754 1631.9828,-2662.7625\"/>\n</g>\n<!-- 214 -->\n<g id=\"node13\" class=\"node\">\n<title>214</title>\n<path fill=\"#fcefe7\" stroke=\"#000000\" d=\"M1590,-2599C1590,-2599 1387,-2599 1387,-2599 1381,-2599 1375,-2593 1375,-2587 1375,-2587 1375,-2543 1375,-2543 1375,-2537 1381,-2531 1387,-2531 1387,-2531 1590,-2531 1590,-2531 1596,-2531 1602,-2537 1602,-2543 1602,-2543 1602,-2587 1602,-2587 1602,-2593 1596,-2599 1590,-2599\"/>\n<text text-anchor=\"middle\" x=\"1488.5\" y=\"-2583.8\" font-family=\"Helvetica,sans-Serif\" font-size=\"14.00\" fill=\"#000000\">Id &lt;= 1079.5</text>\n<text text-anchor=\"middle\" x=\"1488.5\" y=\"-2568.8\" font-family=\"Helvetica,sans-Serif\" font-size=\"14.00\" fill=\"#000000\">squared_error = 267507105.624</text>\n<text text-anchor=\"middle\" x=\"1488.5\" y=\"-2553.8\" font-family=\"Helvetica,sans-Serif\" font-size=\"14.00\" fill=\"#000000\">samples = 20</text>\n<text text-anchor=\"middle\" x=\"1488.5\" y=\"-2538.8\" font-family=\"Helvetica,sans-Serif\" font-size=\"14.00\" fill=\"#000000\">value = 122525.926</text>\n</g>\n<!-- 213&#45;&gt;214 -->\n<g id=\"edge12\" class=\"edge\">\n<title>213&#45;&gt;214</title>\n<path fill=\"none\" stroke=\"#000000\" d=\"M1331.2505,-2540.049C1342.2295,-2541.791 1353.4041,-2543.5641 1364.4758,-2545.3209\"/>\n<polygon fill=\"#000000\" stroke=\"#000000\" points=\"1364.1812,-2548.8179 1374.6062,-2546.9283 1365.2783,-2541.9043 1364.1812,-2548.8179\"/>\n</g>\n<!-- 251 -->\n<g id=\"node16\" class=\"node\">\n<title>251</title>\n<path fill=\"#fbece1\" stroke=\"#000000\" d=\"M1590,-2513C1590,-2513 1387,-2513 1387,-2513 1381,-2513 1375,-2507 1375,-2501 1375,-2501 1375,-2457 1375,-2457 1375,-2451 1381,-2445 1387,-2445 1387,-2445 1590,-2445 1590,-2445 1596,-2445 1602,-2451 1602,-2457 1602,-2457 1602,-2501 1602,-2501 1602,-2507 1596,-2513 1590,-2513\"/>\n<text text-anchor=\"middle\" x=\"1488.5\" y=\"-2497.8\" font-family=\"Helvetica,sans-Serif\" font-size=\"14.00\" fill=\"#000000\">BsmtCond &lt;= 2.5</text>\n<text text-anchor=\"middle\" x=\"1488.5\" y=\"-2482.8\" font-family=\"Helvetica,sans-Serif\" font-size=\"14.00\" fill=\"#000000\">squared_error = 334447998.028</text>\n<text text-anchor=\"middle\" x=\"1488.5\" y=\"-2467.8\" font-family=\"Helvetica,sans-Serif\" font-size=\"14.00\" fill=\"#000000\">samples = 22</text>\n<text text-anchor=\"middle\" x=\"1488.5\" y=\"-2452.8\" font-family=\"Helvetica,sans-Serif\" font-size=\"14.00\" fill=\"#000000\">value = 142446.154</text>\n</g>\n<!-- 213&#45;&gt;251 -->\n<g id=\"edge15\" class=\"edge\">\n<title>213&#45;&gt;251</title>\n<path fill=\"none\" stroke=\"#000000\" d=\"M1331.2505,-2503.951C1342.2295,-2502.209 1353.4041,-2500.4359 1364.4758,-2498.6791\"/>\n<polygon fill=\"#000000\" stroke=\"#000000\" points=\"1365.2783,-2502.0957 1374.6062,-2497.0717 1364.1812,-2495.1821 1365.2783,-2502.0957\"/>\n</g>\n<!-- 215 -->\n<g id=\"node14\" class=\"node\">\n<title>215</title>\n<path fill=\"#c0c0c0\" stroke=\"#000000\" d=\"M1684,-2621C1684,-2621 1654,-2621 1654,-2621 1648,-2621 1642,-2615 1642,-2609 1642,-2609 1642,-2597 1642,-2597 1642,-2591 1648,-2585 1654,-2585 1654,-2585 1684,-2585 1684,-2585 1690,-2585 1696,-2591 1696,-2597 1696,-2597 1696,-2609 1696,-2609 1696,-2615 1690,-2621 1684,-2621\"/>\n<text text-anchor=\"middle\" x=\"1669\" y=\"-2599.3\" font-family=\"Helvetica,sans-Serif\" font-size=\"14.00\" fill=\"#000000\">(...)</text>\n</g>\n<!-- 214&#45;&gt;215 -->\n<g id=\"edge13\" class=\"edge\">\n<title>214&#45;&gt;215</title>\n<path fill=\"none\" stroke=\"#000000\" d=\"M1602.045,-2588.9042C1612.6018,-2591.1267 1622.7022,-2593.2531 1631.7125,-2595.15\"/>\n<polygon fill=\"#000000\" stroke=\"#000000\" points=\"1631.2447,-2598.6282 1641.7513,-2597.2634 1632.6869,-2591.7783 1631.2447,-2598.6282\"/>\n</g>\n<!-- 248 -->\n<g id=\"node15\" class=\"node\">\n<title>248</title>\n<path fill=\"#c0c0c0\" stroke=\"#000000\" d=\"M1684,-2567C1684,-2567 1654,-2567 1654,-2567 1648,-2567 1642,-2561 1642,-2555 1642,-2555 1642,-2543 1642,-2543 1642,-2537 1648,-2531 1654,-2531 1654,-2531 1684,-2531 1684,-2531 1690,-2531 1696,-2537 1696,-2543 1696,-2543 1696,-2555 1696,-2555 1696,-2561 1690,-2567 1684,-2567\"/>\n<text text-anchor=\"middle\" x=\"1669\" y=\"-2545.3\" font-family=\"Helvetica,sans-Serif\" font-size=\"14.00\" fill=\"#000000\">(...)</text>\n</g>\n<!-- 214&#45;&gt;248 -->\n<g id=\"edge14\" class=\"edge\">\n<title>214&#45;&gt;248</title>\n<path fill=\"none\" stroke=\"#000000\" d=\"M1602.045,-2554.9351C1612.6018,-2553.9993 1622.7022,-2553.104 1631.7125,-2552.3053\"/>\n<polygon fill=\"#000000\" stroke=\"#000000\" points=\"1632.0994,-2555.7848 1641.7513,-2551.4154 1631.4813,-2548.8121 1632.0994,-2555.7848\"/>\n</g>\n<!-- 252 -->\n<g id=\"node17\" class=\"node\">\n<title>252</title>\n<path fill=\"#c0c0c0\" stroke=\"#000000\" d=\"M1684,-2513C1684,-2513 1654,-2513 1654,-2513 1648,-2513 1642,-2507 1642,-2501 1642,-2501 1642,-2489 1642,-2489 1642,-2483 1648,-2477 1654,-2477 1654,-2477 1684,-2477 1684,-2477 1690,-2477 1696,-2483 1696,-2489 1696,-2489 1696,-2501 1696,-2501 1696,-2507 1690,-2513 1684,-2513\"/>\n<text text-anchor=\"middle\" x=\"1669\" y=\"-2491.3\" font-family=\"Helvetica,sans-Serif\" font-size=\"14.00\" fill=\"#000000\">(...)</text>\n</g>\n<!-- 251&#45;&gt;252 -->\n<g id=\"edge16\" class=\"edge\">\n<title>251&#45;&gt;252</title>\n<path fill=\"none\" stroke=\"#000000\" d=\"M1602.045,-2489.0649C1612.6018,-2490.0007 1622.7022,-2490.896 1631.7125,-2491.6947\"/>\n<polygon fill=\"#000000\" stroke=\"#000000\" points=\"1631.4813,-2495.1879 1641.7513,-2492.5846 1632.0994,-2488.2152 1631.4813,-2495.1879\"/>\n</g>\n<!-- 253 -->\n<g id=\"node18\" class=\"node\">\n<title>253</title>\n<path fill=\"#c0c0c0\" stroke=\"#000000\" d=\"M1684,-2459C1684,-2459 1654,-2459 1654,-2459 1648,-2459 1642,-2453 1642,-2447 1642,-2447 1642,-2435 1642,-2435 1642,-2429 1648,-2423 1654,-2423 1654,-2423 1684,-2423 1684,-2423 1690,-2423 1696,-2429 1696,-2435 1696,-2435 1696,-2447 1696,-2447 1696,-2453 1690,-2459 1684,-2459\"/>\n<text text-anchor=\"middle\" x=\"1669\" y=\"-2437.3\" font-family=\"Helvetica,sans-Serif\" font-size=\"14.00\" fill=\"#000000\">(...)</text>\n</g>\n<!-- 251&#45;&gt;253 -->\n<g id=\"edge17\" class=\"edge\">\n<title>251&#45;&gt;253</title>\n<path fill=\"none\" stroke=\"#000000\" d=\"M1602.045,-2455.0958C1612.6018,-2452.8733 1622.7022,-2450.7469 1631.7125,-2448.85\"/>\n<polygon fill=\"#000000\" stroke=\"#000000\" points=\"1632.6869,-2452.2217 1641.7513,-2446.7366 1631.2447,-2445.3718 1632.6869,-2452.2217\"/>\n</g>\n<!-- 293 -->\n<g id=\"node20\" class=\"node\">\n<title>293</title>\n<path fill=\"#fbeee4\" stroke=\"#000000\" d=\"M1319,-2278C1319,-2278 1116,-2278 1116,-2278 1110,-2278 1104,-2272 1104,-2266 1104,-2266 1104,-2222 1104,-2222 1104,-2216 1110,-2210 1116,-2210 1116,-2210 1319,-2210 1319,-2210 1325,-2210 1331,-2216 1331,-2222 1331,-2222 1331,-2266 1331,-2266 1331,-2272 1325,-2278 1319,-2278\"/>\n<text text-anchor=\"middle\" x=\"1217.5\" y=\"-2262.8\" font-family=\"Helvetica,sans-Serif\" font-size=\"14.00\" fill=\"#000000\">YearRemodAdd &lt;= 55.5</text>\n<text text-anchor=\"middle\" x=\"1217.5\" y=\"-2247.8\" font-family=\"Helvetica,sans-Serif\" font-size=\"14.00\" fill=\"#000000\">squared_error = 487748166.684</text>\n<text text-anchor=\"middle\" x=\"1217.5\" y=\"-2232.8\" font-family=\"Helvetica,sans-Serif\" font-size=\"14.00\" fill=\"#000000\">samples = 68</text>\n<text text-anchor=\"middle\" x=\"1217.5\" y=\"-2217.8\" font-family=\"Helvetica,sans-Serif\" font-size=\"14.00\" fill=\"#000000\">value = 132470.522</text>\n</g>\n<!-- 292&#45;&gt;293 -->\n<g id=\"edge19\" class=\"edge\">\n<title>292&#45;&gt;293</title>\n<path fill=\"none\" stroke=\"#000000\" d=\"M1060.2505,-2215.5674C1071.2295,-2217.5526 1082.4041,-2219.5731 1093.4758,-2221.575\"/>\n<polygon fill=\"#000000\" stroke=\"#000000\" points=\"1093.143,-2225.0715 1103.6062,-2223.4067 1094.3885,-2218.1832 1093.143,-2225.0715\"/>\n</g>\n<!-- 420 -->\n<g id=\"node27\" class=\"node\">\n<title>420</title>\n<path fill=\"#fae8db\" stroke=\"#000000\" d=\"M1314.5,-2186C1314.5,-2186 1120.5,-2186 1120.5,-2186 1114.5,-2186 1108.5,-2180 1108.5,-2174 1108.5,-2174 1108.5,-2130 1108.5,-2130 1108.5,-2124 1114.5,-2118 1120.5,-2118 1120.5,-2118 1314.5,-2118 1314.5,-2118 1320.5,-2118 1326.5,-2124 1326.5,-2130 1326.5,-2130 1326.5,-2174 1326.5,-2174 1326.5,-2180 1320.5,-2186 1314.5,-2186\"/>\n<text text-anchor=\"middle\" x=\"1217.5\" y=\"-2170.8\" font-family=\"Helvetica,sans-Serif\" font-size=\"14.00\" fill=\"#000000\">YearBuilt &lt;= 82.5</text>\n<text text-anchor=\"middle\" x=\"1217.5\" y=\"-2155.8\" font-family=\"Helvetica,sans-Serif\" font-size=\"14.00\" fill=\"#000000\">squared_error = 612757191.73</text>\n<text text-anchor=\"middle\" x=\"1217.5\" y=\"-2140.8\" font-family=\"Helvetica,sans-Serif\" font-size=\"14.00\" fill=\"#000000\">samples = 101</text>\n<text text-anchor=\"middle\" x=\"1217.5\" y=\"-2125.8\" font-family=\"Helvetica,sans-Serif\" font-size=\"14.00\" fill=\"#000000\">value = 164935.96</text>\n</g>\n<!-- 292&#45;&gt;420 -->\n<g id=\"edge26\" class=\"edge\">\n<title>292&#45;&gt;420</title>\n<path fill=\"none\" stroke=\"#000000\" d=\"M1060.2505,-2176.951C1072.8228,-2174.9562 1085.6517,-2172.9206 1098.2887,-2170.9154\"/>\n<polygon fill=\"#000000\" stroke=\"#000000\" points=\"1099.0458,-2174.3392 1108.3737,-2169.3152 1097.9487,-2167.4257 1099.0458,-2174.3392\"/>\n</g>\n<!-- 294 -->\n<g id=\"node21\" class=\"node\">\n<title>294</title>\n<path fill=\"#fbede2\" stroke=\"#000000\" d=\"M1590,-2367C1590,-2367 1387,-2367 1387,-2367 1381,-2367 1375,-2361 1375,-2355 1375,-2355 1375,-2311 1375,-2311 1375,-2305 1381,-2299 1387,-2299 1387,-2299 1590,-2299 1590,-2299 1596,-2299 1602,-2305 1602,-2311 1602,-2311 1602,-2355 1602,-2355 1602,-2361 1596,-2367 1590,-2367\"/>\n<text text-anchor=\"middle\" x=\"1488.5\" y=\"-2351.8\" font-family=\"Helvetica,sans-Serif\" font-size=\"14.00\" fill=\"#000000\">OverallQual &lt;= 4.5</text>\n<text text-anchor=\"middle\" x=\"1488.5\" y=\"-2336.8\" font-family=\"Helvetica,sans-Serif\" font-size=\"14.00\" fill=\"#000000\">squared_error = 316131559.357</text>\n<text text-anchor=\"middle\" x=\"1488.5\" y=\"-2321.8\" font-family=\"Helvetica,sans-Serif\" font-size=\"14.00\" fill=\"#000000\">samples = 58</text>\n<text text-anchor=\"middle\" x=\"1488.5\" y=\"-2306.8\" font-family=\"Helvetica,sans-Serif\" font-size=\"14.00\" fill=\"#000000\">value = 137555.545</text>\n</g>\n<!-- 293&#45;&gt;294 -->\n<g id=\"edge20\" class=\"edge\">\n<title>293&#45;&gt;294</title>\n<path fill=\"none\" stroke=\"#000000\" d=\"M1321.1135,-2278.028C1338.764,-2283.8247 1357.1799,-2289.8727 1375.0684,-2295.7475\"/>\n<polygon fill=\"#000000\" stroke=\"#000000\" points=\"1374.3511,-2299.1959 1384.944,-2298.9908 1376.5353,-2292.5453 1374.3511,-2299.1959\"/>\n</g>\n<!-- 401 -->\n<g id=\"node24\" class=\"node\">\n<title>401</title>\n<path fill=\"#fdf4ee\" stroke=\"#000000\" d=\"M1585.5,-2278C1585.5,-2278 1391.5,-2278 1391.5,-2278 1385.5,-2278 1379.5,-2272 1379.5,-2266 1379.5,-2266 1379.5,-2222 1379.5,-2222 1379.5,-2216 1385.5,-2210 1391.5,-2210 1391.5,-2210 1585.5,-2210 1585.5,-2210 1591.5,-2210 1597.5,-2216 1597.5,-2222 1597.5,-2222 1597.5,-2266 1597.5,-2266 1597.5,-2272 1591.5,-2278 1585.5,-2278\"/>\n<text text-anchor=\"middle\" x=\"1488.5\" y=\"-2262.8\" font-family=\"Helvetica,sans-Serif\" font-size=\"14.00\" fill=\"#000000\">YrSold &lt;= 2006.5</text>\n<text text-anchor=\"middle\" x=\"1488.5\" y=\"-2247.8\" font-family=\"Helvetica,sans-Serif\" font-size=\"14.00\" fill=\"#000000\">squared_error = 193521224.49</text>\n<text text-anchor=\"middle\" x=\"1488.5\" y=\"-2232.8\" font-family=\"Helvetica,sans-Serif\" font-size=\"14.00\" fill=\"#000000\">samples = 10</text>\n<text text-anchor=\"middle\" x=\"1488.5\" y=\"-2217.8\" font-family=\"Helvetica,sans-Serif\" font-size=\"14.00\" fill=\"#000000\">value = 95785.714</text>\n</g>\n<!-- 293&#45;&gt;401 -->\n<g id=\"edge23\" class=\"edge\">\n<title>293&#45;&gt;401</title>\n<path fill=\"none\" stroke=\"#000000\" d=\"M1331.2505,-2244C1343.8228,-2244 1356.6517,-2244 1369.2887,-2244\"/>\n<polygon fill=\"#000000\" stroke=\"#000000\" points=\"1369.3737,-2247.5001 1379.3737,-2244 1369.3737,-2240.5001 1369.3737,-2247.5001\"/>\n</g>\n<!-- 295 -->\n<g id=\"node22\" class=\"node\">\n<title>295</title>\n<path fill=\"#c0c0c0\" stroke=\"#000000\" d=\"M1684,-2405C1684,-2405 1654,-2405 1654,-2405 1648,-2405 1642,-2399 1642,-2393 1642,-2393 1642,-2381 1642,-2381 1642,-2375 1648,-2369 1654,-2369 1654,-2369 1684,-2369 1684,-2369 1690,-2369 1696,-2375 1696,-2381 1696,-2381 1696,-2393 1696,-2393 1696,-2399 1690,-2405 1684,-2405\"/>\n<text text-anchor=\"middle\" x=\"1669\" y=\"-2383.3\" font-family=\"Helvetica,sans-Serif\" font-size=\"14.00\" fill=\"#000000\">(...)</text>\n</g>\n<!-- 294&#45;&gt;295 -->\n<g id=\"edge21\" class=\"edge\">\n<title>294&#45;&gt;295</title>\n<path fill=\"none\" stroke=\"#000000\" d=\"M1602.045,-2366.9691C1612.7166,-2370.1617 1622.9217,-2373.2148 1632.006,-2375.9325\"/>\n<polygon fill=\"#000000\" stroke=\"#000000\" points=\"1631.1677,-2379.335 1641.7513,-2378.848 1633.174,-2372.6286 1631.1677,-2379.335\"/>\n</g>\n<!-- 312 -->\n<g id=\"node23\" class=\"node\">\n<title>312</title>\n<path fill=\"#c0c0c0\" stroke=\"#000000\" d=\"M1684,-2351C1684,-2351 1654,-2351 1654,-2351 1648,-2351 1642,-2345 1642,-2339 1642,-2339 1642,-2327 1642,-2327 1642,-2321 1648,-2315 1654,-2315 1654,-2315 1684,-2315 1684,-2315 1690,-2315 1696,-2321 1696,-2327 1696,-2327 1696,-2339 1696,-2339 1696,-2345 1690,-2351 1684,-2351\"/>\n<text text-anchor=\"middle\" x=\"1669\" y=\"-2329.3\" font-family=\"Helvetica,sans-Serif\" font-size=\"14.00\" fill=\"#000000\">(...)</text>\n</g>\n<!-- 294&#45;&gt;312 -->\n<g id=\"edge22\" class=\"edge\">\n<title>294&#45;&gt;312</title>\n<path fill=\"none\" stroke=\"#000000\" d=\"M1602.045,-2333C1612.6018,-2333 1622.7022,-2333 1631.7125,-2333\"/>\n<polygon fill=\"#000000\" stroke=\"#000000\" points=\"1631.7513,-2336.5001 1641.7513,-2333 1631.7513,-2329.5001 1631.7513,-2336.5001\"/>\n</g>\n<!-- 402 -->\n<g id=\"node25\" class=\"node\">\n<title>402</title>\n<path fill=\"#c0c0c0\" stroke=\"#000000\" d=\"M1684,-2297C1684,-2297 1654,-2297 1654,-2297 1648,-2297 1642,-2291 1642,-2285 1642,-2285 1642,-2273 1642,-2273 1642,-2267 1648,-2261 1654,-2261 1654,-2261 1684,-2261 1684,-2261 1690,-2261 1696,-2267 1696,-2273 1696,-2273 1696,-2285 1696,-2285 1696,-2291 1690,-2297 1684,-2297\"/>\n<text text-anchor=\"middle\" x=\"1669\" y=\"-2275.3\" font-family=\"Helvetica,sans-Serif\" font-size=\"14.00\" fill=\"#000000\">(...)</text>\n</g>\n<!-- 401&#45;&gt;402 -->\n<g id=\"edge24\" class=\"edge\">\n<title>401&#45;&gt;402</title>\n<path fill=\"none\" stroke=\"#000000\" d=\"M1597.6616,-2265.1671C1609.7841,-2267.5177 1621.43,-2269.7759 1631.6703,-2271.7616\"/>\n<polygon fill=\"#000000\" stroke=\"#000000\" points=\"1631.3107,-2275.2569 1641.7941,-2273.7246 1632.6433,-2268.3849 1631.3107,-2275.2569\"/>\n</g>\n<!-- 407 -->\n<g id=\"node26\" class=\"node\">\n<title>407</title>\n<path fill=\"#c0c0c0\" stroke=\"#000000\" d=\"M1684,-2243C1684,-2243 1654,-2243 1654,-2243 1648,-2243 1642,-2237 1642,-2231 1642,-2231 1642,-2219 1642,-2219 1642,-2213 1648,-2207 1654,-2207 1654,-2207 1684,-2207 1684,-2207 1690,-2207 1696,-2213 1696,-2219 1696,-2219 1696,-2231 1696,-2231 1696,-2237 1690,-2243 1684,-2243\"/>\n<text text-anchor=\"middle\" x=\"1669\" y=\"-2221.3\" font-family=\"Helvetica,sans-Serif\" font-size=\"14.00\" fill=\"#000000\">(...)</text>\n</g>\n<!-- 401&#45;&gt;407 -->\n<g id=\"edge25\" class=\"edge\">\n<title>401&#45;&gt;407</title>\n<path fill=\"none\" stroke=\"#000000\" d=\"M1597.6616,-2232.5093C1609.7841,-2231.2333 1621.43,-2230.0074 1631.6703,-2228.9294\"/>\n<polygon fill=\"#000000\" stroke=\"#000000\" points=\"1632.2155,-2232.3915 1641.7941,-2227.8638 1631.4826,-2225.4299 1632.2155,-2232.3915\"/>\n</g>\n<!-- 421 -->\n<g id=\"node28\" class=\"node\">\n<title>421</title>\n<path fill=\"#fae7da\" stroke=\"#000000\" d=\"M1585.5,-2186C1585.5,-2186 1391.5,-2186 1391.5,-2186 1385.5,-2186 1379.5,-2180 1379.5,-2174 1379.5,-2174 1379.5,-2130 1379.5,-2130 1379.5,-2124 1385.5,-2118 1391.5,-2118 1391.5,-2118 1585.5,-2118 1585.5,-2118 1591.5,-2118 1597.5,-2124 1597.5,-2130 1597.5,-2130 1597.5,-2174 1597.5,-2174 1597.5,-2180 1591.5,-2186 1585.5,-2186\"/>\n<text text-anchor=\"middle\" x=\"1488.5\" y=\"-2170.8\" font-family=\"Helvetica,sans-Serif\" font-size=\"14.00\" fill=\"#000000\">OverallCond &lt;= 3.5</text>\n<text text-anchor=\"middle\" x=\"1488.5\" y=\"-2155.8\" font-family=\"Helvetica,sans-Serif\" font-size=\"14.00\" fill=\"#000000\">squared_error = 481762781.93</text>\n<text text-anchor=\"middle\" x=\"1488.5\" y=\"-2140.8\" font-family=\"Helvetica,sans-Serif\" font-size=\"14.00\" fill=\"#000000\">samples = 92</text>\n<text text-anchor=\"middle\" x=\"1488.5\" y=\"-2125.8\" font-family=\"Helvetica,sans-Serif\" font-size=\"14.00\" fill=\"#000000\">value = 168030.445</text>\n</g>\n<!-- 420&#45;&gt;421 -->\n<g id=\"edge27\" class=\"edge\">\n<title>420&#45;&gt;421</title>\n<path fill=\"none\" stroke=\"#000000\" d=\"M1326.5547,-2152C1340.5201,-2152 1354.8756,-2152 1368.996,-2152\"/>\n<polygon fill=\"#000000\" stroke=\"#000000\" points=\"1369.2274,-2155.5001 1379.2274,-2152 1369.2273,-2148.5001 1369.2274,-2155.5001\"/>\n</g>\n<!-- 600 -->\n<g id=\"node31\" class=\"node\">\n<title>600</title>\n<path fill=\"#fcf0e8\" stroke=\"#000000\" d=\"M1590,-2097C1590,-2097 1387,-2097 1387,-2097 1381,-2097 1375,-2091 1375,-2085 1375,-2085 1375,-2041 1375,-2041 1375,-2035 1381,-2029 1387,-2029 1387,-2029 1590,-2029 1590,-2029 1596,-2029 1602,-2035 1602,-2041 1602,-2041 1602,-2085 1602,-2085 1602,-2091 1596,-2097 1590,-2097\"/>\n<text text-anchor=\"middle\" x=\"1488.5\" y=\"-2081.8\" font-family=\"Helvetica,sans-Serif\" font-size=\"14.00\" fill=\"#000000\">BsmtUnfSF &lt;= 355.0</text>\n<text text-anchor=\"middle\" x=\"1488.5\" y=\"-2066.8\" font-family=\"Helvetica,sans-Serif\" font-size=\"14.00\" fill=\"#000000\">squared_error = 294470909.091</text>\n<text text-anchor=\"middle\" x=\"1488.5\" y=\"-2051.8\" font-family=\"Helvetica,sans-Serif\" font-size=\"14.00\" fill=\"#000000\">samples = 9</text>\n<text text-anchor=\"middle\" x=\"1488.5\" y=\"-2036.8\" font-family=\"Helvetica,sans-Serif\" font-size=\"14.00\" fill=\"#000000\">value = 118800.0</text>\n</g>\n<!-- 420&#45;&gt;600 -->\n<g id=\"edge30\" class=\"edge\">\n<title>420&#45;&gt;600</title>\n<path fill=\"none\" stroke=\"#000000\" d=\"M1321.1135,-2117.972C1338.764,-2112.1753 1357.1799,-2106.1273 1375.0684,-2100.2525\"/>\n<polygon fill=\"#000000\" stroke=\"#000000\" points=\"1376.5353,-2103.4547 1384.944,-2097.0092 1374.3511,-2096.8041 1376.5353,-2103.4547\"/>\n</g>\n<!-- 422 -->\n<g id=\"node29\" class=\"node\">\n<title>422</title>\n<path fill=\"#c0c0c0\" stroke=\"#000000\" d=\"M1684,-2189C1684,-2189 1654,-2189 1654,-2189 1648,-2189 1642,-2183 1642,-2177 1642,-2177 1642,-2165 1642,-2165 1642,-2159 1648,-2153 1654,-2153 1654,-2153 1684,-2153 1684,-2153 1690,-2153 1696,-2159 1696,-2165 1696,-2165 1696,-2177 1696,-2177 1696,-2183 1690,-2189 1684,-2189\"/>\n<text text-anchor=\"middle\" x=\"1669\" y=\"-2167.3\" font-family=\"Helvetica,sans-Serif\" font-size=\"14.00\" fill=\"#000000\">(...)</text>\n</g>\n<!-- 421&#45;&gt;422 -->\n<g id=\"edge28\" class=\"edge\">\n<title>421&#45;&gt;422</title>\n<path fill=\"none\" stroke=\"#000000\" d=\"M1597.6616,-2163.4907C1609.7841,-2164.7667 1621.43,-2165.9926 1631.6703,-2167.0706\"/>\n<polygon fill=\"#000000\" stroke=\"#000000\" points=\"1631.4826,-2170.5701 1641.7941,-2168.1362 1632.2155,-2163.6085 1631.4826,-2170.5701\"/>\n</g>\n<!-- 425 -->\n<g id=\"node30\" class=\"node\">\n<title>425</title>\n<path fill=\"#c0c0c0\" stroke=\"#000000\" d=\"M1684,-2135C1684,-2135 1654,-2135 1654,-2135 1648,-2135 1642,-2129 1642,-2123 1642,-2123 1642,-2111 1642,-2111 1642,-2105 1648,-2099 1654,-2099 1654,-2099 1684,-2099 1684,-2099 1690,-2099 1696,-2105 1696,-2111 1696,-2111 1696,-2123 1696,-2123 1696,-2129 1690,-2135 1684,-2135\"/>\n<text text-anchor=\"middle\" x=\"1669\" y=\"-2113.3\" font-family=\"Helvetica,sans-Serif\" font-size=\"14.00\" fill=\"#000000\">(...)</text>\n</g>\n<!-- 421&#45;&gt;425 -->\n<g id=\"edge29\" class=\"edge\">\n<title>421&#45;&gt;425</title>\n<path fill=\"none\" stroke=\"#000000\" d=\"M1597.6616,-2130.8329C1609.7841,-2128.4823 1621.43,-2126.2241 1631.6703,-2124.2384\"/>\n<polygon fill=\"#000000\" stroke=\"#000000\" points=\"1632.6433,-2127.6151 1641.7941,-2122.2754 1631.3107,-2120.7431 1632.6433,-2127.6151\"/>\n</g>\n<!-- 601 -->\n<g id=\"node32\" class=\"node\">\n<title>601</title>\n<path fill=\"#c0c0c0\" stroke=\"#000000\" d=\"M1684,-2081C1684,-2081 1654,-2081 1654,-2081 1648,-2081 1642,-2075 1642,-2069 1642,-2069 1642,-2057 1642,-2057 1642,-2051 1648,-2045 1654,-2045 1654,-2045 1684,-2045 1684,-2045 1690,-2045 1696,-2051 1696,-2057 1696,-2057 1696,-2069 1696,-2069 1696,-2075 1690,-2081 1684,-2081\"/>\n<text text-anchor=\"middle\" x=\"1669\" y=\"-2059.3\" font-family=\"Helvetica,sans-Serif\" font-size=\"14.00\" fill=\"#000000\">(...)</text>\n</g>\n<!-- 600&#45;&gt;601 -->\n<g id=\"edge31\" class=\"edge\">\n<title>600&#45;&gt;601</title>\n<path fill=\"none\" stroke=\"#000000\" d=\"M1602.045,-2063C1612.6018,-2063 1622.7022,-2063 1631.7125,-2063\"/>\n<polygon fill=\"#000000\" stroke=\"#000000\" points=\"1631.7513,-2066.5001 1641.7513,-2063 1631.7513,-2059.5001 1631.7513,-2066.5001\"/>\n</g>\n<!-- 606 -->\n<g id=\"node33\" class=\"node\">\n<title>606</title>\n<path fill=\"#c0c0c0\" stroke=\"#000000\" d=\"M1684,-2027C1684,-2027 1654,-2027 1654,-2027 1648,-2027 1642,-2021 1642,-2015 1642,-2015 1642,-2003 1642,-2003 1642,-1997 1648,-1991 1654,-1991 1654,-1991 1684,-1991 1684,-1991 1690,-1991 1696,-1997 1696,-2003 1696,-2003 1696,-2015 1696,-2015 1696,-2021 1690,-2027 1684,-2027\"/>\n<text text-anchor=\"middle\" x=\"1669\" y=\"-2005.3\" font-family=\"Helvetica,sans-Serif\" font-size=\"14.00\" fill=\"#000000\">(...)</text>\n</g>\n<!-- 600&#45;&gt;606 -->\n<g id=\"edge32\" class=\"edge\">\n<title>600&#45;&gt;606</title>\n<path fill=\"none\" stroke=\"#000000\" d=\"M1602.045,-2029.0309C1612.7166,-2025.8383 1622.9217,-2022.7852 1632.006,-2020.0675\"/>\n<polygon fill=\"#000000\" stroke=\"#000000\" points=\"1633.174,-2023.3714 1641.7513,-2017.152 1631.1677,-2016.665 1633.174,-2023.3714\"/>\n</g>\n<!-- 618 -->\n<g id=\"node35\" class=\"node\">\n<title>618</title>\n<path fill=\"#f9e0ce\" stroke=\"#000000\" d=\"M1052,-1692C1052,-1692 841,-1692 841,-1692 835,-1692 829,-1686 829,-1680 829,-1680 829,-1636 829,-1636 829,-1630 835,-1624 841,-1624 841,-1624 1052,-1624 1052,-1624 1058,-1624 1064,-1630 1064,-1636 1064,-1636 1064,-1680 1064,-1680 1064,-1686 1058,-1692 1052,-1692\"/>\n<text text-anchor=\"middle\" x=\"946.5\" y=\"-1676.8\" font-family=\"Helvetica,sans-Serif\" font-size=\"14.00\" fill=\"#000000\">TotalBsmtSF &lt;= 987.0</text>\n<text text-anchor=\"middle\" x=\"946.5\" y=\"-1661.8\" font-family=\"Helvetica,sans-Serif\" font-size=\"14.00\" fill=\"#000000\">squared_error = 1499060572.997</text>\n<text text-anchor=\"middle\" x=\"946.5\" y=\"-1646.8\" font-family=\"Helvetica,sans-Serif\" font-size=\"14.00\" fill=\"#000000\">samples = 128</text>\n<text text-anchor=\"middle\" x=\"946.5\" y=\"-1631.8\" font-family=\"Helvetica,sans-Serif\" font-size=\"14.00\" fill=\"#000000\">value = 211125.426</text>\n</g>\n<!-- 617&#45;&gt;618 -->\n<g id=\"edge34\" class=\"edge\">\n<title>617&#45;&gt;618</title>\n<path fill=\"none\" stroke=\"#000000\" d=\"M758.1343,-1584.0236C787.3992,-1595.5168 820.2426,-1608.4153 850.2089,-1620.1838\"/>\n<polygon fill=\"#000000\" stroke=\"#000000\" points=\"849.2415,-1623.5641 859.8289,-1623.9619 851.8004,-1617.0486 849.2415,-1623.5641\"/>\n</g>\n<!-- 857 -->\n<g id=\"node50\" class=\"node\">\n<title>857</title>\n<path fill=\"#fae8da\" stroke=\"#000000\" d=\"M1052,-1476C1052,-1476 841,-1476 841,-1476 835,-1476 829,-1470 829,-1464 829,-1464 829,-1420 829,-1420 829,-1414 835,-1408 841,-1408 841,-1408 1052,-1408 1052,-1408 1058,-1408 1064,-1414 1064,-1420 1064,-1420 1064,-1464 1064,-1464 1064,-1470 1058,-1476 1052,-1476\"/>\n<text text-anchor=\"middle\" x=\"946.5\" y=\"-1460.8\" font-family=\"Helvetica,sans-Serif\" font-size=\"14.00\" fill=\"#000000\">LotArea &lt;= 13970.0</text>\n<text text-anchor=\"middle\" x=\"946.5\" y=\"-1445.8\" font-family=\"Helvetica,sans-Serif\" font-size=\"14.00\" fill=\"#000000\">squared_error = 1814497991.033</text>\n<text text-anchor=\"middle\" x=\"946.5\" y=\"-1430.8\" font-family=\"Helvetica,sans-Serif\" font-size=\"14.00\" fill=\"#000000\">samples = 95</text>\n<text text-anchor=\"middle\" x=\"946.5\" y=\"-1415.8\" font-family=\"Helvetica,sans-Serif\" font-size=\"14.00\" fill=\"#000000\">value = 166156.9</text>\n</g>\n<!-- 617&#45;&gt;857 -->\n<g id=\"edge49\" class=\"edge\">\n<title>617&#45;&gt;857</title>\n<path fill=\"none\" stroke=\"#000000\" d=\"M758.1343,-1515.9764C787.3992,-1504.4832 820.2426,-1491.5847 850.2089,-1479.8162\"/>\n<polygon fill=\"#000000\" stroke=\"#000000\" points=\"851.8004,-1482.9514 859.8289,-1476.0381 849.2415,-1476.4359 851.8004,-1482.9514\"/>\n</g>\n<!-- 619 -->\n<g id=\"node36\" class=\"node\">\n<title>619</title>\n<path fill=\"#f9e3d3\" stroke=\"#000000\" d=\"M1319,-1838C1319,-1838 1116,-1838 1116,-1838 1110,-1838 1104,-1832 1104,-1826 1104,-1826 1104,-1782 1104,-1782 1104,-1776 1110,-1770 1116,-1770 1116,-1770 1319,-1770 1319,-1770 1325,-1770 1331,-1776 1331,-1782 1331,-1782 1331,-1826 1331,-1826 1331,-1832 1325,-1838 1319,-1838\"/>\n<text text-anchor=\"middle\" x=\"1217.5\" y=\"-1822.8\" font-family=\"Helvetica,sans-Serif\" font-size=\"14.00\" fill=\"#000000\">LotArea &lt;= 8425.0</text>\n<text text-anchor=\"middle\" x=\"1217.5\" y=\"-1807.8\" font-family=\"Helvetica,sans-Serif\" font-size=\"14.00\" fill=\"#000000\">squared_error = 795232236.471</text>\n<text text-anchor=\"middle\" x=\"1217.5\" y=\"-1792.8\" font-family=\"Helvetica,sans-Serif\" font-size=\"14.00\" fill=\"#000000\">samples = 70</text>\n<text text-anchor=\"middle\" x=\"1217.5\" y=\"-1777.8\" font-family=\"Helvetica,sans-Serif\" font-size=\"14.00\" fill=\"#000000\">value = 191461.036</text>\n</g>\n<!-- 618&#45;&gt;619 -->\n<g id=\"edge35\" class=\"edge\">\n<title>618&#45;&gt;619</title>\n<path fill=\"none\" stroke=\"#000000\" d=\"M1009.6954,-1692.0463C1050.2881,-1713.9154 1103.1244,-1742.3807 1145.3608,-1765.1353\"/>\n<polygon fill=\"#000000\" stroke=\"#000000\" points=\"1143.7407,-1768.2381 1154.2044,-1769.8998 1147.0608,-1762.0755 1143.7407,-1768.2381\"/>\n</g>\n<!-- 748 -->\n<g id=\"node43\" class=\"node\">\n<title>748</title>\n<path fill=\"#f8dcc7\" stroke=\"#000000\" d=\"M1323,-1692C1323,-1692 1112,-1692 1112,-1692 1106,-1692 1100,-1686 1100,-1680 1100,-1680 1100,-1636 1100,-1636 1100,-1630 1106,-1624 1112,-1624 1112,-1624 1323,-1624 1323,-1624 1329,-1624 1335,-1630 1335,-1636 1335,-1636 1335,-1680 1335,-1680 1335,-1686 1329,-1692 1323,-1692\"/>\n<text text-anchor=\"middle\" x=\"1217.5\" y=\"-1676.8\" font-family=\"Helvetica,sans-Serif\" font-size=\"14.00\" fill=\"#000000\">GrLivArea &lt;= 2233.5</text>\n<text text-anchor=\"middle\" x=\"1217.5\" y=\"-1661.8\" font-family=\"Helvetica,sans-Serif\" font-size=\"14.00\" fill=\"#000000\">squared_error = 1325446530.853</text>\n<text text-anchor=\"middle\" x=\"1217.5\" y=\"-1646.8\" font-family=\"Helvetica,sans-Serif\" font-size=\"14.00\" fill=\"#000000\">samples = 58</text>\n<text text-anchor=\"middle\" x=\"1217.5\" y=\"-1631.8\" font-family=\"Helvetica,sans-Serif\" font-size=\"14.00\" fill=\"#000000\">value = 234637.196</text>\n</g>\n<!-- 618&#45;&gt;748 -->\n<g id=\"edge42\" class=\"edge\">\n<title>618&#45;&gt;748</title>\n<path fill=\"none\" stroke=\"#000000\" d=\"M1064.1822,-1658C1072.7037,-1658 1081.3208,-1658 1089.8956,-1658\"/>\n<polygon fill=\"#000000\" stroke=\"#000000\" points=\"1089.934,-1661.5001 1099.9339,-1658 1089.9339,-1654.5001 1089.934,-1661.5001\"/>\n</g>\n<!-- 620 -->\n<g id=\"node37\" class=\"node\">\n<title>620</title>\n<path fill=\"#fae8db\" stroke=\"#000000\" d=\"M1590,-1935C1590,-1935 1387,-1935 1387,-1935 1381,-1935 1375,-1929 1375,-1923 1375,-1923 1375,-1879 1375,-1879 1375,-1873 1381,-1867 1387,-1867 1387,-1867 1590,-1867 1590,-1867 1596,-1867 1602,-1873 1602,-1879 1602,-1879 1602,-1923 1602,-1923 1602,-1929 1596,-1935 1590,-1935\"/>\n<text text-anchor=\"middle\" x=\"1488.5\" y=\"-1919.8\" font-family=\"Helvetica,sans-Serif\" font-size=\"14.00\" fill=\"#000000\">1stFlrSF &lt;= 961.5</text>\n<text text-anchor=\"middle\" x=\"1488.5\" y=\"-1904.8\" font-family=\"Helvetica,sans-Serif\" font-size=\"14.00\" fill=\"#000000\">squared_error = 435941589.667</text>\n<text text-anchor=\"middle\" x=\"1488.5\" y=\"-1889.8\" font-family=\"Helvetica,sans-Serif\" font-size=\"14.00\" fill=\"#000000\">samples = 20</text>\n<text text-anchor=\"middle\" x=\"1488.5\" y=\"-1874.8\" font-family=\"Helvetica,sans-Serif\" font-size=\"14.00\" fill=\"#000000\">value = 164657.452</text>\n</g>\n<!-- 619&#45;&gt;620 -->\n<g id=\"edge36\" class=\"edge\">\n<title>619&#45;&gt;620</title>\n<path fill=\"none\" stroke=\"#000000\" d=\"M1312.6634,-1838.0622C1335.5848,-1846.2665 1360.2007,-1855.0774 1383.5412,-1863.4317\"/>\n<polygon fill=\"#000000\" stroke=\"#000000\" points=\"1382.5136,-1866.7813 1393.1081,-1866.8561 1384.8726,-1860.1907 1382.5136,-1866.7813\"/>\n</g>\n<!-- 655 -->\n<g id=\"node40\" class=\"node\">\n<title>655</title>\n<path fill=\"#f9e1d0\" stroke=\"#000000\" d=\"M1585.5,-1838C1585.5,-1838 1391.5,-1838 1391.5,-1838 1385.5,-1838 1379.5,-1832 1379.5,-1826 1379.5,-1826 1379.5,-1782 1379.5,-1782 1379.5,-1776 1385.5,-1770 1391.5,-1770 1391.5,-1770 1585.5,-1770 1585.5,-1770 1591.5,-1770 1597.5,-1776 1597.5,-1782 1597.5,-1782 1597.5,-1826 1597.5,-1826 1597.5,-1832 1591.5,-1838 1585.5,-1838\"/>\n<text text-anchor=\"middle\" x=\"1488.5\" y=\"-1822.8\" font-family=\"Helvetica,sans-Serif\" font-size=\"14.00\" fill=\"#000000\">GrLivArea &lt;= 1940.5</text>\n<text text-anchor=\"middle\" x=\"1488.5\" y=\"-1807.8\" font-family=\"Helvetica,sans-Serif\" font-size=\"14.00\" fill=\"#000000\">squared_error = 543677861.18</text>\n<text text-anchor=\"middle\" x=\"1488.5\" y=\"-1792.8\" font-family=\"Helvetica,sans-Serif\" font-size=\"14.00\" fill=\"#000000\">samples = 50</text>\n<text text-anchor=\"middle\" x=\"1488.5\" y=\"-1777.8\" font-family=\"Helvetica,sans-Serif\" font-size=\"14.00\" fill=\"#000000\">value = 201978.899</text>\n</g>\n<!-- 619&#45;&gt;655 -->\n<g id=\"edge39\" class=\"edge\">\n<title>619&#45;&gt;655</title>\n<path fill=\"none\" stroke=\"#000000\" d=\"M1331.2505,-1804C1343.8228,-1804 1356.6517,-1804 1369.2887,-1804\"/>\n<polygon fill=\"#000000\" stroke=\"#000000\" points=\"1369.3737,-1807.5001 1379.3737,-1804 1369.3737,-1800.5001 1369.3737,-1807.5001\"/>\n</g>\n<!-- 621 -->\n<g id=\"node38\" class=\"node\">\n<title>621</title>\n<path fill=\"#c0c0c0\" stroke=\"#000000\" d=\"M1684,-1973C1684,-1973 1654,-1973 1654,-1973 1648,-1973 1642,-1967 1642,-1961 1642,-1961 1642,-1949 1642,-1949 1642,-1943 1648,-1937 1654,-1937 1654,-1937 1684,-1937 1684,-1937 1690,-1937 1696,-1943 1696,-1949 1696,-1949 1696,-1961 1696,-1961 1696,-1967 1690,-1973 1684,-1973\"/>\n<text text-anchor=\"middle\" x=\"1669\" y=\"-1951.3\" font-family=\"Helvetica,sans-Serif\" font-size=\"14.00\" fill=\"#000000\">(...)</text>\n</g>\n<!-- 620&#45;&gt;621 -->\n<g id=\"edge37\" class=\"edge\">\n<title>620&#45;&gt;621</title>\n<path fill=\"none\" stroke=\"#000000\" d=\"M1602.045,-1934.9691C1612.7166,-1938.1617 1622.9217,-1941.2148 1632.006,-1943.9325\"/>\n<polygon fill=\"#000000\" stroke=\"#000000\" points=\"1631.1677,-1947.335 1641.7513,-1946.848 1633.174,-1940.6286 1631.1677,-1947.335\"/>\n</g>\n<!-- 646 -->\n<g id=\"node39\" class=\"node\">\n<title>646</title>\n<path fill=\"#c0c0c0\" stroke=\"#000000\" d=\"M1684,-1919C1684,-1919 1654,-1919 1654,-1919 1648,-1919 1642,-1913 1642,-1907 1642,-1907 1642,-1895 1642,-1895 1642,-1889 1648,-1883 1654,-1883 1654,-1883 1684,-1883 1684,-1883 1690,-1883 1696,-1889 1696,-1895 1696,-1895 1696,-1907 1696,-1907 1696,-1913 1690,-1919 1684,-1919\"/>\n<text text-anchor=\"middle\" x=\"1669\" y=\"-1897.3\" font-family=\"Helvetica,sans-Serif\" font-size=\"14.00\" fill=\"#000000\">(...)</text>\n</g>\n<!-- 620&#45;&gt;646 -->\n<g id=\"edge38\" class=\"edge\">\n<title>620&#45;&gt;646</title>\n<path fill=\"none\" stroke=\"#000000\" d=\"M1602.045,-1901C1612.6018,-1901 1622.7022,-1901 1631.7125,-1901\"/>\n<polygon fill=\"#000000\" stroke=\"#000000\" points=\"1631.7513,-1904.5001 1641.7513,-1901 1631.7513,-1897.5001 1631.7513,-1904.5001\"/>\n</g>\n<!-- 656 -->\n<g id=\"node41\" class=\"node\">\n<title>656</title>\n<path fill=\"#c0c0c0\" stroke=\"#000000\" d=\"M1684,-1865C1684,-1865 1654,-1865 1654,-1865 1648,-1865 1642,-1859 1642,-1853 1642,-1853 1642,-1841 1642,-1841 1642,-1835 1648,-1829 1654,-1829 1654,-1829 1684,-1829 1684,-1829 1690,-1829 1696,-1835 1696,-1841 1696,-1841 1696,-1853 1696,-1853 1696,-1859 1690,-1865 1684,-1865\"/>\n<text text-anchor=\"middle\" x=\"1669\" y=\"-1843.3\" font-family=\"Helvetica,sans-Serif\" font-size=\"14.00\" fill=\"#000000\">(...)</text>\n</g>\n<!-- 655&#45;&gt;656 -->\n<g id=\"edge40\" class=\"edge\">\n<title>655&#45;&gt;656</title>\n<path fill=\"none\" stroke=\"#000000\" d=\"M1597.6616,-1830.0053C1609.9117,-1832.9236 1621.6751,-1835.7259 1631.9932,-1838.184\"/>\n<polygon fill=\"#000000\" stroke=\"#000000\" points=\"1631.2552,-1841.606 1641.7941,-1840.5188 1632.8775,-1834.7966 1631.2552,-1841.606\"/>\n</g>\n<!-- 725 -->\n<g id=\"node42\" class=\"node\">\n<title>725</title>\n<path fill=\"#c0c0c0\" stroke=\"#000000\" d=\"M1684,-1811C1684,-1811 1654,-1811 1654,-1811 1648,-1811 1642,-1805 1642,-1799 1642,-1799 1642,-1787 1642,-1787 1642,-1781 1648,-1775 1654,-1775 1654,-1775 1684,-1775 1684,-1775 1690,-1775 1696,-1781 1696,-1787 1696,-1787 1696,-1799 1696,-1799 1696,-1805 1690,-1811 1684,-1811\"/>\n<text text-anchor=\"middle\" x=\"1669\" y=\"-1789.3\" font-family=\"Helvetica,sans-Serif\" font-size=\"14.00\" fill=\"#000000\">(...)</text>\n</g>\n<!-- 655&#45;&gt;725 -->\n<g id=\"edge41\" class=\"edge\">\n<title>655&#45;&gt;725</title>\n<path fill=\"none\" stroke=\"#000000\" d=\"M1597.6616,-1797.3475C1609.7841,-1796.6087 1621.43,-1795.899 1631.6703,-1795.2749\"/>\n<polygon fill=\"#000000\" stroke=\"#000000\" points=\"1632.0256,-1798.7599 1641.7941,-1794.658 1631.5997,-1791.7728 1632.0256,-1798.7599\"/>\n</g>\n<!-- 749 -->\n<g id=\"node44\" class=\"node\">\n<title>749</title>\n<path fill=\"#f8ddc9\" stroke=\"#000000\" d=\"M1590,-1735C1590,-1735 1387,-1735 1387,-1735 1381,-1735 1375,-1729 1375,-1723 1375,-1723 1375,-1679 1375,-1679 1375,-1673 1381,-1667 1387,-1667 1387,-1667 1590,-1667 1590,-1667 1596,-1667 1602,-1673 1602,-1679 1602,-1679 1602,-1723 1602,-1723 1602,-1729 1596,-1735 1590,-1735\"/>\n<text text-anchor=\"middle\" x=\"1488.5\" y=\"-1719.8\" font-family=\"Helvetica,sans-Serif\" font-size=\"14.00\" fill=\"#000000\">MasVnrArea &lt;= 302.5</text>\n<text text-anchor=\"middle\" x=\"1488.5\" y=\"-1704.8\" font-family=\"Helvetica,sans-Serif\" font-size=\"14.00\" fill=\"#000000\">squared_error = 788428490.266</text>\n<text text-anchor=\"middle\" x=\"1488.5\" y=\"-1689.8\" font-family=\"Helvetica,sans-Serif\" font-size=\"14.00\" fill=\"#000000\">samples = 50</text>\n<text text-anchor=\"middle\" x=\"1488.5\" y=\"-1674.8\" font-family=\"Helvetica,sans-Serif\" font-size=\"14.00\" fill=\"#000000\">value = 226986.41</text>\n</g>\n<!-- 748&#45;&gt;749 -->\n<g id=\"edge43\" class=\"edge\">\n<title>748&#45;&gt;749</title>\n<path fill=\"none\" stroke=\"#000000\" d=\"M1335.1822,-1676.6728C1344.9357,-1678.2204 1354.8145,-1679.7879 1364.6117,-1681.3424\"/>\n<polygon fill=\"#000000\" stroke=\"#000000\" points=\"1364.3583,-1684.8459 1374.7832,-1682.9564 1365.4553,-1677.9324 1364.3583,-1684.8459\"/>\n</g>\n<!-- 844 -->\n<g id=\"node47\" class=\"node\">\n<title>844</title>\n<path fill=\"#f5cfb4\" stroke=\"#000000\" d=\"M1590,-1649C1590,-1649 1387,-1649 1387,-1649 1381,-1649 1375,-1643 1375,-1637 1375,-1637 1375,-1593 1375,-1593 1375,-1587 1381,-1581 1387,-1581 1387,-1581 1590,-1581 1590,-1581 1596,-1581 1602,-1587 1602,-1593 1602,-1593 1602,-1637 1602,-1637 1602,-1643 1596,-1649 1590,-1649\"/>\n<text text-anchor=\"middle\" x=\"1488.5\" y=\"-1633.8\" font-family=\"Helvetica,sans-Serif\" font-size=\"14.00\" fill=\"#000000\">WoodDeckSF &lt;= 231.5</text>\n<text text-anchor=\"middle\" x=\"1488.5\" y=\"-1618.8\" font-family=\"Helvetica,sans-Serif\" font-size=\"14.00\" fill=\"#000000\">squared_error = 759802469.136</text>\n<text text-anchor=\"middle\" x=\"1488.5\" y=\"-1603.8\" font-family=\"Helvetica,sans-Serif\" font-size=\"14.00\" fill=\"#000000\">samples = 8</text>\n<text text-anchor=\"middle\" x=\"1488.5\" y=\"-1588.8\" font-family=\"Helvetica,sans-Serif\" font-size=\"14.00\" fill=\"#000000\">value = 305194.444</text>\n</g>\n<!-- 748&#45;&gt;844 -->\n<g id=\"edge46\" class=\"edge\">\n<title>748&#45;&gt;844</title>\n<path fill=\"none\" stroke=\"#000000\" d=\"M1335.1822,-1639.3272C1344.9357,-1637.7796 1354.8145,-1636.2121 1364.6117,-1634.6576\"/>\n<polygon fill=\"#000000\" stroke=\"#000000\" points=\"1365.4553,-1638.0676 1374.7832,-1633.0436 1364.3583,-1631.1541 1365.4553,-1638.0676\"/>\n</g>\n<!-- 750 -->\n<g id=\"node45\" class=\"node\">\n<title>750</title>\n<path fill=\"#c0c0c0\" stroke=\"#000000\" d=\"M1684,-1757C1684,-1757 1654,-1757 1654,-1757 1648,-1757 1642,-1751 1642,-1745 1642,-1745 1642,-1733 1642,-1733 1642,-1727 1648,-1721 1654,-1721 1654,-1721 1684,-1721 1684,-1721 1690,-1721 1696,-1727 1696,-1733 1696,-1733 1696,-1745 1696,-1745 1696,-1751 1690,-1757 1684,-1757\"/>\n<text text-anchor=\"middle\" x=\"1669\" y=\"-1735.3\" font-family=\"Helvetica,sans-Serif\" font-size=\"14.00\" fill=\"#000000\">(...)</text>\n</g>\n<!-- 749&#45;&gt;750 -->\n<g id=\"edge44\" class=\"edge\">\n<title>749&#45;&gt;750</title>\n<path fill=\"none\" stroke=\"#000000\" d=\"M1602.045,-1724.9042C1612.6018,-1727.1267 1622.7022,-1729.2531 1631.7125,-1731.15\"/>\n<polygon fill=\"#000000\" stroke=\"#000000\" points=\"1631.2447,-1734.6282 1641.7513,-1733.2634 1632.6869,-1727.7783 1631.2447,-1734.6282\"/>\n</g>\n<!-- 835 -->\n<g id=\"node46\" class=\"node\">\n<title>835</title>\n<path fill=\"#c0c0c0\" stroke=\"#000000\" d=\"M1684,-1703C1684,-1703 1654,-1703 1654,-1703 1648,-1703 1642,-1697 1642,-1691 1642,-1691 1642,-1679 1642,-1679 1642,-1673 1648,-1667 1654,-1667 1654,-1667 1684,-1667 1684,-1667 1690,-1667 1696,-1673 1696,-1679 1696,-1679 1696,-1691 1696,-1691 1696,-1697 1690,-1703 1684,-1703\"/>\n<text text-anchor=\"middle\" x=\"1669\" y=\"-1681.3\" font-family=\"Helvetica,sans-Serif\" font-size=\"14.00\" fill=\"#000000\">(...)</text>\n</g>\n<!-- 749&#45;&gt;835 -->\n<g id=\"edge45\" class=\"edge\">\n<title>749&#45;&gt;835</title>\n<path fill=\"none\" stroke=\"#000000\" d=\"M1602.045,-1690.9351C1612.6018,-1689.9993 1622.7022,-1689.104 1631.7125,-1688.3053\"/>\n<polygon fill=\"#000000\" stroke=\"#000000\" points=\"1632.0994,-1691.7848 1641.7513,-1687.4154 1631.4813,-1684.8121 1632.0994,-1691.7848\"/>\n</g>\n<!-- 845 -->\n<g id=\"node48\" class=\"node\">\n<title>845</title>\n<path fill=\"#c0c0c0\" stroke=\"#000000\" d=\"M1684,-1649C1684,-1649 1654,-1649 1654,-1649 1648,-1649 1642,-1643 1642,-1637 1642,-1637 1642,-1625 1642,-1625 1642,-1619 1648,-1613 1654,-1613 1654,-1613 1684,-1613 1684,-1613 1690,-1613 1696,-1619 1696,-1625 1696,-1625 1696,-1637 1696,-1637 1696,-1643 1690,-1649 1684,-1649\"/>\n<text text-anchor=\"middle\" x=\"1669\" y=\"-1627.3\" font-family=\"Helvetica,sans-Serif\" font-size=\"14.00\" fill=\"#000000\">(...)</text>\n</g>\n<!-- 844&#45;&gt;845 -->\n<g id=\"edge47\" class=\"edge\">\n<title>844&#45;&gt;845</title>\n<path fill=\"none\" stroke=\"#000000\" d=\"M1602.045,-1625.0649C1612.6018,-1626.0007 1622.7022,-1626.896 1631.7125,-1627.6947\"/>\n<polygon fill=\"#000000\" stroke=\"#000000\" points=\"1631.4813,-1631.1879 1641.7513,-1628.5846 1632.0994,-1624.2152 1631.4813,-1631.1879\"/>\n</g>\n<!-- 850 -->\n<g id=\"node49\" class=\"node\">\n<title>850</title>\n<path fill=\"#c0c0c0\" stroke=\"#000000\" d=\"M1684,-1595C1684,-1595 1654,-1595 1654,-1595 1648,-1595 1642,-1589 1642,-1583 1642,-1583 1642,-1571 1642,-1571 1642,-1565 1648,-1559 1654,-1559 1654,-1559 1684,-1559 1684,-1559 1690,-1559 1696,-1565 1696,-1571 1696,-1571 1696,-1583 1696,-1583 1696,-1589 1690,-1595 1684,-1595\"/>\n<text text-anchor=\"middle\" x=\"1669\" y=\"-1573.3\" font-family=\"Helvetica,sans-Serif\" font-size=\"14.00\" fill=\"#000000\">(...)</text>\n</g>\n<!-- 844&#45;&gt;850 -->\n<g id=\"edge48\" class=\"edge\">\n<title>844&#45;&gt;850</title>\n<path fill=\"none\" stroke=\"#000000\" d=\"M1602.045,-1591.0958C1612.6018,-1588.8733 1622.7022,-1586.7469 1631.7125,-1584.85\"/>\n<polygon fill=\"#000000\" stroke=\"#000000\" points=\"1632.6869,-1588.2217 1641.7513,-1582.7366 1631.2447,-1581.3718 1632.6869,-1588.2217\"/>\n</g>\n<!-- 858 -->\n<g id=\"node51\" class=\"node\">\n<title>858</title>\n<path fill=\"#fbe9dd\" stroke=\"#000000\" d=\"M1323,-1476C1323,-1476 1112,-1476 1112,-1476 1106,-1476 1100,-1470 1100,-1464 1100,-1464 1100,-1420 1100,-1420 1100,-1414 1106,-1408 1112,-1408 1112,-1408 1323,-1408 1323,-1408 1329,-1408 1335,-1414 1335,-1420 1335,-1420 1335,-1464 1335,-1464 1335,-1470 1329,-1476 1323,-1476\"/>\n<text text-anchor=\"middle\" x=\"1217.5\" y=\"-1460.8\" font-family=\"Helvetica,sans-Serif\" font-size=\"14.00\" fill=\"#000000\">2ndFlrSF &lt;= 1098.0</text>\n<text text-anchor=\"middle\" x=\"1217.5\" y=\"-1445.8\" font-family=\"Helvetica,sans-Serif\" font-size=\"14.00\" fill=\"#000000\">squared_error = 1305238470.816</text>\n<text text-anchor=\"middle\" x=\"1217.5\" y=\"-1430.8\" font-family=\"Helvetica,sans-Serif\" font-size=\"14.00\" fill=\"#000000\">samples = 80</text>\n<text text-anchor=\"middle\" x=\"1217.5\" y=\"-1415.8\" font-family=\"Helvetica,sans-Serif\" font-size=\"14.00\" fill=\"#000000\">value = 156404.448</text>\n</g>\n<!-- 857&#45;&gt;858 -->\n<g id=\"edge50\" class=\"edge\">\n<title>857&#45;&gt;858</title>\n<path fill=\"none\" stroke=\"#000000\" d=\"M1064.1822,-1442C1072.7037,-1442 1081.3208,-1442 1089.8956,-1442\"/>\n<polygon fill=\"#000000\" stroke=\"#000000\" points=\"1089.934,-1445.5001 1099.9339,-1442 1089.9339,-1438.5001 1089.934,-1445.5001\"/>\n</g>\n<!-- 1011 -->\n<g id=\"node58\" class=\"node\">\n<title>1011</title>\n<path fill=\"#f8dfcd\" stroke=\"#000000\" d=\"M1323,-1325C1323,-1325 1112,-1325 1112,-1325 1106,-1325 1100,-1319 1100,-1313 1100,-1313 1100,-1269 1100,-1269 1100,-1263 1106,-1257 1112,-1257 1112,-1257 1323,-1257 1323,-1257 1329,-1257 1335,-1263 1335,-1269 1335,-1269 1335,-1313 1335,-1313 1335,-1319 1329,-1325 1323,-1325\"/>\n<text text-anchor=\"middle\" x=\"1217.5\" y=\"-1309.8\" font-family=\"Helvetica,sans-Serif\" font-size=\"14.00\" fill=\"#000000\">OpenPorchSF &lt;= 121.0</text>\n<text text-anchor=\"middle\" x=\"1217.5\" y=\"-1294.8\" font-family=\"Helvetica,sans-Serif\" font-size=\"14.00\" fill=\"#000000\">squared_error = 1594336523.438</text>\n<text text-anchor=\"middle\" x=\"1217.5\" y=\"-1279.8\" font-family=\"Helvetica,sans-Serif\" font-size=\"14.00\" fill=\"#000000\">samples = 15</text>\n<text text-anchor=\"middle\" x=\"1217.5\" y=\"-1264.8\" font-family=\"Helvetica,sans-Serif\" font-size=\"14.00\" fill=\"#000000\">value = 213293.75</text>\n</g>\n<!-- 857&#45;&gt;1011 -->\n<g id=\"edge57\" class=\"edge\">\n<title>857&#45;&gt;1011</title>\n<path fill=\"none\" stroke=\"#000000\" d=\"M1007.6556,-1407.9244C1049.1335,-1384.8131 1104.0726,-1354.2013 1147.3321,-1330.0972\"/>\n<polygon fill=\"#000000\" stroke=\"#000000\" points=\"1149.0666,-1333.1375 1156.0985,-1325.2126 1145.6594,-1327.0226 1149.0666,-1333.1375\"/>\n</g>\n<!-- 859 -->\n<g id=\"node52\" class=\"node\">\n<title>859</title>\n<path fill=\"#fbeade\" stroke=\"#000000\" d=\"M1590,-1519C1590,-1519 1387,-1519 1387,-1519 1381,-1519 1375,-1513 1375,-1507 1375,-1507 1375,-1463 1375,-1463 1375,-1457 1381,-1451 1387,-1451 1387,-1451 1590,-1451 1590,-1451 1596,-1451 1602,-1457 1602,-1463 1602,-1463 1602,-1507 1602,-1507 1602,-1513 1596,-1519 1590,-1519\"/>\n<text text-anchor=\"middle\" x=\"1488.5\" y=\"-1503.8\" font-family=\"Helvetica,sans-Serif\" font-size=\"14.00\" fill=\"#000000\">Neighborhood &lt;= 10.5</text>\n<text text-anchor=\"middle\" x=\"1488.5\" y=\"-1488.8\" font-family=\"Helvetica,sans-Serif\" font-size=\"14.00\" fill=\"#000000\">squared_error = 933461321.962</text>\n<text text-anchor=\"middle\" x=\"1488.5\" y=\"-1473.8\" font-family=\"Helvetica,sans-Serif\" font-size=\"14.00\" fill=\"#000000\">samples = 76</text>\n<text text-anchor=\"middle\" x=\"1488.5\" y=\"-1458.8\" font-family=\"Helvetica,sans-Serif\" font-size=\"14.00\" fill=\"#000000\">value = 152238.171</text>\n</g>\n<!-- 858&#45;&gt;859 -->\n<g id=\"edge51\" class=\"edge\">\n<title>858&#45;&gt;859</title>\n<path fill=\"none\" stroke=\"#000000\" d=\"M1335.1822,-1460.6728C1344.9357,-1462.2204 1354.8145,-1463.7879 1364.6117,-1465.3424\"/>\n<polygon fill=\"#000000\" stroke=\"#000000\" points=\"1364.3583,-1468.8459 1374.7832,-1466.9564 1365.4553,-1461.9324 1364.3583,-1468.8459\"/>\n</g>\n<!-- 1004 -->\n<g id=\"node55\" class=\"node\">\n<title>1004</title>\n<path fill=\"#f7d9c3\" stroke=\"#000000\" d=\"M1585.5,-1433C1585.5,-1433 1391.5,-1433 1391.5,-1433 1385.5,-1433 1379.5,-1427 1379.5,-1421 1379.5,-1421 1379.5,-1377 1379.5,-1377 1379.5,-1371 1385.5,-1365 1391.5,-1365 1391.5,-1365 1585.5,-1365 1585.5,-1365 1591.5,-1365 1597.5,-1371 1597.5,-1377 1597.5,-1377 1597.5,-1421 1597.5,-1421 1597.5,-1427 1591.5,-1433 1585.5,-1433\"/>\n<text text-anchor=\"middle\" x=\"1488.5\" y=\"-1417.8\" font-family=\"Helvetica,sans-Serif\" font-size=\"14.00\" fill=\"#000000\">FireplaceQu &lt;= 1.0</text>\n<text text-anchor=\"middle\" x=\"1488.5\" y=\"-1402.8\" font-family=\"Helvetica,sans-Serif\" font-size=\"14.00\" fill=\"#000000\">squared_error = 618696430.56</text>\n<text text-anchor=\"middle\" x=\"1488.5\" y=\"-1387.8\" font-family=\"Helvetica,sans-Serif\" font-size=\"14.00\" fill=\"#000000\">samples = 4</text>\n<text text-anchor=\"middle\" x=\"1488.5\" y=\"-1372.8\" font-family=\"Helvetica,sans-Serif\" font-size=\"14.00\" fill=\"#000000\">value = 248895.8</text>\n</g>\n<!-- 858&#45;&gt;1004 -->\n<g id=\"edge54\" class=\"edge\">\n<title>858&#45;&gt;1004</title>\n<path fill=\"none\" stroke=\"#000000\" d=\"M1335.1822,-1423.3272C1346.5616,-1421.5216 1358.1116,-1419.6889 1369.5037,-1417.8813\"/>\n<polygon fill=\"#000000\" stroke=\"#000000\" points=\"1370.138,-1421.3246 1379.4659,-1416.3006 1369.041,-1414.411 1370.138,-1421.3246\"/>\n</g>\n<!-- 860 -->\n<g id=\"node53\" class=\"node\">\n<title>860</title>\n<path fill=\"#c0c0c0\" stroke=\"#000000\" d=\"M1684,-1541C1684,-1541 1654,-1541 1654,-1541 1648,-1541 1642,-1535 1642,-1529 1642,-1529 1642,-1517 1642,-1517 1642,-1511 1648,-1505 1654,-1505 1654,-1505 1684,-1505 1684,-1505 1690,-1505 1696,-1511 1696,-1517 1696,-1517 1696,-1529 1696,-1529 1696,-1535 1690,-1541 1684,-1541\"/>\n<text text-anchor=\"middle\" x=\"1669\" y=\"-1519.3\" font-family=\"Helvetica,sans-Serif\" font-size=\"14.00\" fill=\"#000000\">(...)</text>\n</g>\n<!-- 859&#45;&gt;860 -->\n<g id=\"edge52\" class=\"edge\">\n<title>859&#45;&gt;860</title>\n<path fill=\"none\" stroke=\"#000000\" d=\"M1602.045,-1508.9042C1612.6018,-1511.1267 1622.7022,-1513.2531 1631.7125,-1515.15\"/>\n<polygon fill=\"#000000\" stroke=\"#000000\" points=\"1631.2447,-1518.6282 1641.7513,-1517.2634 1632.6869,-1511.7783 1631.2447,-1518.6282\"/>\n</g>\n<!-- 981 -->\n<g id=\"node54\" class=\"node\">\n<title>981</title>\n<path fill=\"#c0c0c0\" stroke=\"#000000\" d=\"M1684,-1487C1684,-1487 1654,-1487 1654,-1487 1648,-1487 1642,-1481 1642,-1475 1642,-1475 1642,-1463 1642,-1463 1642,-1457 1648,-1451 1654,-1451 1654,-1451 1684,-1451 1684,-1451 1690,-1451 1696,-1457 1696,-1463 1696,-1463 1696,-1475 1696,-1475 1696,-1481 1690,-1487 1684,-1487\"/>\n<text text-anchor=\"middle\" x=\"1669\" y=\"-1465.3\" font-family=\"Helvetica,sans-Serif\" font-size=\"14.00\" fill=\"#000000\">(...)</text>\n</g>\n<!-- 859&#45;&gt;981 -->\n<g id=\"edge53\" class=\"edge\">\n<title>859&#45;&gt;981</title>\n<path fill=\"none\" stroke=\"#000000\" d=\"M1602.045,-1474.9351C1612.6018,-1473.9993 1622.7022,-1473.104 1631.7125,-1472.3053\"/>\n<polygon fill=\"#000000\" stroke=\"#000000\" points=\"1632.0994,-1475.7848 1641.7513,-1471.4154 1631.4813,-1468.8121 1632.0994,-1475.7848\"/>\n</g>\n<!-- 1005 -->\n<g id=\"node56\" class=\"node\">\n<title>1005</title>\n<path fill=\"#c0c0c0\" stroke=\"#000000\" d=\"M1684,-1433C1684,-1433 1654,-1433 1654,-1433 1648,-1433 1642,-1427 1642,-1421 1642,-1421 1642,-1409 1642,-1409 1642,-1403 1648,-1397 1654,-1397 1654,-1397 1684,-1397 1684,-1397 1690,-1397 1696,-1403 1696,-1409 1696,-1409 1696,-1421 1696,-1421 1696,-1427 1690,-1433 1684,-1433\"/>\n<text text-anchor=\"middle\" x=\"1669\" y=\"-1411.3\" font-family=\"Helvetica,sans-Serif\" font-size=\"14.00\" fill=\"#000000\">(...)</text>\n</g>\n<!-- 1004&#45;&gt;1005 -->\n<g id=\"edge55\" class=\"edge\">\n<title>1004&#45;&gt;1005</title>\n<path fill=\"none\" stroke=\"#000000\" d=\"M1597.6616,-1408.6764C1609.7841,-1409.7509 1621.43,-1410.7833 1631.6703,-1411.691\"/>\n<polygon fill=\"#000000\" stroke=\"#000000\" points=\"1631.5241,-1415.1917 1641.7941,-1412.5884 1632.1423,-1408.219 1631.5241,-1415.1917\"/>\n</g>\n<!-- 1006 -->\n<g id=\"node57\" class=\"node\">\n<title>1006</title>\n<path fill=\"#c0c0c0\" stroke=\"#000000\" d=\"M1684,-1379C1684,-1379 1654,-1379 1654,-1379 1648,-1379 1642,-1373 1642,-1367 1642,-1367 1642,-1355 1642,-1355 1642,-1349 1648,-1343 1654,-1343 1654,-1343 1684,-1343 1684,-1343 1690,-1343 1696,-1349 1696,-1355 1696,-1355 1696,-1367 1696,-1367 1696,-1373 1690,-1379 1684,-1379\"/>\n<text text-anchor=\"middle\" x=\"1669\" y=\"-1357.3\" font-family=\"Helvetica,sans-Serif\" font-size=\"14.00\" fill=\"#000000\">(...)</text>\n</g>\n<!-- 1004&#45;&gt;1006 -->\n<g id=\"edge56\" class=\"edge\">\n<title>1004&#45;&gt;1006</title>\n<path fill=\"none\" stroke=\"#000000\" d=\"M1597.6616,-1376.0186C1609.9117,-1373.4396 1621.6751,-1370.9631 1631.9932,-1368.7909\"/>\n<polygon fill=\"#000000\" stroke=\"#000000\" points=\"1632.7297,-1372.2127 1641.7941,-1366.7276 1631.2876,-1365.3628 1632.7297,-1372.2127\"/>\n</g>\n<!-- 1012 -->\n<g id=\"node59\" class=\"node\">\n<title>1012</title>\n<path fill=\"#f8dcc8\" stroke=\"#000000\" d=\"M1585.5,-1325C1585.5,-1325 1391.5,-1325 1391.5,-1325 1385.5,-1325 1379.5,-1319 1379.5,-1313 1379.5,-1313 1379.5,-1269 1379.5,-1269 1379.5,-1263 1385.5,-1257 1391.5,-1257 1391.5,-1257 1585.5,-1257 1585.5,-1257 1591.5,-1257 1597.5,-1263 1597.5,-1269 1597.5,-1269 1597.5,-1313 1597.5,-1313 1597.5,-1319 1591.5,-1325 1585.5,-1325\"/>\n<text text-anchor=\"middle\" x=\"1488.5\" y=\"-1309.8\" font-family=\"Helvetica,sans-Serif\" font-size=\"14.00\" fill=\"#000000\">TotalBsmtSF &lt;= 1333.0</text>\n<text text-anchor=\"middle\" x=\"1488.5\" y=\"-1294.8\" font-family=\"Helvetica,sans-Serif\" font-size=\"14.00\" fill=\"#000000\">squared_error = 806708667.82</text>\n<text text-anchor=\"middle\" x=\"1488.5\" y=\"-1279.8\" font-family=\"Helvetica,sans-Serif\" font-size=\"14.00\" fill=\"#000000\">samples = 9</text>\n<text text-anchor=\"middle\" x=\"1488.5\" y=\"-1264.8\" font-family=\"Helvetica,sans-Serif\" font-size=\"14.00\" fill=\"#000000\">value = 230697.059</text>\n</g>\n<!-- 1011&#45;&gt;1012 -->\n<g id=\"edge58\" class=\"edge\">\n<title>1011&#45;&gt;1012</title>\n<path fill=\"none\" stroke=\"#000000\" d=\"M1335.1822,-1291C1346.4467,-1291 1357.8783,-1291 1369.1584,-1291\"/>\n<polygon fill=\"#000000\" stroke=\"#000000\" points=\"1369.466,-1294.5001 1379.4659,-1291 1369.4659,-1287.5001 1369.466,-1294.5001\"/>\n</g>\n<!-- 1029 -->\n<g id=\"node62\" class=\"node\">\n<title>1029</title>\n<path fill=\"#fae7d9\" stroke=\"#000000\" d=\"M1590,-1233C1590,-1233 1387,-1233 1387,-1233 1381,-1233 1375,-1227 1375,-1221 1375,-1221 1375,-1177 1375,-1177 1375,-1171 1381,-1165 1387,-1165 1387,-1165 1590,-1165 1590,-1165 1596,-1165 1602,-1171 1602,-1177 1602,-1177 1602,-1221 1602,-1221 1602,-1227 1596,-1233 1590,-1233\"/>\n<text text-anchor=\"middle\" x=\"1488.5\" y=\"-1217.8\" font-family=\"Helvetica,sans-Serif\" font-size=\"14.00\" fill=\"#000000\">OverallQual &lt;= 5.5</text>\n<text text-anchor=\"middle\" x=\"1488.5\" y=\"-1202.8\" font-family=\"Helvetica,sans-Serif\" font-size=\"14.00\" fill=\"#000000\">squared_error = 985247755.102</text>\n<text text-anchor=\"middle\" x=\"1488.5\" y=\"-1187.8\" font-family=\"Helvetica,sans-Serif\" font-size=\"14.00\" fill=\"#000000\">samples = 6</text>\n<text text-anchor=\"middle\" x=\"1488.5\" y=\"-1172.8\" font-family=\"Helvetica,sans-Serif\" font-size=\"14.00\" fill=\"#000000\">value = 171028.571</text>\n</g>\n<!-- 1011&#45;&gt;1029 -->\n<g id=\"edge61\" class=\"edge\">\n<title>1011&#45;&gt;1029</title>\n<path fill=\"none\" stroke=\"#000000\" d=\"M1318.0253,-1256.8733C1337.7017,-1250.1935 1358.4342,-1243.1552 1378.4034,-1236.376\"/>\n<polygon fill=\"#000000\" stroke=\"#000000\" points=\"1379.793,-1239.6005 1388.1371,-1233.0715 1377.5427,-1232.972 1379.793,-1239.6005\"/>\n</g>\n<!-- 1013 -->\n<g id=\"node60\" class=\"node\">\n<title>1013</title>\n<path fill=\"#c0c0c0\" stroke=\"#000000\" d=\"M1684,-1325C1684,-1325 1654,-1325 1654,-1325 1648,-1325 1642,-1319 1642,-1313 1642,-1313 1642,-1301 1642,-1301 1642,-1295 1648,-1289 1654,-1289 1654,-1289 1684,-1289 1684,-1289 1690,-1289 1696,-1295 1696,-1301 1696,-1301 1696,-1313 1696,-1313 1696,-1319 1690,-1325 1684,-1325\"/>\n<text text-anchor=\"middle\" x=\"1669\" y=\"-1303.3\" font-family=\"Helvetica,sans-Serif\" font-size=\"14.00\" fill=\"#000000\">(...)</text>\n</g>\n<!-- 1012&#45;&gt;1013 -->\n<g id=\"edge59\" class=\"edge\">\n<title>1012&#45;&gt;1013</title>\n<path fill=\"none\" stroke=\"#000000\" d=\"M1597.6616,-1300.6764C1609.7841,-1301.7509 1621.43,-1302.7833 1631.6703,-1303.691\"/>\n<polygon fill=\"#000000\" stroke=\"#000000\" points=\"1631.5241,-1307.1917 1641.7941,-1304.5884 1632.1423,-1300.219 1631.5241,-1307.1917\"/>\n</g>\n<!-- 1022 -->\n<g id=\"node61\" class=\"node\">\n<title>1022</title>\n<path fill=\"#c0c0c0\" stroke=\"#000000\" d=\"M1684,-1271C1684,-1271 1654,-1271 1654,-1271 1648,-1271 1642,-1265 1642,-1259 1642,-1259 1642,-1247 1642,-1247 1642,-1241 1648,-1235 1654,-1235 1654,-1235 1684,-1235 1684,-1235 1690,-1235 1696,-1241 1696,-1247 1696,-1247 1696,-1259 1696,-1259 1696,-1265 1690,-1271 1684,-1271\"/>\n<text text-anchor=\"middle\" x=\"1669\" y=\"-1249.3\" font-family=\"Helvetica,sans-Serif\" font-size=\"14.00\" fill=\"#000000\">(...)</text>\n</g>\n<!-- 1012&#45;&gt;1022 -->\n<g id=\"edge60\" class=\"edge\">\n<title>1012&#45;&gt;1022</title>\n<path fill=\"none\" stroke=\"#000000\" d=\"M1597.6616,-1268.0186C1609.9117,-1265.4396 1621.6751,-1262.9631 1631.9932,-1260.7909\"/>\n<polygon fill=\"#000000\" stroke=\"#000000\" points=\"1632.7297,-1264.2127 1641.7941,-1258.7276 1631.2876,-1257.3628 1632.7297,-1264.2127\"/>\n</g>\n<!-- 1030 -->\n<g id=\"node63\" class=\"node\">\n<title>1030</title>\n<path fill=\"#c0c0c0\" stroke=\"#000000\" d=\"M1684,-1217C1684,-1217 1654,-1217 1654,-1217 1648,-1217 1642,-1211 1642,-1205 1642,-1205 1642,-1193 1642,-1193 1642,-1187 1648,-1181 1654,-1181 1654,-1181 1684,-1181 1684,-1181 1690,-1181 1696,-1187 1696,-1193 1696,-1193 1696,-1205 1696,-1205 1696,-1211 1690,-1217 1684,-1217\"/>\n<text text-anchor=\"middle\" x=\"1669\" y=\"-1195.3\" font-family=\"Helvetica,sans-Serif\" font-size=\"14.00\" fill=\"#000000\">(...)</text>\n</g>\n<!-- 1029&#45;&gt;1030 -->\n<g id=\"edge62\" class=\"edge\">\n<title>1029&#45;&gt;1030</title>\n<path fill=\"none\" stroke=\"#000000\" d=\"M1602.045,-1199C1612.6018,-1199 1622.7022,-1199 1631.7125,-1199\"/>\n<polygon fill=\"#000000\" stroke=\"#000000\" points=\"1631.7513,-1202.5001 1641.7513,-1199 1631.7513,-1195.5001 1631.7513,-1202.5001\"/>\n</g>\n<!-- 1039 -->\n<g id=\"node64\" class=\"node\">\n<title>1039</title>\n<path fill=\"#c0c0c0\" stroke=\"#000000\" d=\"M1684,-1163C1684,-1163 1654,-1163 1654,-1163 1648,-1163 1642,-1157 1642,-1151 1642,-1151 1642,-1139 1642,-1139 1642,-1133 1648,-1127 1654,-1127 1654,-1127 1684,-1127 1684,-1127 1690,-1127 1696,-1133 1696,-1139 1696,-1139 1696,-1151 1696,-1151 1696,-1157 1690,-1163 1684,-1163\"/>\n<text text-anchor=\"middle\" x=\"1669\" y=\"-1141.3\" font-family=\"Helvetica,sans-Serif\" font-size=\"14.00\" fill=\"#000000\">(...)</text>\n</g>\n<!-- 1029&#45;&gt;1039 -->\n<g id=\"edge63\" class=\"edge\">\n<title>1029&#45;&gt;1039</title>\n<path fill=\"none\" stroke=\"#000000\" d=\"M1602.045,-1165.0309C1612.7166,-1161.8383 1622.9217,-1158.7852 1632.006,-1156.0675\"/>\n<polygon fill=\"#000000\" stroke=\"#000000\" points=\"1633.174,-1159.3714 1641.7513,-1153.152 1631.1677,-1152.665 1633.174,-1159.3714\"/>\n</g>\n<!-- 1041 -->\n<g id=\"node66\" class=\"node\">\n<title>1041</title>\n<path fill=\"#f6d2b9\" stroke=\"#000000\" d=\"M777,-709C777,-709 566,-709 566,-709 560,-709 554,-703 554,-697 554,-697 554,-653 554,-653 554,-647 560,-641 566,-641 566,-641 777,-641 777,-641 783,-641 789,-647 789,-653 789,-653 789,-697 789,-697 789,-703 783,-709 777,-709\"/>\n<text text-anchor=\"middle\" x=\"671.5\" y=\"-693.8\" font-family=\"Helvetica,sans-Serif\" font-size=\"14.00\" fill=\"#000000\">BsmtQual &lt;= 3.5</text>\n<text text-anchor=\"middle\" x=\"671.5\" y=\"-678.8\" font-family=\"Helvetica,sans-Serif\" font-size=\"14.00\" fill=\"#000000\">squared_error = 4808188282.438</text>\n<text text-anchor=\"middle\" x=\"671.5\" y=\"-663.8\" font-family=\"Helvetica,sans-Serif\" font-size=\"14.00\" fill=\"#000000\">samples = 87</text>\n<text text-anchor=\"middle\" x=\"671.5\" y=\"-648.8\" font-family=\"Helvetica,sans-Serif\" font-size=\"14.00\" fill=\"#000000\">value = 287373.71</text>\n</g>\n<!-- 1040&#45;&gt;1041 -->\n<g id=\"edge65\" class=\"edge\">\n<title>1040&#45;&gt;1041</title>\n<path fill=\"none\" stroke=\"#000000\" d=\"M514.0618,-675C523.8706,-675 533.7998,-675 543.6508,-675\"/>\n<polygon fill=\"#000000\" stroke=\"#000000\" points=\"543.8802,-678.5001 553.8801,-675 543.8801,-671.5001 543.8802,-678.5001\"/>\n</g>\n<!-- 1210 -->\n<g id=\"node95\" class=\"node\">\n<title>1210</title>\n<path fill=\"#eeab7b\" stroke=\"#000000\" d=\"M781,-302C781,-302 562,-302 562,-302 556,-302 550,-296 550,-290 550,-290 550,-246 550,-246 550,-240 556,-234 562,-234 562,-234 781,-234 781,-234 787,-234 793,-240 793,-246 793,-246 793,-290 793,-290 793,-296 787,-302 781,-302\"/>\n<text text-anchor=\"middle\" x=\"671.5\" y=\"-286.8\" font-family=\"Helvetica,sans-Serif\" font-size=\"14.00\" fill=\"#000000\">YearBuilt &lt;= 13.0</text>\n<text text-anchor=\"middle\" x=\"671.5\" y=\"-271.8\" font-family=\"Helvetica,sans-Serif\" font-size=\"14.00\" fill=\"#000000\">squared_error = 18415673247.633</text>\n<text text-anchor=\"middle\" x=\"671.5\" y=\"-256.8\" font-family=\"Helvetica,sans-Serif\" font-size=\"14.00\" fill=\"#000000\">samples = 9</text>\n<text text-anchor=\"middle\" x=\"671.5\" y=\"-241.8\" font-family=\"Helvetica,sans-Serif\" font-size=\"14.00\" fill=\"#000000\">value = 509354.714</text>\n</g>\n<!-- 1040&#45;&gt;1210 -->\n<g id=\"edge94\" class=\"edge\">\n<title>1040&#45;&gt;1210</title>\n<path fill=\"none\" stroke=\"#000000\" d=\"M415.8075,-640.9994C466.4787,-567.0812 586.578,-391.8826 642.2411,-310.6823\"/>\n<polygon fill=\"#000000\" stroke=\"#000000\" points=\"645.2953,-312.4171 648.0626,-302.19 639.5216,-308.4592 645.2953,-312.4171\"/>\n</g>\n<!-- 1042 -->\n<g id=\"node67\" class=\"node\">\n<title>1042</title>\n<path fill=\"#f7d9c4\" stroke=\"#000000\" d=\"M1052,-828C1052,-828 841,-828 841,-828 835,-828 829,-822 829,-816 829,-816 829,-772 829,-772 829,-766 835,-760 841,-760 841,-760 1052,-760 1052,-760 1058,-760 1064,-766 1064,-772 1064,-772 1064,-816 1064,-816 1064,-822 1058,-828 1052,-828\"/>\n<text text-anchor=\"middle\" x=\"946.5\" y=\"-812.8\" font-family=\"Helvetica,sans-Serif\" font-size=\"14.00\" fill=\"#000000\">TotalBsmtSF &lt;= 968.0</text>\n<text text-anchor=\"middle\" x=\"946.5\" y=\"-797.8\" font-family=\"Helvetica,sans-Serif\" font-size=\"14.00\" fill=\"#000000\">squared_error = 2257845748.369</text>\n<text text-anchor=\"middle\" x=\"946.5\" y=\"-782.8\" font-family=\"Helvetica,sans-Serif\" font-size=\"14.00\" fill=\"#000000\">samples = 52</text>\n<text text-anchor=\"middle\" x=\"946.5\" y=\"-767.8\" font-family=\"Helvetica,sans-Serif\" font-size=\"14.00\" fill=\"#000000\">value = 246469.146</text>\n</g>\n<!-- 1041&#45;&gt;1042 -->\n<g id=\"edge66\" class=\"edge\">\n<title>1041&#45;&gt;1042</title>\n<path fill=\"none\" stroke=\"#000000\" d=\"M750.304,-709.1006C784.1053,-723.7274 823.7324,-740.8751 858.4906,-755.916\"/>\n<polygon fill=\"#000000\" stroke=\"#000000\" points=\"857.1169,-759.1351 867.6845,-759.8944 859.8969,-752.7108 857.1169,-759.1351\"/>\n</g>\n<!-- 1143 -->\n<g id=\"node82\" class=\"node\">\n<title>1143</title>\n<path fill=\"#f4c8a8\" stroke=\"#000000\" d=\"M1048,-617C1048,-617 845,-617 845,-617 839,-617 833,-611 833,-605 833,-605 833,-561 833,-561 833,-555 839,-549 845,-549 845,-549 1048,-549 1048,-549 1054,-549 1060,-555 1060,-561 1060,-561 1060,-605 1060,-605 1060,-611 1054,-617 1048,-617\"/>\n<text text-anchor=\"middle\" x=\"946.5\" y=\"-601.8\" font-family=\"Helvetica,sans-Serif\" font-size=\"14.00\" fill=\"#000000\">TotalBsmtSF &lt;= 1840.0</text>\n<text text-anchor=\"middle\" x=\"946.5\" y=\"-586.8\" font-family=\"Helvetica,sans-Serif\" font-size=\"14.00\" fill=\"#000000\">squared_error = 2505072925.79</text>\n<text text-anchor=\"middle\" x=\"946.5\" y=\"-571.8\" font-family=\"Helvetica,sans-Serif\" font-size=\"14.00\" fill=\"#000000\">samples = 35</text>\n<text text-anchor=\"middle\" x=\"946.5\" y=\"-556.8\" font-family=\"Helvetica,sans-Serif\" font-size=\"14.00\" fill=\"#000000\">value = 347269.679</text>\n</g>\n<!-- 1041&#45;&gt;1143 -->\n<g id=\"edge81\" class=\"edge\">\n<title>1041&#45;&gt;1143</title>\n<path fill=\"none\" stroke=\"#000000\" d=\"M773.5091,-640.8733C793.5666,-634.1632 814.7057,-627.0912 835.0546,-620.2835\"/>\n<polygon fill=\"#000000\" stroke=\"#000000\" points=\"836.2828,-623.5634 844.6557,-617.0715 834.0619,-616.925 836.2828,-623.5634\"/>\n</g>\n<!-- 1043 -->\n<g id=\"node68\" class=\"node\">\n<title>1043</title>\n<path fill=\"#f9e4d5\" stroke=\"#000000\" d=\"M1323,-974C1323,-974 1112,-974 1112,-974 1106,-974 1100,-968 1100,-962 1100,-962 1100,-918 1100,-918 1100,-912 1106,-906 1112,-906 1112,-906 1323,-906 1323,-906 1329,-906 1335,-912 1335,-918 1335,-918 1335,-962 1335,-962 1335,-968 1329,-974 1323,-974\"/>\n<text text-anchor=\"middle\" x=\"1217.5\" y=\"-958.8\" font-family=\"Helvetica,sans-Serif\" font-size=\"14.00\" fill=\"#000000\">BsmtUnfSF &lt;= 784.0</text>\n<text text-anchor=\"middle\" x=\"1217.5\" y=\"-943.8\" font-family=\"Helvetica,sans-Serif\" font-size=\"14.00\" fill=\"#000000\">squared_error = 1172615363.322</text>\n<text text-anchor=\"middle\" x=\"1217.5\" y=\"-928.8\" font-family=\"Helvetica,sans-Serif\" font-size=\"14.00\" fill=\"#000000\">samples = 9</text>\n<text text-anchor=\"middle\" x=\"1217.5\" y=\"-913.8\" font-family=\"Helvetica,sans-Serif\" font-size=\"14.00\" fill=\"#000000\">value = 186458.824</text>\n</g>\n<!-- 1042&#45;&gt;1043 -->\n<g id=\"edge67\" class=\"edge\">\n<title>1042&#45;&gt;1043</title>\n<path fill=\"none\" stroke=\"#000000\" d=\"M1009.6954,-828.0463C1050.2881,-849.9154 1103.1244,-878.3807 1145.3608,-901.1353\"/>\n<polygon fill=\"#000000\" stroke=\"#000000\" points=\"1143.7407,-904.2381 1154.2044,-905.8998 1147.0608,-898.0755 1143.7407,-904.2381\"/>\n</g>\n<!-- 1060 -->\n<g id=\"node75\" class=\"node\">\n<title>1060</title>\n<path fill=\"#f7d7c0\" stroke=\"#000000\" d=\"M1323,-828C1323,-828 1112,-828 1112,-828 1106,-828 1100,-822 1100,-816 1100,-816 1100,-772 1100,-772 1100,-766 1106,-760 1112,-760 1112,-760 1323,-760 1323,-760 1329,-760 1335,-766 1335,-772 1335,-772 1335,-816 1335,-816 1335,-822 1329,-828 1323,-828\"/>\n<text text-anchor=\"middle\" x=\"1217.5\" y=\"-812.8\" font-family=\"Helvetica,sans-Serif\" font-size=\"14.00\" fill=\"#000000\">GrLivArea &lt;= 1713.0</text>\n<text text-anchor=\"middle\" x=\"1217.5\" y=\"-797.8\" font-family=\"Helvetica,sans-Serif\" font-size=\"14.00\" fill=\"#000000\">squared_error = 1353479506.222</text>\n<text text-anchor=\"middle\" x=\"1217.5\" y=\"-782.8\" font-family=\"Helvetica,sans-Serif\" font-size=\"14.00\" fill=\"#000000\">samples = 43</text>\n<text text-anchor=\"middle\" x=\"1217.5\" y=\"-767.8\" font-family=\"Helvetica,sans-Serif\" font-size=\"14.00\" fill=\"#000000\">value = 262164.154</text>\n</g>\n<!-- 1042&#45;&gt;1060 -->\n<g id=\"edge74\" class=\"edge\">\n<title>1042&#45;&gt;1060</title>\n<path fill=\"none\" stroke=\"#000000\" d=\"M1064.1822,-794C1072.7037,-794 1081.3208,-794 1089.8956,-794\"/>\n<polygon fill=\"#000000\" stroke=\"#000000\" points=\"1089.934,-797.5001 1099.9339,-794 1089.9339,-790.5001 1089.934,-797.5001\"/>\n</g>\n<!-- 1044 -->\n<g id=\"node69\" class=\"node\">\n<title>1044</title>\n<path fill=\"#fae9dc\" stroke=\"#000000\" d=\"M1590,-1071C1590,-1071 1387,-1071 1387,-1071 1381,-1071 1375,-1065 1375,-1059 1375,-1059 1375,-1015 1375,-1015 1375,-1009 1381,-1003 1387,-1003 1387,-1003 1590,-1003 1590,-1003 1596,-1003 1602,-1009 1602,-1015 1602,-1015 1602,-1059 1602,-1059 1602,-1065 1596,-1071 1590,-1071\"/>\n<text text-anchor=\"middle\" x=\"1488.5\" y=\"-1055.8\" font-family=\"Helvetica,sans-Serif\" font-size=\"14.00\" fill=\"#000000\">BsmtCond &lt;= 2.5</text>\n<text text-anchor=\"middle\" x=\"1488.5\" y=\"-1040.8\" font-family=\"Helvetica,sans-Serif\" font-size=\"14.00\" fill=\"#000000\">squared_error = 427008395.062</text>\n<text text-anchor=\"middle\" x=\"1488.5\" y=\"-1025.8\" font-family=\"Helvetica,sans-Serif\" font-size=\"14.00\" fill=\"#000000\">samples = 5</text>\n<text text-anchor=\"middle\" x=\"1488.5\" y=\"-1010.8\" font-family=\"Helvetica,sans-Serif\" font-size=\"14.00\" fill=\"#000000\">value = 158677.778</text>\n</g>\n<!-- 1043&#45;&gt;1044 -->\n<g id=\"edge68\" class=\"edge\">\n<title>1043&#45;&gt;1044</title>\n<path fill=\"none\" stroke=\"#000000\" d=\"M1312.6634,-974.0622C1335.5848,-982.2665 1360.2007,-991.0774 1383.5412,-999.4317\"/>\n<polygon fill=\"#000000\" stroke=\"#000000\" points=\"1382.5136,-1002.7813 1393.1081,-1002.8561 1384.8726,-996.1907 1382.5136,-1002.7813\"/>\n</g>\n<!-- 1053 -->\n<g id=\"node72\" class=\"node\">\n<title>1053</title>\n<path fill=\"#f8dfcc\" stroke=\"#000000\" d=\"M1585.5,-974C1585.5,-974 1391.5,-974 1391.5,-974 1385.5,-974 1379.5,-968 1379.5,-962 1379.5,-962 1379.5,-918 1379.5,-918 1379.5,-912 1385.5,-906 1391.5,-906 1391.5,-906 1585.5,-906 1585.5,-906 1591.5,-906 1597.5,-912 1597.5,-918 1597.5,-918 1597.5,-962 1597.5,-962 1597.5,-968 1591.5,-974 1585.5,-974\"/>\n<text text-anchor=\"middle\" x=\"1488.5\" y=\"-958.8\" font-family=\"Helvetica,sans-Serif\" font-size=\"14.00\" fill=\"#000000\">WoodDeckSF &lt;= 67.5</text>\n<text text-anchor=\"middle\" x=\"1488.5\" y=\"-943.8\" font-family=\"Helvetica,sans-Serif\" font-size=\"14.00\" fill=\"#000000\">squared_error = 166371093.75</text>\n<text text-anchor=\"middle\" x=\"1488.5\" y=\"-928.8\" font-family=\"Helvetica,sans-Serif\" font-size=\"14.00\" fill=\"#000000\">samples = 4</text>\n<text text-anchor=\"middle\" x=\"1488.5\" y=\"-913.8\" font-family=\"Helvetica,sans-Serif\" font-size=\"14.00\" fill=\"#000000\">value = 217712.5</text>\n</g>\n<!-- 1043&#45;&gt;1053 -->\n<g id=\"edge71\" class=\"edge\">\n<title>1043&#45;&gt;1053</title>\n<path fill=\"none\" stroke=\"#000000\" d=\"M1335.1822,-940C1346.4467,-940 1357.8783,-940 1369.1584,-940\"/>\n<polygon fill=\"#000000\" stroke=\"#000000\" points=\"1369.466,-943.5001 1379.4659,-940 1369.4659,-936.5001 1369.466,-943.5001\"/>\n</g>\n<!-- 1045 -->\n<g id=\"node70\" class=\"node\">\n<title>1045</title>\n<path fill=\"#c0c0c0\" stroke=\"#000000\" d=\"M1684,-1109C1684,-1109 1654,-1109 1654,-1109 1648,-1109 1642,-1103 1642,-1097 1642,-1097 1642,-1085 1642,-1085 1642,-1079 1648,-1073 1654,-1073 1654,-1073 1684,-1073 1684,-1073 1690,-1073 1696,-1079 1696,-1085 1696,-1085 1696,-1097 1696,-1097 1696,-1103 1690,-1109 1684,-1109\"/>\n<text text-anchor=\"middle\" x=\"1669\" y=\"-1087.3\" font-family=\"Helvetica,sans-Serif\" font-size=\"14.00\" fill=\"#000000\">(...)</text>\n</g>\n<!-- 1044&#45;&gt;1045 -->\n<g id=\"edge69\" class=\"edge\">\n<title>1044&#45;&gt;1045</title>\n<path fill=\"none\" stroke=\"#000000\" d=\"M1602.045,-1070.9691C1612.7166,-1074.1617 1622.9217,-1077.2148 1632.006,-1079.9325\"/>\n<polygon fill=\"#000000\" stroke=\"#000000\" points=\"1631.1677,-1083.335 1641.7513,-1082.848 1633.174,-1076.6286 1631.1677,-1083.335\"/>\n</g>\n<!-- 1046 -->\n<g id=\"node71\" class=\"node\">\n<title>1046</title>\n<path fill=\"#c0c0c0\" stroke=\"#000000\" d=\"M1684,-1055C1684,-1055 1654,-1055 1654,-1055 1648,-1055 1642,-1049 1642,-1043 1642,-1043 1642,-1031 1642,-1031 1642,-1025 1648,-1019 1654,-1019 1654,-1019 1684,-1019 1684,-1019 1690,-1019 1696,-1025 1696,-1031 1696,-1031 1696,-1043 1696,-1043 1696,-1049 1690,-1055 1684,-1055\"/>\n<text text-anchor=\"middle\" x=\"1669\" y=\"-1033.3\" font-family=\"Helvetica,sans-Serif\" font-size=\"14.00\" fill=\"#000000\">(...)</text>\n</g>\n<!-- 1044&#45;&gt;1046 -->\n<g id=\"edge70\" class=\"edge\">\n<title>1044&#45;&gt;1046</title>\n<path fill=\"none\" stroke=\"#000000\" d=\"M1602.045,-1037C1612.6018,-1037 1622.7022,-1037 1631.7125,-1037\"/>\n<polygon fill=\"#000000\" stroke=\"#000000\" points=\"1631.7513,-1040.5001 1641.7513,-1037 1631.7513,-1033.5001 1631.7513,-1040.5001\"/>\n</g>\n<!-- 1054 -->\n<g id=\"node73\" class=\"node\">\n<title>1054</title>\n<path fill=\"#c0c0c0\" stroke=\"#000000\" d=\"M1684,-1001C1684,-1001 1654,-1001 1654,-1001 1648,-1001 1642,-995 1642,-989 1642,-989 1642,-977 1642,-977 1642,-971 1648,-965 1654,-965 1654,-965 1684,-965 1684,-965 1690,-965 1696,-971 1696,-977 1696,-977 1696,-989 1696,-989 1696,-995 1690,-1001 1684,-1001\"/>\n<text text-anchor=\"middle\" x=\"1669\" y=\"-979.3\" font-family=\"Helvetica,sans-Serif\" font-size=\"14.00\" fill=\"#000000\">(...)</text>\n</g>\n<!-- 1053&#45;&gt;1054 -->\n<g id=\"edge72\" class=\"edge\">\n<title>1053&#45;&gt;1054</title>\n<path fill=\"none\" stroke=\"#000000\" d=\"M1597.6616,-966.0053C1609.9117,-968.9236 1621.6751,-971.7259 1631.9932,-974.184\"/>\n<polygon fill=\"#000000\" stroke=\"#000000\" points=\"1631.2552,-977.606 1641.7941,-976.5188 1632.8775,-970.7966 1631.2552,-977.606\"/>\n</g>\n<!-- 1057 -->\n<g id=\"node74\" class=\"node\">\n<title>1057</title>\n<path fill=\"#c0c0c0\" stroke=\"#000000\" d=\"M1684,-947C1684,-947 1654,-947 1654,-947 1648,-947 1642,-941 1642,-935 1642,-935 1642,-923 1642,-923 1642,-917 1648,-911 1654,-911 1654,-911 1684,-911 1684,-911 1690,-911 1696,-917 1696,-923 1696,-923 1696,-935 1696,-935 1696,-941 1690,-947 1684,-947\"/>\n<text text-anchor=\"middle\" x=\"1669\" y=\"-925.3\" font-family=\"Helvetica,sans-Serif\" font-size=\"14.00\" fill=\"#000000\">(...)</text>\n</g>\n<!-- 1053&#45;&gt;1057 -->\n<g id=\"edge73\" class=\"edge\">\n<title>1053&#45;&gt;1057</title>\n<path fill=\"none\" stroke=\"#000000\" d=\"M1597.6616,-933.3475C1609.7841,-932.6087 1621.43,-931.899 1631.6703,-931.2749\"/>\n<polygon fill=\"#000000\" stroke=\"#000000\" points=\"1632.0256,-934.7599 1641.7941,-930.658 1631.5997,-927.7728 1632.0256,-934.7599\"/>\n</g>\n<!-- 1061 -->\n<g id=\"node76\" class=\"node\">\n<title>1061</title>\n<path fill=\"#f8dbc6\" stroke=\"#000000\" d=\"M1590,-871C1590,-871 1387,-871 1387,-871 1381,-871 1375,-865 1375,-859 1375,-859 1375,-815 1375,-815 1375,-809 1381,-803 1387,-803 1387,-803 1590,-803 1590,-803 1596,-803 1602,-809 1602,-815 1602,-815 1602,-859 1602,-859 1602,-865 1596,-871 1590,-871\"/>\n<text text-anchor=\"middle\" x=\"1488.5\" y=\"-855.8\" font-family=\"Helvetica,sans-Serif\" font-size=\"14.00\" fill=\"#000000\">TotalBsmtSF &lt;= 1419.0</text>\n<text text-anchor=\"middle\" x=\"1488.5\" y=\"-840.8\" font-family=\"Helvetica,sans-Serif\" font-size=\"14.00\" fill=\"#000000\">squared_error = 531718717.358</text>\n<text text-anchor=\"middle\" x=\"1488.5\" y=\"-825.8\" font-family=\"Helvetica,sans-Serif\" font-size=\"14.00\" fill=\"#000000\">samples = 21</text>\n<text text-anchor=\"middle\" x=\"1488.5\" y=\"-810.8\" font-family=\"Helvetica,sans-Serif\" font-size=\"14.00\" fill=\"#000000\">value = 238501.781</text>\n</g>\n<!-- 1060&#45;&gt;1061 -->\n<g id=\"edge75\" class=\"edge\">\n<title>1060&#45;&gt;1061</title>\n<path fill=\"none\" stroke=\"#000000\" d=\"M1335.1822,-812.6728C1344.9357,-814.2204 1354.8145,-815.7879 1364.6117,-817.3424\"/>\n<polygon fill=\"#000000\" stroke=\"#000000\" points=\"1364.3583,-820.8459 1374.7832,-818.9564 1365.4553,-813.9324 1364.3583,-820.8459\"/>\n</g>\n<!-- 1102 -->\n<g id=\"node79\" class=\"node\">\n<title>1102</title>\n<path fill=\"#f6d3b9\" stroke=\"#000000\" d=\"M1594,-785C1594,-785 1383,-785 1383,-785 1377,-785 1371,-779 1371,-773 1371,-773 1371,-729 1371,-729 1371,-723 1377,-717 1383,-717 1383,-717 1594,-717 1594,-717 1600,-717 1606,-723 1606,-729 1606,-729 1606,-773 1606,-773 1606,-779 1600,-785 1594,-785\"/>\n<text text-anchor=\"middle\" x=\"1488.5\" y=\"-769.8\" font-family=\"Helvetica,sans-Serif\" font-size=\"14.00\" fill=\"#000000\">YearRemodAdd &lt;= 9.0</text>\n<text text-anchor=\"middle\" x=\"1488.5\" y=\"-754.8\" font-family=\"Helvetica,sans-Serif\" font-size=\"14.00\" fill=\"#000000\">squared_error = 1080909266.674</text>\n<text text-anchor=\"middle\" x=\"1488.5\" y=\"-739.8\" font-family=\"Helvetica,sans-Serif\" font-size=\"14.00\" fill=\"#000000\">samples = 22</text>\n<text text-anchor=\"middle\" x=\"1488.5\" y=\"-724.8\" font-family=\"Helvetica,sans-Serif\" font-size=\"14.00\" fill=\"#000000\">value = 285109.485</text>\n</g>\n<!-- 1060&#45;&gt;1102 -->\n<g id=\"edge78\" class=\"edge\">\n<title>1060&#45;&gt;1102</title>\n<path fill=\"none\" stroke=\"#000000\" d=\"M1335.1822,-775.3272C1343.7037,-773.9751 1352.3208,-772.6078 1360.8956,-771.2472\"/>\n<polygon fill=\"#000000\" stroke=\"#000000\" points=\"1361.606,-774.6783 1370.9339,-769.6544 1360.509,-767.7648 1361.606,-774.6783\"/>\n</g>\n<!-- 1062 -->\n<g id=\"node77\" class=\"node\">\n<title>1062</title>\n<path fill=\"#c0c0c0\" stroke=\"#000000\" d=\"M1684,-893C1684,-893 1654,-893 1654,-893 1648,-893 1642,-887 1642,-881 1642,-881 1642,-869 1642,-869 1642,-863 1648,-857 1654,-857 1654,-857 1684,-857 1684,-857 1690,-857 1696,-863 1696,-869 1696,-869 1696,-881 1696,-881 1696,-887 1690,-893 1684,-893\"/>\n<text text-anchor=\"middle\" x=\"1669\" y=\"-871.3\" font-family=\"Helvetica,sans-Serif\" font-size=\"14.00\" fill=\"#000000\">(...)</text>\n</g>\n<!-- 1061&#45;&gt;1062 -->\n<g id=\"edge76\" class=\"edge\">\n<title>1061&#45;&gt;1062</title>\n<path fill=\"none\" stroke=\"#000000\" d=\"M1602.045,-860.9042C1612.6018,-863.1267 1622.7022,-865.2531 1631.7125,-867.15\"/>\n<polygon fill=\"#000000\" stroke=\"#000000\" points=\"1631.2447,-870.6282 1641.7513,-869.2634 1632.6869,-863.7783 1631.2447,-870.6282\"/>\n</g>\n<!-- 1071 -->\n<g id=\"node78\" class=\"node\">\n<title>1071</title>\n<path fill=\"#c0c0c0\" stroke=\"#000000\" d=\"M1684,-839C1684,-839 1654,-839 1654,-839 1648,-839 1642,-833 1642,-827 1642,-827 1642,-815 1642,-815 1642,-809 1648,-803 1654,-803 1654,-803 1684,-803 1684,-803 1690,-803 1696,-809 1696,-815 1696,-815 1696,-827 1696,-827 1696,-833 1690,-839 1684,-839\"/>\n<text text-anchor=\"middle\" x=\"1669\" y=\"-817.3\" font-family=\"Helvetica,sans-Serif\" font-size=\"14.00\" fill=\"#000000\">(...)</text>\n</g>\n<!-- 1061&#45;&gt;1071 -->\n<g id=\"edge77\" class=\"edge\">\n<title>1061&#45;&gt;1071</title>\n<path fill=\"none\" stroke=\"#000000\" d=\"M1602.045,-826.9351C1612.6018,-825.9993 1622.7022,-825.104 1631.7125,-824.3053\"/>\n<polygon fill=\"#000000\" stroke=\"#000000\" points=\"1632.0994,-827.7848 1641.7513,-823.4154 1631.4813,-820.8121 1632.0994,-827.7848\"/>\n</g>\n<!-- 1103 -->\n<g id=\"node80\" class=\"node\">\n<title>1103</title>\n<path fill=\"#c0c0c0\" stroke=\"#000000\" d=\"M1684,-785C1684,-785 1654,-785 1654,-785 1648,-785 1642,-779 1642,-773 1642,-773 1642,-761 1642,-761 1642,-755 1648,-749 1654,-749 1654,-749 1684,-749 1684,-749 1690,-749 1696,-755 1696,-761 1696,-761 1696,-773 1696,-773 1696,-779 1690,-785 1684,-785\"/>\n<text text-anchor=\"middle\" x=\"1669\" y=\"-763.3\" font-family=\"Helvetica,sans-Serif\" font-size=\"14.00\" fill=\"#000000\">(...)</text>\n</g>\n<!-- 1102&#45;&gt;1103 -->\n<g id=\"edge79\" class=\"edge\">\n<title>1102&#45;&gt;1103</title>\n<path fill=\"none\" stroke=\"#000000\" d=\"M1606.1232,-761.4264C1615.1668,-762.2281 1623.8054,-762.9938 1631.6256,-763.687\"/>\n<polygon fill=\"#000000\" stroke=\"#000000\" points=\"1631.4737,-767.1872 1641.7437,-764.5839 1632.0918,-760.2145 1631.4737,-767.1872\"/>\n</g>\n<!-- 1128 -->\n<g id=\"node81\" class=\"node\">\n<title>1128</title>\n<path fill=\"#c0c0c0\" stroke=\"#000000\" d=\"M1684,-731C1684,-731 1654,-731 1654,-731 1648,-731 1642,-725 1642,-719 1642,-719 1642,-707 1642,-707 1642,-701 1648,-695 1654,-695 1654,-695 1684,-695 1684,-695 1690,-695 1696,-701 1696,-707 1696,-707 1696,-719 1696,-719 1696,-725 1690,-731 1684,-731\"/>\n<text text-anchor=\"middle\" x=\"1669\" y=\"-709.3\" font-family=\"Helvetica,sans-Serif\" font-size=\"14.00\" fill=\"#000000\">(...)</text>\n</g>\n<!-- 1102&#45;&gt;1128 -->\n<g id=\"edge80\" class=\"edge\">\n<title>1102&#45;&gt;1128</title>\n<path fill=\"none\" stroke=\"#000000\" d=\"M1606.1232,-726.2372C1615.2696,-724.3117 1624.0016,-722.4733 1631.8919,-720.8122\"/>\n<polygon fill=\"#000000\" stroke=\"#000000\" points=\"1632.6792,-724.2233 1641.7437,-718.7382 1631.2371,-717.3734 1632.6792,-724.2233\"/>\n</g>\n<!-- 1144 -->\n<g id=\"node83\" class=\"node\">\n<title>1144</title>\n<path fill=\"#f5ccb0\" stroke=\"#000000\" d=\"M1323,-617C1323,-617 1112,-617 1112,-617 1106,-617 1100,-611 1100,-605 1100,-605 1100,-561 1100,-561 1100,-555 1106,-549 1112,-549 1112,-549 1323,-549 1323,-549 1329,-549 1335,-555 1335,-561 1335,-561 1335,-605 1335,-605 1335,-611 1329,-617 1323,-617\"/>\n<text text-anchor=\"middle\" x=\"1217.5\" y=\"-601.8\" font-family=\"Helvetica,sans-Serif\" font-size=\"14.00\" fill=\"#000000\">LotArea &lt;= 12064.5</text>\n<text text-anchor=\"middle\" x=\"1217.5\" y=\"-586.8\" font-family=\"Helvetica,sans-Serif\" font-size=\"14.00\" fill=\"#000000\">squared_error = 1074946479.497</text>\n<text text-anchor=\"middle\" x=\"1217.5\" y=\"-571.8\" font-family=\"Helvetica,sans-Serif\" font-size=\"14.00\" fill=\"#000000\">samples = 23</text>\n<text text-anchor=\"middle\" x=\"1217.5\" y=\"-556.8\" font-family=\"Helvetica,sans-Serif\" font-size=\"14.00\" fill=\"#000000\">value = 319829.4</text>\n</g>\n<!-- 1143&#45;&gt;1144 -->\n<g id=\"edge82\" class=\"edge\">\n<title>1143&#45;&gt;1144</title>\n<path fill=\"none\" stroke=\"#000000\" d=\"M1060.2505,-583C1069.9259,-583 1079.7532,-583 1089.528,-583\"/>\n<polygon fill=\"#000000\" stroke=\"#000000\" points=\"1089.687,-586.5001 1099.687,-583 1089.6869,-579.5001 1089.687,-586.5001\"/>\n</g>\n<!-- 1189 -->\n<g id=\"node90\" class=\"node\">\n<title>1189</title>\n<path fill=\"#f2bf9b\" stroke=\"#000000\" d=\"M1323,-488C1323,-488 1112,-488 1112,-488 1106,-488 1100,-482 1100,-476 1100,-476 1100,-432 1100,-432 1100,-426 1106,-420 1112,-420 1112,-420 1323,-420 1323,-420 1329,-420 1335,-426 1335,-432 1335,-432 1335,-476 1335,-476 1335,-482 1329,-488 1323,-488\"/>\n<text text-anchor=\"middle\" x=\"1217.5\" y=\"-472.8\" font-family=\"Helvetica,sans-Serif\" font-size=\"14.00\" fill=\"#000000\">Id &lt;= 1314.0</text>\n<text text-anchor=\"middle\" x=\"1217.5\" y=\"-457.8\" font-family=\"Helvetica,sans-Serif\" font-size=\"14.00\" fill=\"#000000\">squared_error = 1542088611.487</text>\n<text text-anchor=\"middle\" x=\"1217.5\" y=\"-442.8\" font-family=\"Helvetica,sans-Serif\" font-size=\"14.00\" fill=\"#000000\">samples = 12</text>\n<text text-anchor=\"middle\" x=\"1217.5\" y=\"-427.8\" font-family=\"Helvetica,sans-Serif\" font-size=\"14.00\" fill=\"#000000\">value = 393003.476</text>\n</g>\n<!-- 1143&#45;&gt;1189 -->\n<g id=\"edge89\" class=\"edge\">\n<title>1143&#45;&gt;1189</title>\n<path fill=\"none\" stroke=\"#000000\" d=\"M1018.0565,-548.938C1054.4867,-531.5968 1098.9181,-510.4467 1136.5898,-492.5144\"/>\n<polygon fill=\"#000000\" stroke=\"#000000\" points=\"1138.4878,-495.4873 1146.0127,-488.029 1135.4792,-489.1669 1138.4878,-495.4873\"/>\n</g>\n<!-- 1145 -->\n<g id=\"node84\" class=\"node\">\n<title>1145</title>\n<path fill=\"#f5d0b5\" stroke=\"#000000\" d=\"M1594,-660C1594,-660 1383,-660 1383,-660 1377,-660 1371,-654 1371,-648 1371,-648 1371,-604 1371,-604 1371,-598 1377,-592 1383,-592 1383,-592 1594,-592 1594,-592 1600,-592 1606,-598 1606,-604 1606,-604 1606,-648 1606,-648 1606,-654 1600,-660 1594,-660\"/>\n<text text-anchor=\"middle\" x=\"1488.5\" y=\"-644.8\" font-family=\"Helvetica,sans-Serif\" font-size=\"14.00\" fill=\"#000000\">BsmtUnfSF &lt;= 351.0</text>\n<text text-anchor=\"middle\" x=\"1488.5\" y=\"-629.8\" font-family=\"Helvetica,sans-Serif\" font-size=\"14.00\" fill=\"#000000\">squared_error = 1008585947.183</text>\n<text text-anchor=\"middle\" x=\"1488.5\" y=\"-614.8\" font-family=\"Helvetica,sans-Serif\" font-size=\"14.00\" fill=\"#000000\">samples = 12</text>\n<text text-anchor=\"middle\" x=\"1488.5\" y=\"-599.8\" font-family=\"Helvetica,sans-Serif\" font-size=\"14.00\" fill=\"#000000\">value = 301243.588</text>\n</g>\n<!-- 1144&#45;&gt;1145 -->\n<g id=\"edge83\" class=\"edge\">\n<title>1144&#45;&gt;1145</title>\n<path fill=\"none\" stroke=\"#000000\" d=\"M1335.1822,-601.6728C1343.7037,-603.0249 1352.3208,-604.3922 1360.8956,-605.7528\"/>\n<polygon fill=\"#000000\" stroke=\"#000000\" points=\"1360.509,-609.2352 1370.9339,-607.3456 1361.606,-602.3217 1360.509,-609.2352\"/>\n</g>\n<!-- 1168 -->\n<g id=\"node87\" class=\"node\">\n<title>1168</title>\n<path fill=\"#f4c9ab\" stroke=\"#000000\" d=\"M1590,-574C1590,-574 1387,-574 1387,-574 1381,-574 1375,-568 1375,-562 1375,-562 1375,-518 1375,-518 1375,-512 1381,-506 1387,-506 1387,-506 1590,-506 1590,-506 1596,-506 1602,-512 1602,-518 1602,-518 1602,-562 1602,-562 1602,-568 1596,-574 1590,-574\"/>\n<text text-anchor=\"middle\" x=\"1488.5\" y=\"-558.8\" font-family=\"Helvetica,sans-Serif\" font-size=\"14.00\" fill=\"#000000\">LotFrontage &lt;= 83.5</text>\n<text text-anchor=\"middle\" x=\"1488.5\" y=\"-543.8\" font-family=\"Helvetica,sans-Serif\" font-size=\"14.00\" fill=\"#000000\">squared_error = 503261434.778</text>\n<text text-anchor=\"middle\" x=\"1488.5\" y=\"-528.8\" font-family=\"Helvetica,sans-Serif\" font-size=\"14.00\" fill=\"#000000\">samples = 11</text>\n<text text-anchor=\"middle\" x=\"1488.5\" y=\"-513.8\" font-family=\"Helvetica,sans-Serif\" font-size=\"14.00\" fill=\"#000000\">value = 337382.667</text>\n</g>\n<!-- 1144&#45;&gt;1168 -->\n<g id=\"edge86\" class=\"edge\">\n<title>1144&#45;&gt;1168</title>\n<path fill=\"none\" stroke=\"#000000\" d=\"M1335.1822,-564.3272C1344.9357,-562.7796 1354.8145,-561.2121 1364.6117,-559.6576\"/>\n<polygon fill=\"#000000\" stroke=\"#000000\" points=\"1365.4553,-563.0676 1374.7832,-558.0436 1364.3583,-556.1541 1365.4553,-563.0676\"/>\n</g>\n<!-- 1146 -->\n<g id=\"node85\" class=\"node\">\n<title>1146</title>\n<path fill=\"#c0c0c0\" stroke=\"#000000\" d=\"M1684,-677C1684,-677 1654,-677 1654,-677 1648,-677 1642,-671 1642,-665 1642,-665 1642,-653 1642,-653 1642,-647 1648,-641 1654,-641 1654,-641 1684,-641 1684,-641 1690,-641 1696,-647 1696,-653 1696,-653 1696,-665 1696,-665 1696,-671 1690,-677 1684,-677\"/>\n<text text-anchor=\"middle\" x=\"1669\" y=\"-655.3\" font-family=\"Helvetica,sans-Serif\" font-size=\"14.00\" fill=\"#000000\">(...)</text>\n</g>\n<!-- 1145&#45;&gt;1146 -->\n<g id=\"edge84\" class=\"edge\">\n<title>1145&#45;&gt;1146</title>\n<path fill=\"none\" stroke=\"#000000\" d=\"M1606.1232,-647.5045C1615.2696,-649.1767 1624.0016,-650.7732 1631.8919,-652.2157\"/>\n<polygon fill=\"#000000\" stroke=\"#000000\" points=\"1631.2772,-655.6613 1641.7437,-654.0168 1632.5362,-648.7754 1631.2772,-655.6613\"/>\n</g>\n<!-- 1149 -->\n<g id=\"node86\" class=\"node\">\n<title>1149</title>\n<path fill=\"#c0c0c0\" stroke=\"#000000\" d=\"M1684,-623C1684,-623 1654,-623 1654,-623 1648,-623 1642,-617 1642,-611 1642,-611 1642,-599 1642,-599 1642,-593 1648,-587 1654,-587 1654,-587 1684,-587 1684,-587 1690,-587 1696,-593 1696,-599 1696,-599 1696,-611 1696,-611 1696,-617 1690,-623 1684,-623\"/>\n<text text-anchor=\"middle\" x=\"1669\" y=\"-601.3\" font-family=\"Helvetica,sans-Serif\" font-size=\"14.00\" fill=\"#000000\">(...)</text>\n</g>\n<!-- 1145&#45;&gt;1149 -->\n<g id=\"edge85\" class=\"edge\">\n<title>1145&#45;&gt;1149</title>\n<path fill=\"none\" stroke=\"#000000\" d=\"M1606.1232,-612.3153C1615.1668,-611.2631 1623.8054,-610.2581 1631.6256,-609.3483\"/>\n<polygon fill=\"#000000\" stroke=\"#000000\" points=\"1632.2152,-612.8034 1641.7437,-608.1711 1631.4062,-605.8503 1632.2152,-612.8034\"/>\n</g>\n<!-- 1169 -->\n<g id=\"node88\" class=\"node\">\n<title>1169</title>\n<path fill=\"#c0c0c0\" stroke=\"#000000\" d=\"M1684,-569C1684,-569 1654,-569 1654,-569 1648,-569 1642,-563 1642,-557 1642,-557 1642,-545 1642,-545 1642,-539 1648,-533 1654,-533 1654,-533 1684,-533 1684,-533 1690,-533 1696,-539 1696,-545 1696,-545 1696,-557 1696,-557 1696,-563 1690,-569 1684,-569\"/>\n<text text-anchor=\"middle\" x=\"1669\" y=\"-547.3\" font-family=\"Helvetica,sans-Serif\" font-size=\"14.00\" fill=\"#000000\">(...)</text>\n</g>\n<!-- 1168&#45;&gt;1169 -->\n<g id=\"edge87\" class=\"edge\">\n<title>1168&#45;&gt;1169</title>\n<path fill=\"none\" stroke=\"#000000\" d=\"M1602.045,-546.9196C1612.6018,-547.563 1622.7022,-548.1785 1631.7125,-548.7276\"/>\n<polygon fill=\"#000000\" stroke=\"#000000\" points=\"1631.5569,-552.2246 1641.7513,-549.3394 1631.9828,-545.2375 1631.5569,-552.2246\"/>\n</g>\n<!-- 1172 -->\n<g id=\"node89\" class=\"node\">\n<title>1172</title>\n<path fill=\"#c0c0c0\" stroke=\"#000000\" d=\"M1684,-515C1684,-515 1654,-515 1654,-515 1648,-515 1642,-509 1642,-503 1642,-503 1642,-491 1642,-491 1642,-485 1648,-479 1654,-479 1654,-479 1684,-479 1684,-479 1690,-479 1696,-485 1696,-491 1696,-491 1696,-503 1696,-503 1696,-509 1690,-515 1684,-515\"/>\n<text text-anchor=\"middle\" x=\"1669\" y=\"-493.3\" font-family=\"Helvetica,sans-Serif\" font-size=\"14.00\" fill=\"#000000\">(...)</text>\n</g>\n<!-- 1168&#45;&gt;1172 -->\n<g id=\"edge88\" class=\"edge\">\n<title>1168&#45;&gt;1172</title>\n<path fill=\"none\" stroke=\"#000000\" d=\"M1602.045,-512.9505C1612.7166,-510.4082 1622.9217,-507.9771 1632.006,-505.813\"/>\n<polygon fill=\"#000000\" stroke=\"#000000\" points=\"1632.8347,-509.2136 1641.7513,-503.4914 1631.2124,-502.4042 1632.8347,-509.2136\"/>\n</g>\n<!-- 1190 -->\n<g id=\"node91\" class=\"node\">\n<title>1190</title>\n<path fill=\"#f2be99\" stroke=\"#000000\" d=\"M1590,-488C1590,-488 1387,-488 1387,-488 1381,-488 1375,-482 1375,-476 1375,-476 1375,-432 1375,-432 1375,-426 1381,-420 1387,-420 1387,-420 1590,-420 1590,-420 1596,-420 1602,-426 1602,-432 1602,-432 1602,-476 1602,-476 1602,-482 1596,-488 1590,-488\"/>\n<text text-anchor=\"middle\" x=\"1488.5\" y=\"-472.8\" font-family=\"Helvetica,sans-Serif\" font-size=\"14.00\" fill=\"#000000\">TotalBsmtSF &lt;= 2147.0</text>\n<text text-anchor=\"middle\" x=\"1488.5\" y=\"-457.8\" font-family=\"Helvetica,sans-Serif\" font-size=\"14.00\" fill=\"#000000\">squared_error = 996516840.654</text>\n<text text-anchor=\"middle\" x=\"1488.5\" y=\"-442.8\" font-family=\"Helvetica,sans-Serif\" font-size=\"14.00\" fill=\"#000000\">samples = 11</text>\n<text text-anchor=\"middle\" x=\"1488.5\" y=\"-427.8\" font-family=\"Helvetica,sans-Serif\" font-size=\"14.00\" fill=\"#000000\">value = 401214.368</text>\n</g>\n<!-- 1189&#45;&gt;1190 -->\n<g id=\"edge90\" class=\"edge\">\n<title>1189&#45;&gt;1190</title>\n<path fill=\"none\" stroke=\"#000000\" d=\"M1335.1822,-454C1344.9357,-454 1354.8145,-454 1364.6117,-454\"/>\n<polygon fill=\"#000000\" stroke=\"#000000\" points=\"1364.7833,-457.5001 1374.7832,-454 1364.7832,-450.5001 1364.7833,-457.5001\"/>\n</g>\n<!-- 1209 -->\n<g id=\"node94\" class=\"node\">\n<title>1209</title>\n<path fill=\"#f5cdb1\" stroke=\"#000000\" d=\"M1548.5,-401.5C1548.5,-401.5 1428.5,-401.5 1428.5,-401.5 1422.5,-401.5 1416.5,-395.5 1416.5,-389.5 1416.5,-389.5 1416.5,-360.5 1416.5,-360.5 1416.5,-354.5 1422.5,-348.5 1428.5,-348.5 1428.5,-348.5 1548.5,-348.5 1548.5,-348.5 1554.5,-348.5 1560.5,-354.5 1560.5,-360.5 1560.5,-360.5 1560.5,-389.5 1560.5,-389.5 1560.5,-395.5 1554.5,-401.5 1548.5,-401.5\"/>\n<text text-anchor=\"middle\" x=\"1488.5\" y=\"-386.3\" font-family=\"Helvetica,sans-Serif\" font-size=\"14.00\" fill=\"#000000\">squared_error = 0.0</text>\n<text text-anchor=\"middle\" x=\"1488.5\" y=\"-371.3\" font-family=\"Helvetica,sans-Serif\" font-size=\"14.00\" fill=\"#000000\">samples = 1</text>\n<text text-anchor=\"middle\" x=\"1488.5\" y=\"-356.3\" font-family=\"Helvetica,sans-Serif\" font-size=\"14.00\" fill=\"#000000\">value = 315000.0</text>\n</g>\n<!-- 1189&#45;&gt;1209 -->\n<g id=\"edge93\" class=\"edge\">\n<title>1189&#45;&gt;1209</title>\n<path fill=\"none\" stroke=\"#000000\" d=\"M1334.3947,-419.9237C1358.6035,-412.8665 1383.6199,-405.5739 1406.2734,-398.9701\"/>\n<polygon fill=\"#000000\" stroke=\"#000000\" points=\"1407.544,-402.2455 1416.1649,-396.0866 1405.5849,-395.5252 1407.544,-402.2455\"/>\n</g>\n<!-- 1191 -->\n<g id=\"node92\" class=\"node\">\n<title>1191</title>\n<path fill=\"#c0c0c0\" stroke=\"#000000\" d=\"M1684,-461C1684,-461 1654,-461 1654,-461 1648,-461 1642,-455 1642,-449 1642,-449 1642,-437 1642,-437 1642,-431 1648,-425 1654,-425 1654,-425 1684,-425 1684,-425 1690,-425 1696,-431 1696,-437 1696,-437 1696,-449 1696,-449 1696,-455 1690,-461 1684,-461\"/>\n<text text-anchor=\"middle\" x=\"1669\" y=\"-439.3\" font-family=\"Helvetica,sans-Serif\" font-size=\"14.00\" fill=\"#000000\">(...)</text>\n</g>\n<!-- 1190&#45;&gt;1191 -->\n<g id=\"edge91\" class=\"edge\">\n<title>1190&#45;&gt;1191</title>\n<path fill=\"none\" stroke=\"#000000\" d=\"M1602.045,-447.0804C1612.6018,-446.437 1622.7022,-445.8215 1631.7125,-445.2724\"/>\n<polygon fill=\"#000000\" stroke=\"#000000\" points=\"1631.9828,-448.7625 1641.7513,-444.6606 1631.5569,-441.7754 1631.9828,-448.7625\"/>\n</g>\n<!-- 1208 -->\n<g id=\"node93\" class=\"node\">\n<title>1208</title>\n<path fill=\"#c0c0c0\" stroke=\"#000000\" d=\"M1684,-407C1684,-407 1654,-407 1654,-407 1648,-407 1642,-401 1642,-395 1642,-395 1642,-383 1642,-383 1642,-377 1648,-371 1654,-371 1654,-371 1684,-371 1684,-371 1690,-371 1696,-377 1696,-383 1696,-383 1696,-395 1696,-395 1696,-401 1690,-407 1684,-407\"/>\n<text text-anchor=\"middle\" x=\"1669\" y=\"-385.3\" font-family=\"Helvetica,sans-Serif\" font-size=\"14.00\" fill=\"#000000\">(...)</text>\n</g>\n<!-- 1190&#45;&gt;1208 -->\n<g id=\"edge92\" class=\"edge\">\n<title>1190&#45;&gt;1208</title>\n<path fill=\"none\" stroke=\"#000000\" d=\"M1582.9791,-419.9771C1600.5823,-413.638 1617.9705,-407.3763 1632.457,-402.1595\"/>\n<polygon fill=\"#000000\" stroke=\"#000000\" points=\"1633.7668,-405.4079 1641.9895,-398.7268 1631.3951,-398.822 1633.7668,-405.4079\"/>\n</g>\n<!-- 1211 -->\n<g id=\"node96\" class=\"node\">\n<title>1211</title>\n<path fill=\"#e99559\" stroke=\"#000000\" d=\"M1052,-302C1052,-302 841,-302 841,-302 835,-302 829,-296 829,-290 829,-290 829,-246 829,-246 829,-240 835,-234 841,-234 841,-234 1052,-234 1052,-234 1058,-234 1064,-240 1064,-246 1064,-246 1064,-290 1064,-290 1064,-296 1058,-302 1052,-302\"/>\n<text text-anchor=\"middle\" x=\"946.5\" y=\"-286.8\" font-family=\"Helvetica,sans-Serif\" font-size=\"14.00\" fill=\"#000000\">BsmtFinSF1 &lt;= 1741.5</text>\n<text text-anchor=\"middle\" x=\"946.5\" y=\"-271.8\" font-family=\"Helvetica,sans-Serif\" font-size=\"14.00\" fill=\"#000000\">squared_error = 2536499691.633</text>\n<text text-anchor=\"middle\" x=\"946.5\" y=\"-256.8\" font-family=\"Helvetica,sans-Serif\" font-size=\"14.00\" fill=\"#000000\">samples = 3</text>\n<text text-anchor=\"middle\" x=\"946.5\" y=\"-241.8\" font-family=\"Helvetica,sans-Serif\" font-size=\"14.00\" fill=\"#000000\">value = 630123.714</text>\n</g>\n<!-- 1210&#45;&gt;1211 -->\n<g id=\"edge95\" class=\"edge\">\n<title>1210&#45;&gt;1211</title>\n<path fill=\"none\" stroke=\"#000000\" d=\"M793.3199,-268C801.6953,-268 810.1492,-268 818.5554,-268\"/>\n<polygon fill=\"#000000\" stroke=\"#000000\" points=\"818.7768,-271.5001 828.7767,-268 818.7767,-264.5001 818.7768,-271.5001\"/>\n</g>\n<!-- 1216 -->\n<g id=\"node101\" class=\"node\">\n<title>1216</title>\n<path fill=\"#f2c09c\" stroke=\"#000000\" d=\"M1052,-180C1052,-180 841,-180 841,-180 835,-180 829,-174 829,-168 829,-168 829,-124 829,-124 829,-118 835,-112 841,-112 841,-112 1052,-112 1052,-112 1058,-112 1064,-118 1064,-124 1064,-124 1064,-168 1064,-168 1064,-174 1058,-180 1052,-180\"/>\n<text text-anchor=\"middle\" x=\"946.5\" y=\"-164.8\" font-family=\"Helvetica,sans-Serif\" font-size=\"14.00\" fill=\"#000000\">YearRemodAdd &lt;= 15.0</text>\n<text text-anchor=\"middle\" x=\"946.5\" y=\"-149.8\" font-family=\"Helvetica,sans-Serif\" font-size=\"14.00\" fill=\"#000000\">squared_error = 5124544081.633</text>\n<text text-anchor=\"middle\" x=\"946.5\" y=\"-134.8\" font-family=\"Helvetica,sans-Serif\" font-size=\"14.00\" fill=\"#000000\">samples = 6</text>\n<text text-anchor=\"middle\" x=\"946.5\" y=\"-119.8\" font-family=\"Helvetica,sans-Serif\" font-size=\"14.00\" fill=\"#000000\">value = 388585.714</text>\n</g>\n<!-- 1210&#45;&gt;1216 -->\n<g id=\"edge100\" class=\"edge\">\n<title>1210&#45;&gt;1216</title>\n<path fill=\"none\" stroke=\"#000000\" d=\"M748.4685,-233.854C783.1835,-218.4531 824.3301,-200.199 860.0984,-184.3309\"/>\n<polygon fill=\"#000000\" stroke=\"#000000\" points=\"861.8286,-187.3924 869.5501,-180.1378 858.9899,-180.9938 861.8286,-187.3924\"/>\n</g>\n<!-- 1212 -->\n<g id=\"node97\" class=\"node\">\n<title>1212</title>\n<path fill=\"#ea995e\" stroke=\"#000000\" d=\"M1319,-338C1319,-338 1116,-338 1116,-338 1110,-338 1104,-332 1104,-326 1104,-326 1104,-282 1104,-282 1104,-276 1110,-270 1116,-270 1116,-270 1319,-270 1319,-270 1325,-270 1331,-276 1331,-282 1331,-282 1331,-326 1331,-326 1331,-332 1325,-338 1319,-338\"/>\n<text text-anchor=\"middle\" x=\"1217.5\" y=\"-322.8\" font-family=\"Helvetica,sans-Serif\" font-size=\"14.00\" fill=\"#000000\">TotalBsmtSF &lt;= 1832.0</text>\n<text text-anchor=\"middle\" x=\"1217.5\" y=\"-307.8\" font-family=\"Helvetica,sans-Serif\" font-size=\"14.00\" fill=\"#000000\">squared_error = 393251664.222</text>\n<text text-anchor=\"middle\" x=\"1217.5\" y=\"-292.8\" font-family=\"Helvetica,sans-Serif\" font-size=\"14.00\" fill=\"#000000\">samples = 2</text>\n<text text-anchor=\"middle\" x=\"1217.5\" y=\"-277.8\" font-family=\"Helvetica,sans-Serif\" font-size=\"14.00\" fill=\"#000000\">value = 610977.667</text>\n</g>\n<!-- 1211&#45;&gt;1212 -->\n<g id=\"edge96\" class=\"edge\">\n<title>1211&#45;&gt;1212</title>\n<path fill=\"none\" stroke=\"#000000\" d=\"M1064.1822,-283.6331C1073.9357,-284.9287 1083.8145,-286.241 1093.6117,-287.5425\"/>\n<polygon fill=\"#000000\" stroke=\"#000000\" points=\"1093.4094,-291.0463 1103.7832,-288.8937 1094.3312,-284.1073 1093.4094,-291.0463\"/>\n</g>\n<!-- 1215 -->\n<g id=\"node100\" class=\"node\">\n<title>1215</title>\n<path fill=\"#e58139\" stroke=\"#000000\" d=\"M1277.5,-251.5C1277.5,-251.5 1157.5,-251.5 1157.5,-251.5 1151.5,-251.5 1145.5,-245.5 1145.5,-239.5 1145.5,-239.5 1145.5,-210.5 1145.5,-210.5 1145.5,-204.5 1151.5,-198.5 1157.5,-198.5 1157.5,-198.5 1277.5,-198.5 1277.5,-198.5 1283.5,-198.5 1289.5,-204.5 1289.5,-210.5 1289.5,-210.5 1289.5,-239.5 1289.5,-239.5 1289.5,-245.5 1283.5,-251.5 1277.5,-251.5\"/>\n<text text-anchor=\"middle\" x=\"1217.5\" y=\"-236.3\" font-family=\"Helvetica,sans-Serif\" font-size=\"14.00\" fill=\"#000000\">squared_error = 0.0</text>\n<text text-anchor=\"middle\" x=\"1217.5\" y=\"-221.3\" font-family=\"Helvetica,sans-Serif\" font-size=\"14.00\" fill=\"#000000\">samples = 1</text>\n<text text-anchor=\"middle\" x=\"1217.5\" y=\"-206.3\" font-family=\"Helvetica,sans-Serif\" font-size=\"14.00\" fill=\"#000000\">value = 745000.0</text>\n</g>\n<!-- 1211&#45;&gt;1215 -->\n<g id=\"edge99\" class=\"edge\">\n<title>1211&#45;&gt;1215</title>\n<path fill=\"none\" stroke=\"#000000\" d=\"M1064.1822,-249.3272C1088.0893,-245.5338 1112.7495,-241.6209 1135.1157,-238.072\"/>\n<polygon fill=\"#000000\" stroke=\"#000000\" points=\"1135.8918,-241.4928 1145.2198,-236.4688 1134.7948,-234.5793 1135.8918,-241.4928\"/>\n</g>\n<!-- 1213 -->\n<g id=\"node98\" class=\"node\">\n<title>1213</title>\n<path fill=\"#eb9e66\" stroke=\"#000000\" d=\"M1548.5,-330.5C1548.5,-330.5 1428.5,-330.5 1428.5,-330.5 1422.5,-330.5 1416.5,-324.5 1416.5,-318.5 1416.5,-318.5 1416.5,-289.5 1416.5,-289.5 1416.5,-283.5 1422.5,-277.5 1428.5,-277.5 1428.5,-277.5 1548.5,-277.5 1548.5,-277.5 1554.5,-277.5 1560.5,-283.5 1560.5,-289.5 1560.5,-289.5 1560.5,-318.5 1560.5,-318.5 1560.5,-324.5 1554.5,-330.5 1548.5,-330.5\"/>\n<text text-anchor=\"middle\" x=\"1488.5\" y=\"-315.3\" font-family=\"Helvetica,sans-Serif\" font-size=\"14.00\" fill=\"#000000\">squared_error = 0.0</text>\n<text text-anchor=\"middle\" x=\"1488.5\" y=\"-300.3\" font-family=\"Helvetica,sans-Serif\" font-size=\"14.00\" fill=\"#000000\">samples = 1</text>\n<text text-anchor=\"middle\" x=\"1488.5\" y=\"-285.3\" font-family=\"Helvetica,sans-Serif\" font-size=\"14.00\" fill=\"#000000\">value = 582933.0</text>\n</g>\n<!-- 1212&#45;&gt;1213 -->\n<g id=\"edge97\" class=\"edge\">\n<title>1212&#45;&gt;1213</title>\n<path fill=\"none\" stroke=\"#000000\" d=\"M1331.2505,-304C1356.3595,-304 1382.4916,-304 1406.0759,-304\"/>\n<polygon fill=\"#000000\" stroke=\"#000000\" points=\"1406.3671,-307.5001 1416.367,-304 1406.367,-300.5001 1406.3671,-307.5001\"/>\n</g>\n<!-- 1214 -->\n<g id=\"node99\" class=\"node\">\n<title>1214</title>\n<path fill=\"#e9965a\" stroke=\"#000000\" d=\"M1548.5,-259.5C1548.5,-259.5 1428.5,-259.5 1428.5,-259.5 1422.5,-259.5 1416.5,-253.5 1416.5,-247.5 1416.5,-247.5 1416.5,-218.5 1416.5,-218.5 1416.5,-212.5 1422.5,-206.5 1428.5,-206.5 1428.5,-206.5 1548.5,-206.5 1548.5,-206.5 1554.5,-206.5 1560.5,-212.5 1560.5,-218.5 1560.5,-218.5 1560.5,-247.5 1560.5,-247.5 1560.5,-253.5 1554.5,-259.5 1548.5,-259.5\"/>\n<text text-anchor=\"middle\" x=\"1488.5\" y=\"-244.3\" font-family=\"Helvetica,sans-Serif\" font-size=\"14.00\" fill=\"#000000\">squared_error = 0.0</text>\n<text text-anchor=\"middle\" x=\"1488.5\" y=\"-229.3\" font-family=\"Helvetica,sans-Serif\" font-size=\"14.00\" fill=\"#000000\">samples = 1</text>\n<text text-anchor=\"middle\" x=\"1488.5\" y=\"-214.3\" font-family=\"Helvetica,sans-Serif\" font-size=\"14.00\" fill=\"#000000\">value = 625000.0</text>\n</g>\n<!-- 1212&#45;&gt;1214 -->\n<g id=\"edge98\" class=\"edge\">\n<title>1212&#45;&gt;1214</title>\n<path fill=\"none\" stroke=\"#000000\" d=\"M1331.2505,-274.1982C1356.4721,-267.5903 1382.726,-260.712 1406.393,-254.5114\"/>\n<polygon fill=\"#000000\" stroke=\"#000000\" points=\"1407.5806,-257.8185 1416.367,-251.8983 1405.8065,-251.047 1407.5806,-257.8185\"/>\n</g>\n<!-- 1217 -->\n<g id=\"node102\" class=\"node\">\n<title>1217</title>\n<path fill=\"#f1bc95\" stroke=\"#000000\" d=\"M1323,-180C1323,-180 1112,-180 1112,-180 1106,-180 1100,-174 1100,-168 1100,-168 1100,-124 1100,-124 1100,-118 1106,-112 1112,-112 1112,-112 1323,-112 1323,-112 1329,-112 1335,-118 1335,-124 1335,-124 1335,-168 1335,-168 1335,-174 1329,-180 1323,-180\"/>\n<text text-anchor=\"middle\" x=\"1217.5\" y=\"-164.8\" font-family=\"Helvetica,sans-Serif\" font-size=\"14.00\" fill=\"#000000\">YearRemodAdd &lt;= 12.0</text>\n<text text-anchor=\"middle\" x=\"1217.5\" y=\"-149.8\" font-family=\"Helvetica,sans-Serif\" font-size=\"14.00\" fill=\"#000000\">squared_error = 1391968055.556</text>\n<text text-anchor=\"middle\" x=\"1217.5\" y=\"-134.8\" font-family=\"Helvetica,sans-Serif\" font-size=\"14.00\" fill=\"#000000\">samples = 5</text>\n<text text-anchor=\"middle\" x=\"1217.5\" y=\"-119.8\" font-family=\"Helvetica,sans-Serif\" font-size=\"14.00\" fill=\"#000000\">value = 414183.333</text>\n</g>\n<!-- 1216&#45;&gt;1217 -->\n<g id=\"edge101\" class=\"edge\">\n<title>1216&#45;&gt;1217</title>\n<path fill=\"none\" stroke=\"#000000\" d=\"M1064.1822,-146C1072.7037,-146 1081.3208,-146 1089.8956,-146\"/>\n<polygon fill=\"#000000\" stroke=\"#000000\" points=\"1089.934,-149.5001 1099.9339,-146 1089.9339,-142.5001 1089.934,-149.5001\"/>\n</g>\n<!-- 1226 -->\n<g id=\"node109\" class=\"node\">\n<title>1226</title>\n<path fill=\"#f8dbc7\" stroke=\"#000000\" d=\"M1277.5,-93.5C1277.5,-93.5 1157.5,-93.5 1157.5,-93.5 1151.5,-93.5 1145.5,-87.5 1145.5,-81.5 1145.5,-81.5 1145.5,-52.5 1145.5,-52.5 1145.5,-46.5 1151.5,-40.5 1157.5,-40.5 1157.5,-40.5 1277.5,-40.5 1277.5,-40.5 1283.5,-40.5 1289.5,-46.5 1289.5,-52.5 1289.5,-52.5 1289.5,-81.5 1289.5,-81.5 1289.5,-87.5 1283.5,-93.5 1277.5,-93.5\"/>\n<text text-anchor=\"middle\" x=\"1217.5\" y=\"-78.3\" font-family=\"Helvetica,sans-Serif\" font-size=\"14.00\" fill=\"#000000\">squared_error = 0.0</text>\n<text text-anchor=\"middle\" x=\"1217.5\" y=\"-63.3\" font-family=\"Helvetica,sans-Serif\" font-size=\"14.00\" fill=\"#000000\">samples = 1</text>\n<text text-anchor=\"middle\" x=\"1217.5\" y=\"-48.3\" font-family=\"Helvetica,sans-Serif\" font-size=\"14.00\" fill=\"#000000\">value = 235000.0</text>\n</g>\n<!-- 1216&#45;&gt;1226 -->\n<g id=\"edge108\" class=\"edge\">\n<title>1216&#45;&gt;1226</title>\n<path fill=\"none\" stroke=\"#000000\" d=\"M1063.3947,-111.9237C1087.6035,-104.8665 1112.6199,-97.5739 1135.2734,-90.9701\"/>\n<polygon fill=\"#000000\" stroke=\"#000000\" points=\"1136.544,-94.2455 1145.1649,-88.0866 1134.5849,-87.5252 1136.544,-94.2455\"/>\n</g>\n<!-- 1218 -->\n<g id=\"node103\" class=\"node\">\n<title>1218</title>\n<path fill=\"#f3c4a2\" stroke=\"#000000\" d=\"M1581.5,-184C1581.5,-184 1395.5,-184 1395.5,-184 1389.5,-184 1383.5,-178 1383.5,-172 1383.5,-172 1383.5,-128 1383.5,-128 1383.5,-122 1389.5,-116 1395.5,-116 1395.5,-116 1581.5,-116 1581.5,-116 1587.5,-116 1593.5,-122 1593.5,-128 1593.5,-128 1593.5,-172 1593.5,-172 1593.5,-178 1587.5,-184 1581.5,-184\"/>\n<text text-anchor=\"middle\" x=\"1488.5\" y=\"-168.8\" font-family=\"Helvetica,sans-Serif\" font-size=\"14.00\" fill=\"#000000\">LotFrontage &lt;= 73.0</text>\n<text text-anchor=\"middle\" x=\"1488.5\" y=\"-153.8\" font-family=\"Helvetica,sans-Serif\" font-size=\"14.00\" fill=\"#000000\">squared_error = 119902500.0</text>\n<text text-anchor=\"middle\" x=\"1488.5\" y=\"-138.8\" font-family=\"Helvetica,sans-Serif\" font-size=\"14.00\" fill=\"#000000\">samples = 2</text>\n<text text-anchor=\"middle\" x=\"1488.5\" y=\"-123.8\" font-family=\"Helvetica,sans-Serif\" font-size=\"14.00\" fill=\"#000000\">value = 370050.0</text>\n</g>\n<!-- 1217&#45;&gt;1218 -->\n<g id=\"edge102\" class=\"edge\">\n<title>1217&#45;&gt;1218</title>\n<path fill=\"none\" stroke=\"#000000\" d=\"M1335.1822,-147.737C1347.8059,-147.9233 1360.6396,-148.1128 1373.2346,-148.2987\"/>\n<polygon fill=\"#000000\" stroke=\"#000000\" points=\"1373.2252,-151.7988 1383.2758,-148.4469 1373.3286,-144.7996 1373.2252,-151.7988\"/>\n</g>\n<!-- 1221 -->\n<g id=\"node106\" class=\"node\">\n<title>1221</title>\n<path fill=\"#f0b88f\" stroke=\"#000000\" d=\"M1581.5,-98C1581.5,-98 1395.5,-98 1395.5,-98 1389.5,-98 1383.5,-92 1383.5,-86 1383.5,-86 1383.5,-42 1383.5,-42 1383.5,-36 1389.5,-30 1395.5,-30 1395.5,-30 1581.5,-30 1581.5,-30 1587.5,-30 1593.5,-36 1593.5,-42 1593.5,-42 1593.5,-86 1593.5,-86 1593.5,-92 1587.5,-98 1581.5,-98\"/>\n<text text-anchor=\"middle\" x=\"1488.5\" y=\"-82.8\" font-family=\"Helvetica,sans-Serif\" font-size=\"14.00\" fill=\"#000000\">GarageQual &lt;= 2.5</text>\n<text text-anchor=\"middle\" x=\"1488.5\" y=\"-67.8\" font-family=\"Helvetica,sans-Serif\" font-size=\"14.00\" fill=\"#000000\">squared_error = 567187500.0</text>\n<text text-anchor=\"middle\" x=\"1488.5\" y=\"-52.8\" font-family=\"Helvetica,sans-Serif\" font-size=\"14.00\" fill=\"#000000\">samples = 3</text>\n<text text-anchor=\"middle\" x=\"1488.5\" y=\"-37.8\" font-family=\"Helvetica,sans-Serif\" font-size=\"14.00\" fill=\"#000000\">value = 436250.0</text>\n</g>\n<!-- 1217&#45;&gt;1221 -->\n<g id=\"edge105\" class=\"edge\">\n<title>1217&#45;&gt;1221</title>\n<path fill=\"none\" stroke=\"#000000\" d=\"M1330.0741,-111.937C1344.371,-107.611 1359.0187,-103.1788 1373.3553,-98.8408\"/>\n<polygon fill=\"#000000\" stroke=\"#000000\" points=\"1374.665,-102.1013 1383.2228,-95.8551 1372.6377,-95.4013 1374.665,-102.1013\"/>\n</g>\n<!-- 1219 -->\n<g id=\"node104\" class=\"node\">\n<title>1219</title>\n<path fill=\"#c0c0c0\" stroke=\"#000000\" d=\"M1684,-214C1684,-214 1654,-214 1654,-214 1648,-214 1642,-208 1642,-202 1642,-202 1642,-190 1642,-190 1642,-184 1648,-178 1654,-178 1654,-178 1684,-178 1684,-178 1690,-178 1696,-184 1696,-190 1696,-190 1696,-202 1696,-202 1696,-208 1690,-214 1684,-214\"/>\n<text text-anchor=\"middle\" x=\"1669\" y=\"-192.3\" font-family=\"Helvetica,sans-Serif\" font-size=\"14.00\" fill=\"#000000\">(...)</text>\n</g>\n<!-- 1218&#45;&gt;1219 -->\n<g id=\"edge103\" class=\"edge\">\n<title>1218&#45;&gt;1219</title>\n<path fill=\"none\" stroke=\"#000000\" d=\"M1593.7588,-176.825C1607.38,-180.2963 1620.5319,-183.648 1631.9261,-186.5518\"/>\n<polygon fill=\"#000000\" stroke=\"#000000\" points=\"1631.3044,-190.0052 1641.8591,-189.0832 1633.0332,-183.222 1631.3044,-190.0052\"/>\n</g>\n<!-- 1220 -->\n<g id=\"node105\" class=\"node\">\n<title>1220</title>\n<path fill=\"#c0c0c0\" stroke=\"#000000\" d=\"M1684,-160C1684,-160 1654,-160 1654,-160 1648,-160 1642,-154 1642,-148 1642,-148 1642,-136 1642,-136 1642,-130 1648,-124 1654,-124 1654,-124 1684,-124 1684,-124 1690,-124 1696,-130 1696,-136 1696,-136 1696,-148 1696,-148 1696,-154 1690,-160 1684,-160\"/>\n<text text-anchor=\"middle\" x=\"1669\" y=\"-138.3\" font-family=\"Helvetica,sans-Serif\" font-size=\"14.00\" fill=\"#000000\">(...)</text>\n</g>\n<!-- 1218&#45;&gt;1220 -->\n<g id=\"edge104\" class=\"edge\">\n<title>1218&#45;&gt;1220</title>\n<path fill=\"none\" stroke=\"#000000\" d=\"M1593.7588,-145.3348C1607.241,-144.7372 1620.2635,-144.1601 1631.5768,-143.6586\"/>\n<polygon fill=\"#000000\" stroke=\"#000000\" points=\"1632.0239,-147.1424 1641.8591,-143.2029 1631.7139,-140.1492 1632.0239,-147.1424\"/>\n</g>\n<!-- 1222 -->\n<g id=\"node107\" class=\"node\">\n<title>1222</title>\n<path fill=\"#c0c0c0\" stroke=\"#000000\" d=\"M1684,-90C1684,-90 1654,-90 1654,-90 1648,-90 1642,-84 1642,-78 1642,-78 1642,-66 1642,-66 1642,-60 1648,-54 1654,-54 1654,-54 1684,-54 1684,-54 1690,-54 1696,-60 1696,-66 1696,-66 1696,-78 1696,-78 1696,-84 1690,-90 1684,-90\"/>\n<text text-anchor=\"middle\" x=\"1669\" y=\"-68.3\" font-family=\"Helvetica,sans-Serif\" font-size=\"14.00\" fill=\"#000000\">(...)</text>\n</g>\n<!-- 1221&#45;&gt;1222 -->\n<g id=\"edge106\" class=\"edge\">\n<title>1221&#45;&gt;1222</title>\n<path fill=\"none\" stroke=\"#000000\" d=\"M1593.7588,-68.6652C1607.241,-69.2628 1620.2635,-69.8399 1631.5768,-70.3414\"/>\n<polygon fill=\"#000000\" stroke=\"#000000\" points=\"1631.7139,-73.8508 1641.8591,-70.7971 1632.0239,-66.8576 1631.7139,-73.8508\"/>\n</g>\n<!-- 1225 -->\n<g id=\"node108\" class=\"node\">\n<title>1225</title>\n<path fill=\"#c0c0c0\" stroke=\"#000000\" d=\"M1684,-36C1684,-36 1654,-36 1654,-36 1648,-36 1642,-30 1642,-24 1642,-24 1642,-12 1642,-12 1642,-6 1648,0 1654,0 1654,0 1684,0 1684,0 1690,0 1696,-6 1696,-12 1696,-12 1696,-24 1696,-24 1696,-30 1690,-36 1684,-36\"/>\n<text text-anchor=\"middle\" x=\"1669\" y=\"-14.3\" font-family=\"Helvetica,sans-Serif\" font-size=\"14.00\" fill=\"#000000\">(...)</text>\n</g>\n<!-- 1221&#45;&gt;1225 -->\n<g id=\"edge107\" class=\"edge\">\n<title>1221&#45;&gt;1225</title>\n<path fill=\"none\" stroke=\"#000000\" d=\"M1593.7588,-37.175C1607.38,-33.7037 1620.5319,-30.352 1631.9261,-27.4482\"/>\n<polygon fill=\"#000000\" stroke=\"#000000\" points=\"1633.0332,-30.778 1641.8591,-24.9168 1631.3044,-23.9948 1633.0332,-30.778\"/>\n</g>\n</g>\n</svg>\n"
          },
          "metadata": {},
          "execution_count": 14
        }
      ]
    },
    {
      "cell_type": "markdown",
      "metadata": {
        "id": "RJRX5v86A44v"
      },
      "source": [
        "From above decision tree, I can conclude that Overall Quality of house is top most factor contributing in determining house Sale Price.\n",
        "\n",
        "I will come back to this tree and features once again while working on feature selection. (to improve model performance)"
      ]
    },
    {
      "cell_type": "markdown",
      "metadata": {
        "id": "jW6B1ky56Dum"
      },
      "source": [
        " **Making Predictions on the Training Test Set and evaluate Accuracy**"
      ]
    },
    {
      "cell_type": "markdown",
      "metadata": {
        "id": "PePGIm9r_O-3"
      },
      "source": [
        "My model has now been trained to learn the relationships between the features and the targets. The next step is figuring out how good the model is! To do this I'll make predictions on the test features. I'll then compare the predictions to the known answers to calculate Accuracy."
      ]
    },
    {
      "cell_type": "code",
      "metadata": {
        "colab": {
          "base_uri": "https://localhost:8080/"
        },
        "id": "Bfe4xixg54tb",
        "outputId": "e8090c00-ac00-4cb8-de00-717ec5341ac1"
      },
      "source": [
        "def evaluate(model, test_features, test_labels):\n",
        "    predictions = model.predict(test_features)\n",
        "    errors = abs(predictions - test_labels)\n",
        "    mse = sklearn.metrics.mean_squared_error(np.log(test_labels),np.log(predictions))\n",
        "    RMSE = math.sqrt(mse)\n",
        "    print('Model Performance')\n",
        "    print('RMSE: {:0.4f} degrees.'.format(RMSE))\n",
        "    return RMSE\n",
        "base_accuracy = evaluate(base_model_regressor, X_test, y_test)"
      ],
      "execution_count": null,
      "outputs": [
        {
          "output_type": "stream",
          "name": "stdout",
          "text": [
            "Model Performance\n",
            "RMSE: 0.1398 degrees.\n"
          ]
        }
      ]
    },
    {
      "cell_type": "markdown",
      "metadata": {
        "id": "FmQiUWlY_viv"
      },
      "source": [
        "Our average estimate is off by 0.13980 degrees. That looks pretty good! Our model has learned how to predict the house sale price with 90.19% accuracy."
      ]
    },
    {
      "cell_type": "markdown",
      "metadata": {
        "id": "AF4f17Q7BXzR"
      },
      "source": [
        "# **Making Predications on actual Test data**"
      ]
    },
    {
      "cell_type": "code",
      "metadata": {
        "id": "vPlh4AbwBqns"
      },
      "source": [
        "# Reading test data\n",
        "URL = \"https://raw.githubusercontent.com/swapnilsethi/Stat-5000/master/X_test.csv\"\n",
        "\n",
        "test_data_read = pd.read_csv(URL)\n",
        "# Removing unwanted columns\n",
        "nan_replacer_identification_columns = [feature for feature in test_data_read if 'nan' in feature]\n",
        "test_data = test_data_read.drop(['Unnamed: 0'],axis=1)\n",
        "test_data = test_data.drop(nan_replacer_identification_columns, axis=1)\n",
        "test_data = np.array(test_data)\n",
        "\n",
        "# Making Predications\n",
        "\n",
        "Y_pred = base_model_regressor.predict(test_data)"
      ],
      "execution_count": null,
      "outputs": []
    },
    {
      "cell_type": "markdown",
      "metadata": {
        "id": "9kaEl_F5CwXd"
      },
      "source": [
        "Now that I've created predictions with our model, but since this is a Kaggle competition problem, I can submit the prediction file and have it checked for correctness."
      ]
    },
    {
      "cell_type": "markdown",
      "metadata": {
        "id": "pfftGWiZDLzz"
      },
      "source": [
        "**Predication File Generator**"
      ]
    },
    {
      "cell_type": "code",
      "metadata": {
        "id": "ZrLtyWVwDYUJ"
      },
      "source": [
        "def Predications_file_generator(predications):\n",
        "    ID = test_data_read.iloc[:, 1].values \n",
        "    pred = pd.DataFrame(ID, columns=['Id'])\n",
        "    pred['SalePrice'] = predications.tolist()\n",
        "\n",
        "    pred.to_csv('pred.csv')\n",
        "    files.download('pred.csv')"
      ],
      "execution_count": null,
      "outputs": []
    },
    {
      "cell_type": "code",
      "metadata": {
        "id": "mWeHRP84EoBj"
      },
      "source": [
        "Predications_file_generator(Y_pred)"
      ],
      "execution_count": null,
      "outputs": []
    },
    {
      "cell_type": "markdown",
      "metadata": {
        "id": "zMVeTCO5INeY"
      },
      "source": [
        "With this Model and Parameters I got **RMSE(calculated on logarithmic values) of 0.14916** (***Rank 2820***), which I think is pretty good in a first try. \n",
        "\n",
        "FYI: Submissions are evaluated on Root-Mean-Squared-Error (RMSE) between the logarithm of the predicted value and the logarithm of the observed sales price. (Taking logs means that errors in predicting expensive houses and cheap houses will affect the result equally.)"
      ]
    },
    {
      "cell_type": "markdown",
      "metadata": {
        "id": "uZv8ZU2dKOoj"
      },
      "source": [
        "# **Hyperparameter Tuning**"
      ]
    },
    {
      "cell_type": "markdown",
      "metadata": {
        "id": "iH_tZJLVJXZI"
      },
      "source": [
        "Though I thought I obtained really decent results with the RF model with 100 decision trees and Random test=42, I still have a lot of room to increase my rank and minimize RMSE. \n",
        "\n",
        "Now, in order to increase my model's performance, I'll try to find the best-suited parameters for it using the Random Search method."
      ]
    },
    {
      "cell_type": "markdown",
      "metadata": {
        "id": "h0Wz61wHL0iW"
      },
      "source": [
        "What is Hyperparameters? \n",
        "Hyperparmeters is like the setting of an algorithm that can be adjusted to optimize the performace.\n",
        "\n",
        "In the case of a random forest, hyperparameters include the number of decision trees in the forest and the number of features considered by each tree when splitting a node. (The parameters of a random forest are the variables and thresholds used to split each node learned during training).\n",
        "\n",
        "Overfitting: If I optimize the model for the training data, then my model will score very well on the training set, but will not be able to generalize to new data, such as in a test set. When a model performs highly on the training set but poorly on the test set, this is known as overfitting, or essentially creating a model that knows the training set very well but cannot be applied to new problems.\n"
      ]
    },
    {
      "cell_type": "markdown",
      "metadata": {
        "id": "4byDuvMbM0Bv"
      },
      "source": [
        "I can overcome issue of Overfitting with Cross Validation. I'm using most common K-fold cross validation technique for the same. \n",
        "\n",
        "K-folds cross validation - \n",
        "In K-Fold CV, I'll split our training set into K number of subsets, called folds. Then iteratively fit the model K times, each time training the data on K-1 of the folds and evaluating on the Kth fold (called the validation data).\n",
        "\n",
        "For example, consider fitting a model with K = 5. The first iteration I'll train on the first four folds and evaluate on the fifth. The second time I'll train on the first, second, third, and fifth fold and evaluate on the fourth. I'll repeat this procedure 3 more times, each time evaluating on a different fold. At the very end of training, I'll average the performance on each of the folds to come up with final validation metrics for the model."
      ]
    },
    {
      "cell_type": "markdown",
      "metadata": {
        "id": "XGnSAb61ApKi"
      },
      "source": [
        "**Random Search Cross Validation**"
      ]
    },
    {
      "cell_type": "markdown",
      "metadata": {
        "id": "1qnAK8LfB32o"
      },
      "source": [
        "First, let's check the default parameters in RF model."
      ]
    },
    {
      "cell_type": "code",
      "metadata": {
        "colab": {
          "base_uri": "https://localhost:8080/"
        },
        "id": "l4q3iPSN35lD",
        "outputId": "1841b229-5a0c-4279-e554-10a13dbf090e"
      },
      "source": [
        "from pprint import pprint\n",
        "# Look at parameters used by our base model\n",
        "print('Parameters currently in use:\\n')\n",
        "pprint(base_model_regressor.get_params())"
      ],
      "execution_count": null,
      "outputs": [
        {
          "output_type": "stream",
          "name": "stdout",
          "text": [
            "Parameters currently in use:\n",
            "\n",
            "{'bootstrap': True,\n",
            " 'ccp_alpha': 0.0,\n",
            " 'criterion': 'squared_error',\n",
            " 'max_depth': None,\n",
            " 'max_features': 'auto',\n",
            " 'max_leaf_nodes': None,\n",
            " 'max_samples': None,\n",
            " 'min_impurity_decrease': 0.0,\n",
            " 'min_samples_leaf': 1,\n",
            " 'min_samples_split': 2,\n",
            " 'min_weight_fraction_leaf': 0.0,\n",
            " 'n_estimators': 100,\n",
            " 'n_jobs': None,\n",
            " 'oob_score': False,\n",
            " 'random_state': 42,\n",
            " 'verbose': 0,\n",
            " 'warm_start': False}\n"
          ]
        }
      ]
    },
    {
      "cell_type": "markdown",
      "metadata": {
        "id": "VEfF38weDLiU"
      },
      "source": [
        "\n",
        "*  n_estimators = number of trees in the foreset\n",
        "*  max_features = max number of features considered for splitting a node\n",
        "*  max_depth = max number of levels in each decision tree\n",
        "*  min_samples_split = min number of data points placed in a node before the node is split\n",
        "*  min_samples_leaf = min number of data points allowed in a leaf node\n",
        "*  bootstrap = method for sampling data points (with or without replacement)\n",
        "\n",
        "I have tried to understand meaning and working of these parameters using above tree diagram.\n",
        "\n",
        "\n",
        "\n"
      ]
    },
    {
      "cell_type": "markdown",
      "metadata": {
        "id": "2Ufb6EExTUct"
      },
      "source": [
        "I have used this Random forest [documentation](https://scikit-learn.org/stable/modules/generated/sklearn.ensemble.RandomForestClassifier.html) for better understanding of all these parameters."
      ]
    },
    {
      "cell_type": "markdown",
      "metadata": {
        "id": "gQ6eDGXTCRC1"
      },
      "source": [
        "Currently, I only have vague idea of best hyperparamters; so best approch to find best hyperparameters is narrow my search to evaluate a wide range of values for each hyperparameter"
      ]
    },
    {
      "cell_type": "code",
      "metadata": {
        "colab": {
          "base_uri": "https://localhost:8080/"
        },
        "id": "nCZcoPU0BGxf",
        "outputId": "95ec0f31-6464-4891-9ac1-5c87d565ca3a"
      },
      "source": [
        "#https://towardsdatascience.com/hyperparameter-tuning-the-random-forest-in-python-using-scikit-learn-28d2aa77dd74\n",
        "#Random Hyperparameter Grid \n",
        "from sklearn.model_selection import RandomizedSearchCV\n",
        "\n",
        "# Number of trees in random forest\n",
        "n_estimators = [int(x) for x in np.linspace(start = 100, stop = 800, num = 10)]\n",
        "\n",
        "# Number of features to consider at every split\n",
        "max_features = ['auto', 'sqrt']\n",
        "\n",
        "# Maximum number of levels in tree\n",
        "max_depth = [int(x) for x in np.linspace(10, 100, num = 5)]\n",
        "max_depth.append(None)\n",
        "\n",
        "# Minimum number of samples required to split a node\n",
        "min_samples_split = [2,3, 5, 7, 10]\n",
        "\n",
        "# Minimum number of samples required at each leaf node\n",
        "min_samples_leaf = [1, 2, 4, 5]\n",
        "\n",
        "# Method of selecting samples for training each tree\n",
        "bootstrap = [True, False]\n",
        "\n",
        "\n",
        "# Create the random grid\n",
        "random_grid = {'n_estimators': n_estimators,\n",
        "               'max_features': max_features,\n",
        "               'max_depth': max_depth,\n",
        "               'min_samples_split': min_samples_split,\n",
        "               'min_samples_leaf': min_samples_leaf,\n",
        "               'bootstrap': bootstrap\n",
        "               }\n",
        "pprint(random_grid)"
      ],
      "execution_count": null,
      "outputs": [
        {
          "output_type": "stream",
          "name": "stdout",
          "text": [
            "{'bootstrap': [True, False],\n",
            " 'max_depth': [10, 32, 55, 77, 100, None],\n",
            " 'max_features': ['auto', 'sqrt'],\n",
            " 'min_samples_leaf': [1, 2, 4, 5],\n",
            " 'min_samples_split': [2, 3, 5, 7, 10],\n",
            " 'n_estimators': [100, 177, 255, 333, 411, 488, 566, 644, 722, 800]}\n"
          ]
        }
      ]
    },
    {
      "cell_type": "markdown",
      "metadata": {
        "id": "nZ5zLkBxF3Y5"
      },
      "source": [
        "Now, I am using RandomizedSearchCV function in Scikit to find best hyperparameters"
      ]
    },
    {
      "cell_type": "markdown",
      "metadata": {
        "id": "mjeoNBFRGbxP"
      },
      "source": [
        "I am using 3 fold cross validation and running 10 jobs in parallel."
      ]
    },
    {
      "cell_type": "code",
      "metadata": {
        "colab": {
          "base_uri": "https://localhost:8080/"
        },
        "id": "__ARvsK0BrF-",
        "outputId": "e3257e14-741b-495d-eb03-8e252b74d88f"
      },
      "source": [
        "#Random Search Training\n",
        "# Use the random grid to search for best hyperparameters\n",
        "# First create the base model to tune\n",
        "regressor = RandomForestRegressor()\n",
        "# Random search of parameters, using 3 fold cross validation, \n",
        "# search across 100 different combinations, and use all available cores\n",
        "# n_jobs =  Number of jobs to run in parallel; verbose = Controls the verbosity when fitting and predicting.\n",
        "rf_random = RandomizedSearchCV(estimator = regressor, param_distributions = random_grid, n_iter = 100, cv = 3, verbose=5, random_state=42, n_jobs = 10)\n",
        "# Fit the random search model\n",
        "rf_random.fit(X_train, y_train)"
      ],
      "execution_count": null,
      "outputs": [
        {
          "output_type": "stream",
          "name": "stdout",
          "text": [
            "Fitting 3 folds for each of 100 candidates, totalling 300 fits\n"
          ]
        },
        {
          "output_type": "execute_result",
          "data": {
            "text/plain": [
              "RandomizedSearchCV(cv=3, estimator=RandomForestRegressor(), n_iter=100,\n",
              "                   n_jobs=10,\n",
              "                   param_distributions={'bootstrap': [True, False],\n",
              "                                        'max_depth': [10, 32, 55, 77, 100,\n",
              "                                                      None],\n",
              "                                        'max_features': ['auto', 'sqrt'],\n",
              "                                        'min_samples_leaf': [1, 2, 4, 5],\n",
              "                                        'min_samples_split': [2, 3, 5, 7, 10],\n",
              "                                        'n_estimators': [100, 177, 255, 333,\n",
              "                                                         411, 488, 566, 644,\n",
              "                                                         722, 800]},\n",
              "                   random_state=42, verbose=5)"
            ]
          },
          "metadata": {},
          "execution_count": 21
        }
      ]
    },
    {
      "cell_type": "markdown",
      "metadata": {
        "id": "Y6bT9V5dIF0j"
      },
      "source": [
        "Now, Let's look at our best parameters accoring to above Random Search Method."
      ]
    },
    {
      "cell_type": "code",
      "metadata": {
        "colab": {
          "base_uri": "https://localhost:8080/"
        },
        "id": "h67gpj7OCqzZ",
        "outputId": "a310a113-df36-4595-86e0-09d7f122a0a1"
      },
      "source": [
        "rf_random.best_params_"
      ],
      "execution_count": null,
      "outputs": [
        {
          "output_type": "execute_result",
          "data": {
            "text/plain": [
              "{'bootstrap': False,\n",
              " 'max_depth': 55,\n",
              " 'max_features': 'sqrt',\n",
              " 'min_samples_leaf': 1,\n",
              " 'min_samples_split': 7,\n",
              " 'n_estimators': 488}"
            ]
          },
          "metadata": {},
          "execution_count": 22
        }
      ]
    },
    {
      "cell_type": "code",
      "metadata": {
        "colab": {
          "base_uri": "https://localhost:8080/"
        },
        "id": "xgMlEEw5f4gV",
        "outputId": "219a3a1b-ae0b-4bec-f016-b1bd3ca8b923"
      },
      "source": [
        "regressor = RandomForestRegressor(bootstrap= False,\n",
        " max_depth= 55,\n",
        " max_features= 'sqrt',\n",
        " min_samples_leaf=  1,\n",
        " min_samples_split= 7,\n",
        " n_estimators= 488)\n",
        "regressor.fit(X_train, y_train)"
      ],
      "execution_count": null,
      "outputs": [
        {
          "output_type": "execute_result",
          "data": {
            "text/plain": [
              "RandomForestRegressor(bootstrap=False, max_depth=55, max_features='sqrt',\n",
              "                      min_samples_split=7, n_estimators=488)"
            ]
          },
          "metadata": {},
          "execution_count": 23
        }
      ]
    },
    {
      "cell_type": "markdown",
      "metadata": {
        "id": "ye634wS1XdDe"
      },
      "source": [
        "Evaluate Random Search.\n",
        "\n",
        "I already wrote a function to evaluate performance of model, I will call same function here."
      ]
    },
    {
      "cell_type": "code",
      "metadata": {
        "colab": {
          "base_uri": "https://localhost:8080/"
        },
        "id": "Zz80kP_tXgKG",
        "outputId": "e23a3707-0ac1-41e5-8e77-c1bc8c4996fa"
      },
      "source": [
        "Hyperparameter_model = evaluate(regressor, X_test, y_test)"
      ],
      "execution_count": null,
      "outputs": [
        {
          "output_type": "stream",
          "name": "stdout",
          "text": [
            "Model Performance\n",
            "RMSE: 0.1405 degrees.\n"
          ]
        }
      ]
    },
    {
      "cell_type": "markdown",
      "metadata": {
        "id": "JSIkATQuYK5c"
      },
      "source": [
        "Compared to our base model Avg error got reduced and accuracy is also little improved.\n",
        "\n",
        "I was expecting it as my training dataset is pretty small and for such small dataset 100 decision trees are also sufficient."
      ]
    },
    {
      "cell_type": "markdown",
      "metadata": {
        "id": "NjD4YnX9VW44"
      },
      "source": [
        "Predication file generation"
      ]
    },
    {
      "cell_type": "code",
      "metadata": {
        "id": "P2cYEeQ6YmnB"
      },
      "source": [
        "Y_pred_hyperparameter = base_model_regressor.predict(test_data)\n",
        "Predications_file_generator(Y_pred_hyperparameter)"
      ],
      "execution_count": null,
      "outputs": []
    },
    {
      "cell_type": "markdown",
      "metadata": {
        "id": "XFTUWaVrJKCJ"
      },
      "source": [
        "**Grid Search with Cross Validation**"
      ]
    },
    {
      "cell_type": "markdown",
      "metadata": {
        "id": "olsp9iuAVCKm"
      },
      "source": [
        "Further to improve my results, I'm trying grid search to focus on the most promising hyperparameters ranges found in the random search.\n",
        "\n",
        "Random search allowed me to narrow down the range for each hyperparameter. Now that I know where to concentrate my search, I can explicitly specify every combination of settings to try. I'll do this with GridSearchCV, a method that, instead of sampling randomly from a distribution, evaluates all combinations I'll define. To use Grid Search, I'll make another grid based on the best values provided by random search:\n"
      ]
    },
    {
      "cell_type": "code",
      "metadata": {
        "id": "1NZ_Q5ClJOTh"
      },
      "source": [
        "from sklearn.model_selection import GridSearchCV\n",
        "# Create the parameter grid based on the results of random search \n",
        "param_grid = {\n",
        "    'bootstrap': [False],\n",
        "    'max_depth': [45,50, 55, 60, 70],\n",
        "    'max_features': ['sqrt'],\n",
        "    'min_samples_leaf': [1, 2, 3, 4],\n",
        "    'min_samples_split': [5, 6 , 7, 8],\n",
        "    'n_estimators': [425, 450, 475, 500]\n",
        "}\n",
        "# Create a based model\n",
        "GSBM = RandomForestRegressor()\n",
        "# Instantiate the grid search model\n",
        "grid_search = GridSearchCV(estimator = GSBM, param_grid = param_grid, \n",
        "                          cv = 3, n_jobs = 10, verbose = 5)"
      ],
      "execution_count": null,
      "outputs": []
    },
    {
      "cell_type": "code",
      "metadata": {
        "colab": {
          "base_uri": "https://localhost:8080/"
        },
        "id": "b41Tl_4BJYhq",
        "outputId": "574d298f-7f82-4041-a7d6-e8ce45df85be"
      },
      "source": [
        "# Fit the grid search to the data\n",
        "grid_search.fit(X_train, y_train)\n"
      ],
      "execution_count": null,
      "outputs": [
        {
          "output_type": "stream",
          "name": "stdout",
          "text": [
            "Fitting 3 folds for each of 320 candidates, totalling 960 fits\n"
          ]
        },
        {
          "output_type": "execute_result",
          "data": {
            "text/plain": [
              "GridSearchCV(cv=3, estimator=RandomForestRegressor(), n_jobs=10,\n",
              "             param_grid={'bootstrap': [False],\n",
              "                         'max_depth': [45, 50, 55, 60, 70],\n",
              "                         'max_features': ['sqrt'],\n",
              "                         'min_samples_leaf': [1, 2, 3, 4],\n",
              "                         'min_samples_split': [5, 6, 7, 8],\n",
              "                         'n_estimators': [425, 450, 475, 500]},\n",
              "             verbose=5)"
            ]
          },
          "metadata": {},
          "execution_count": 32
        }
      ]
    },
    {
      "cell_type": "code",
      "metadata": {
        "colab": {
          "base_uri": "https://localhost:8080/"
        },
        "id": "dGCSYkuDJZtv",
        "outputId": "cc051ac8-f635-493c-d523-dc73e8d1a9b1"
      },
      "source": [
        "grid_search.best_params_"
      ],
      "execution_count": null,
      "outputs": [
        {
          "output_type": "execute_result",
          "data": {
            "text/plain": [
              "{'bootstrap': False,\n",
              " 'max_depth': 120,\n",
              " 'max_features': 'sqrt',\n",
              " 'min_samples_leaf': 1,\n",
              " 'min_samples_split': 3,\n",
              " 'n_estimators': 500}"
            ]
          },
          "metadata": {},
          "execution_count": 25
        }
      ]
    },
    {
      "cell_type": "code",
      "metadata": {
        "colab": {
          "base_uri": "https://localhost:8080/"
        },
        "id": "o4IuOsedtUJR",
        "outputId": "46659f34-2ef5-48dc-b33b-f00e256e860f"
      },
      "source": [
        "GSregressor = RandomForestRegressor(bootstrap= False,\n",
        " max_depth= 120,\n",
        " max_features= 'sqrt',\n",
        " min_samples_leaf= 1,\n",
        " min_samples_split= 3,\n",
        " n_estimators= 500)\n",
        "GSregressor.fit(X_test, y_test)"
      ],
      "execution_count": null,
      "outputs": [
        {
          "output_type": "execute_result",
          "data": {
            "text/plain": [
              "RandomForestRegressor(bootstrap=False, max_depth=120, max_features='sqrt',\n",
              "                      min_samples_split=3, n_estimators=500)"
            ]
          },
          "metadata": {},
          "execution_count": 28
        }
      ]
    },
    {
      "cell_type": "code",
      "metadata": {
        "colab": {
          "base_uri": "https://localhost:8080/"
        },
        "id": "v7kLuHd93GYT",
        "outputId": "b7331e8d-b0f2-4862-f7b5-1fb49ba50def"
      },
      "source": [
        "GSHyperparameter_model = evaluate(GSregressor, X_test, y_test)"
      ],
      "execution_count": null,
      "outputs": [
        {
          "output_type": "stream",
          "name": "stdout",
          "text": [
            "Model Performance\n",
            "Average Error: 897.3349 degrees.\n",
            "Accuracy = 99.48%.\n"
          ]
        }
      ]
    },
    {
      "cell_type": "code",
      "metadata": {
        "id": "5Z1H4lHstf2_"
      },
      "source": [
        "Y_pred_GShyperparameter = GSregressor.predict(test_data)\n",
        "Predications_file_generator(Y_pred_GShyperparameter)"
      ],
      "execution_count": null,
      "outputs": []
    }
  ]
}